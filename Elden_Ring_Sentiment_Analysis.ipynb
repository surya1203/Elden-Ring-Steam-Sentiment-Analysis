{
  "nbformat": 4,
  "nbformat_minor": 0,
  "metadata": {
    "colab": {
      "provenance": [],
      "machine_shape": "hm",
      "gpuType": "A100"
    },
    "kernelspec": {
      "name": "python3",
      "display_name": "Python 3"
    },
    "language_info": {
      "name": "python"
    },
    "accelerator": "GPU",
    "widgets": {
      "application/vnd.jupyter.widget-state+json": {
        "a54e816ca88144b2826917f7bac272c7": {
          "model_module": "@jupyter-widgets/controls",
          "model_name": "HBoxModel",
          "model_module_version": "1.5.0",
          "state": {
            "_dom_classes": [],
            "_model_module": "@jupyter-widgets/controls",
            "_model_module_version": "1.5.0",
            "_model_name": "HBoxModel",
            "_view_count": null,
            "_view_module": "@jupyter-widgets/controls",
            "_view_module_version": "1.5.0",
            "_view_name": "HBoxView",
            "box_style": "",
            "children": [
              "IPY_MODEL_5e5fd3cc19c541e1906697d2767a0028",
              "IPY_MODEL_d02ce3a01aee461d840afcdc9f7d6a1d",
              "IPY_MODEL_f2879224808442bcab2ee545f1c98bf8"
            ],
            "layout": "IPY_MODEL_91cd3774b1ca4d62ab0b3925f08b64fd"
          }
        },
        "5e5fd3cc19c541e1906697d2767a0028": {
          "model_module": "@jupyter-widgets/controls",
          "model_name": "HTMLModel",
          "model_module_version": "1.5.0",
          "state": {
            "_dom_classes": [],
            "_model_module": "@jupyter-widgets/controls",
            "_model_module_version": "1.5.0",
            "_model_name": "HTMLModel",
            "_view_count": null,
            "_view_module": "@jupyter-widgets/controls",
            "_view_module_version": "1.5.0",
            "_view_name": "HTMLView",
            "description": "",
            "description_tooltip": null,
            "layout": "IPY_MODEL_4edf781f819d403e912424e37be101f5",
            "placeholder": "​",
            "style": "IPY_MODEL_4e2c322282e64096ad7d8135230e9b6e",
            "value": "Downloading (…)solve/main/vocab.txt: 100%"
          }
        },
        "d02ce3a01aee461d840afcdc9f7d6a1d": {
          "model_module": "@jupyter-widgets/controls",
          "model_name": "FloatProgressModel",
          "model_module_version": "1.5.0",
          "state": {
            "_dom_classes": [],
            "_model_module": "@jupyter-widgets/controls",
            "_model_module_version": "1.5.0",
            "_model_name": "FloatProgressModel",
            "_view_count": null,
            "_view_module": "@jupyter-widgets/controls",
            "_view_module_version": "1.5.0",
            "_view_name": "ProgressView",
            "bar_style": "success",
            "description": "",
            "description_tooltip": null,
            "layout": "IPY_MODEL_13f9d9a166c44be3a915cc19109438a1",
            "max": 231508,
            "min": 0,
            "orientation": "horizontal",
            "style": "IPY_MODEL_d730787f49ff46bfb06e44bfac07de91",
            "value": 231508
          }
        },
        "f2879224808442bcab2ee545f1c98bf8": {
          "model_module": "@jupyter-widgets/controls",
          "model_name": "HTMLModel",
          "model_module_version": "1.5.0",
          "state": {
            "_dom_classes": [],
            "_model_module": "@jupyter-widgets/controls",
            "_model_module_version": "1.5.0",
            "_model_name": "HTMLModel",
            "_view_count": null,
            "_view_module": "@jupyter-widgets/controls",
            "_view_module_version": "1.5.0",
            "_view_name": "HTMLView",
            "description": "",
            "description_tooltip": null,
            "layout": "IPY_MODEL_dc0b931def1f41f1a520cbc24cc87838",
            "placeholder": "​",
            "style": "IPY_MODEL_a3c4fab5442743cbbf189deb5af09530",
            "value": " 232k/232k [00:00&lt;00:00, 12.1MB/s]"
          }
        },
        "91cd3774b1ca4d62ab0b3925f08b64fd": {
          "model_module": "@jupyter-widgets/base",
          "model_name": "LayoutModel",
          "model_module_version": "1.2.0",
          "state": {
            "_model_module": "@jupyter-widgets/base",
            "_model_module_version": "1.2.0",
            "_model_name": "LayoutModel",
            "_view_count": null,
            "_view_module": "@jupyter-widgets/base",
            "_view_module_version": "1.2.0",
            "_view_name": "LayoutView",
            "align_content": null,
            "align_items": null,
            "align_self": null,
            "border": null,
            "bottom": null,
            "display": null,
            "flex": null,
            "flex_flow": null,
            "grid_area": null,
            "grid_auto_columns": null,
            "grid_auto_flow": null,
            "grid_auto_rows": null,
            "grid_column": null,
            "grid_gap": null,
            "grid_row": null,
            "grid_template_areas": null,
            "grid_template_columns": null,
            "grid_template_rows": null,
            "height": null,
            "justify_content": null,
            "justify_items": null,
            "left": null,
            "margin": null,
            "max_height": null,
            "max_width": null,
            "min_height": null,
            "min_width": null,
            "object_fit": null,
            "object_position": null,
            "order": null,
            "overflow": null,
            "overflow_x": null,
            "overflow_y": null,
            "padding": null,
            "right": null,
            "top": null,
            "visibility": null,
            "width": null
          }
        },
        "4edf781f819d403e912424e37be101f5": {
          "model_module": "@jupyter-widgets/base",
          "model_name": "LayoutModel",
          "model_module_version": "1.2.0",
          "state": {
            "_model_module": "@jupyter-widgets/base",
            "_model_module_version": "1.2.0",
            "_model_name": "LayoutModel",
            "_view_count": null,
            "_view_module": "@jupyter-widgets/base",
            "_view_module_version": "1.2.0",
            "_view_name": "LayoutView",
            "align_content": null,
            "align_items": null,
            "align_self": null,
            "border": null,
            "bottom": null,
            "display": null,
            "flex": null,
            "flex_flow": null,
            "grid_area": null,
            "grid_auto_columns": null,
            "grid_auto_flow": null,
            "grid_auto_rows": null,
            "grid_column": null,
            "grid_gap": null,
            "grid_row": null,
            "grid_template_areas": null,
            "grid_template_columns": null,
            "grid_template_rows": null,
            "height": null,
            "justify_content": null,
            "justify_items": null,
            "left": null,
            "margin": null,
            "max_height": null,
            "max_width": null,
            "min_height": null,
            "min_width": null,
            "object_fit": null,
            "object_position": null,
            "order": null,
            "overflow": null,
            "overflow_x": null,
            "overflow_y": null,
            "padding": null,
            "right": null,
            "top": null,
            "visibility": null,
            "width": null
          }
        },
        "4e2c322282e64096ad7d8135230e9b6e": {
          "model_module": "@jupyter-widgets/controls",
          "model_name": "DescriptionStyleModel",
          "model_module_version": "1.5.0",
          "state": {
            "_model_module": "@jupyter-widgets/controls",
            "_model_module_version": "1.5.0",
            "_model_name": "DescriptionStyleModel",
            "_view_count": null,
            "_view_module": "@jupyter-widgets/base",
            "_view_module_version": "1.2.0",
            "_view_name": "StyleView",
            "description_width": ""
          }
        },
        "13f9d9a166c44be3a915cc19109438a1": {
          "model_module": "@jupyter-widgets/base",
          "model_name": "LayoutModel",
          "model_module_version": "1.2.0",
          "state": {
            "_model_module": "@jupyter-widgets/base",
            "_model_module_version": "1.2.0",
            "_model_name": "LayoutModel",
            "_view_count": null,
            "_view_module": "@jupyter-widgets/base",
            "_view_module_version": "1.2.0",
            "_view_name": "LayoutView",
            "align_content": null,
            "align_items": null,
            "align_self": null,
            "border": null,
            "bottom": null,
            "display": null,
            "flex": null,
            "flex_flow": null,
            "grid_area": null,
            "grid_auto_columns": null,
            "grid_auto_flow": null,
            "grid_auto_rows": null,
            "grid_column": null,
            "grid_gap": null,
            "grid_row": null,
            "grid_template_areas": null,
            "grid_template_columns": null,
            "grid_template_rows": null,
            "height": null,
            "justify_content": null,
            "justify_items": null,
            "left": null,
            "margin": null,
            "max_height": null,
            "max_width": null,
            "min_height": null,
            "min_width": null,
            "object_fit": null,
            "object_position": null,
            "order": null,
            "overflow": null,
            "overflow_x": null,
            "overflow_y": null,
            "padding": null,
            "right": null,
            "top": null,
            "visibility": null,
            "width": null
          }
        },
        "d730787f49ff46bfb06e44bfac07de91": {
          "model_module": "@jupyter-widgets/controls",
          "model_name": "ProgressStyleModel",
          "model_module_version": "1.5.0",
          "state": {
            "_model_module": "@jupyter-widgets/controls",
            "_model_module_version": "1.5.0",
            "_model_name": "ProgressStyleModel",
            "_view_count": null,
            "_view_module": "@jupyter-widgets/base",
            "_view_module_version": "1.2.0",
            "_view_name": "StyleView",
            "bar_color": null,
            "description_width": ""
          }
        },
        "dc0b931def1f41f1a520cbc24cc87838": {
          "model_module": "@jupyter-widgets/base",
          "model_name": "LayoutModel",
          "model_module_version": "1.2.0",
          "state": {
            "_model_module": "@jupyter-widgets/base",
            "_model_module_version": "1.2.0",
            "_model_name": "LayoutModel",
            "_view_count": null,
            "_view_module": "@jupyter-widgets/base",
            "_view_module_version": "1.2.0",
            "_view_name": "LayoutView",
            "align_content": null,
            "align_items": null,
            "align_self": null,
            "border": null,
            "bottom": null,
            "display": null,
            "flex": null,
            "flex_flow": null,
            "grid_area": null,
            "grid_auto_columns": null,
            "grid_auto_flow": null,
            "grid_auto_rows": null,
            "grid_column": null,
            "grid_gap": null,
            "grid_row": null,
            "grid_template_areas": null,
            "grid_template_columns": null,
            "grid_template_rows": null,
            "height": null,
            "justify_content": null,
            "justify_items": null,
            "left": null,
            "margin": null,
            "max_height": null,
            "max_width": null,
            "min_height": null,
            "min_width": null,
            "object_fit": null,
            "object_position": null,
            "order": null,
            "overflow": null,
            "overflow_x": null,
            "overflow_y": null,
            "padding": null,
            "right": null,
            "top": null,
            "visibility": null,
            "width": null
          }
        },
        "a3c4fab5442743cbbf189deb5af09530": {
          "model_module": "@jupyter-widgets/controls",
          "model_name": "DescriptionStyleModel",
          "model_module_version": "1.5.0",
          "state": {
            "_model_module": "@jupyter-widgets/controls",
            "_model_module_version": "1.5.0",
            "_model_name": "DescriptionStyleModel",
            "_view_count": null,
            "_view_module": "@jupyter-widgets/base",
            "_view_module_version": "1.2.0",
            "_view_name": "StyleView",
            "description_width": ""
          }
        },
        "3da6bada4a694703b115cf6b1dddc18a": {
          "model_module": "@jupyter-widgets/controls",
          "model_name": "HBoxModel",
          "model_module_version": "1.5.0",
          "state": {
            "_dom_classes": [],
            "_model_module": "@jupyter-widgets/controls",
            "_model_module_version": "1.5.0",
            "_model_name": "HBoxModel",
            "_view_count": null,
            "_view_module": "@jupyter-widgets/controls",
            "_view_module_version": "1.5.0",
            "_view_name": "HBoxView",
            "box_style": "",
            "children": [
              "IPY_MODEL_54bca0a092ff491d861100914ee77182",
              "IPY_MODEL_3cb18d2031fd416ab614a4f25c9be5dd",
              "IPY_MODEL_43e89f5a56f94fb6ad4c1ed359cf2d6b"
            ],
            "layout": "IPY_MODEL_f8722cc2fee646bb8738315ba63f6f11"
          }
        },
        "54bca0a092ff491d861100914ee77182": {
          "model_module": "@jupyter-widgets/controls",
          "model_name": "HTMLModel",
          "model_module_version": "1.5.0",
          "state": {
            "_dom_classes": [],
            "_model_module": "@jupyter-widgets/controls",
            "_model_module_version": "1.5.0",
            "_model_name": "HTMLModel",
            "_view_count": null,
            "_view_module": "@jupyter-widgets/controls",
            "_view_module_version": "1.5.0",
            "_view_name": "HTMLView",
            "description": "",
            "description_tooltip": null,
            "layout": "IPY_MODEL_3f37dfe8ffb1406e9c70ffabe88e457b",
            "placeholder": "​",
            "style": "IPY_MODEL_649fd374594e4a388401806cbf8303d9",
            "value": "Downloading (…)okenizer_config.json: 100%"
          }
        },
        "3cb18d2031fd416ab614a4f25c9be5dd": {
          "model_module": "@jupyter-widgets/controls",
          "model_name": "FloatProgressModel",
          "model_module_version": "1.5.0",
          "state": {
            "_dom_classes": [],
            "_model_module": "@jupyter-widgets/controls",
            "_model_module_version": "1.5.0",
            "_model_name": "FloatProgressModel",
            "_view_count": null,
            "_view_module": "@jupyter-widgets/controls",
            "_view_module_version": "1.5.0",
            "_view_name": "ProgressView",
            "bar_style": "success",
            "description": "",
            "description_tooltip": null,
            "layout": "IPY_MODEL_2d5f8555928343f89ac3253af540b085",
            "max": 28,
            "min": 0,
            "orientation": "horizontal",
            "style": "IPY_MODEL_a2e9faafdd7e4bd4922a0e5627854b3a",
            "value": 28
          }
        },
        "43e89f5a56f94fb6ad4c1ed359cf2d6b": {
          "model_module": "@jupyter-widgets/controls",
          "model_name": "HTMLModel",
          "model_module_version": "1.5.0",
          "state": {
            "_dom_classes": [],
            "_model_module": "@jupyter-widgets/controls",
            "_model_module_version": "1.5.0",
            "_model_name": "HTMLModel",
            "_view_count": null,
            "_view_module": "@jupyter-widgets/controls",
            "_view_module_version": "1.5.0",
            "_view_name": "HTMLView",
            "description": "",
            "description_tooltip": null,
            "layout": "IPY_MODEL_0c0e8d6db8b443b0b499c6a7db518caf",
            "placeholder": "​",
            "style": "IPY_MODEL_d05fe464ab404c52bcb88c41f2d7c695",
            "value": " 28.0/28.0 [00:00&lt;00:00, 2.20kB/s]"
          }
        },
        "f8722cc2fee646bb8738315ba63f6f11": {
          "model_module": "@jupyter-widgets/base",
          "model_name": "LayoutModel",
          "model_module_version": "1.2.0",
          "state": {
            "_model_module": "@jupyter-widgets/base",
            "_model_module_version": "1.2.0",
            "_model_name": "LayoutModel",
            "_view_count": null,
            "_view_module": "@jupyter-widgets/base",
            "_view_module_version": "1.2.0",
            "_view_name": "LayoutView",
            "align_content": null,
            "align_items": null,
            "align_self": null,
            "border": null,
            "bottom": null,
            "display": null,
            "flex": null,
            "flex_flow": null,
            "grid_area": null,
            "grid_auto_columns": null,
            "grid_auto_flow": null,
            "grid_auto_rows": null,
            "grid_column": null,
            "grid_gap": null,
            "grid_row": null,
            "grid_template_areas": null,
            "grid_template_columns": null,
            "grid_template_rows": null,
            "height": null,
            "justify_content": null,
            "justify_items": null,
            "left": null,
            "margin": null,
            "max_height": null,
            "max_width": null,
            "min_height": null,
            "min_width": null,
            "object_fit": null,
            "object_position": null,
            "order": null,
            "overflow": null,
            "overflow_x": null,
            "overflow_y": null,
            "padding": null,
            "right": null,
            "top": null,
            "visibility": null,
            "width": null
          }
        },
        "3f37dfe8ffb1406e9c70ffabe88e457b": {
          "model_module": "@jupyter-widgets/base",
          "model_name": "LayoutModel",
          "model_module_version": "1.2.0",
          "state": {
            "_model_module": "@jupyter-widgets/base",
            "_model_module_version": "1.2.0",
            "_model_name": "LayoutModel",
            "_view_count": null,
            "_view_module": "@jupyter-widgets/base",
            "_view_module_version": "1.2.0",
            "_view_name": "LayoutView",
            "align_content": null,
            "align_items": null,
            "align_self": null,
            "border": null,
            "bottom": null,
            "display": null,
            "flex": null,
            "flex_flow": null,
            "grid_area": null,
            "grid_auto_columns": null,
            "grid_auto_flow": null,
            "grid_auto_rows": null,
            "grid_column": null,
            "grid_gap": null,
            "grid_row": null,
            "grid_template_areas": null,
            "grid_template_columns": null,
            "grid_template_rows": null,
            "height": null,
            "justify_content": null,
            "justify_items": null,
            "left": null,
            "margin": null,
            "max_height": null,
            "max_width": null,
            "min_height": null,
            "min_width": null,
            "object_fit": null,
            "object_position": null,
            "order": null,
            "overflow": null,
            "overflow_x": null,
            "overflow_y": null,
            "padding": null,
            "right": null,
            "top": null,
            "visibility": null,
            "width": null
          }
        },
        "649fd374594e4a388401806cbf8303d9": {
          "model_module": "@jupyter-widgets/controls",
          "model_name": "DescriptionStyleModel",
          "model_module_version": "1.5.0",
          "state": {
            "_model_module": "@jupyter-widgets/controls",
            "_model_module_version": "1.5.0",
            "_model_name": "DescriptionStyleModel",
            "_view_count": null,
            "_view_module": "@jupyter-widgets/base",
            "_view_module_version": "1.2.0",
            "_view_name": "StyleView",
            "description_width": ""
          }
        },
        "2d5f8555928343f89ac3253af540b085": {
          "model_module": "@jupyter-widgets/base",
          "model_name": "LayoutModel",
          "model_module_version": "1.2.0",
          "state": {
            "_model_module": "@jupyter-widgets/base",
            "_model_module_version": "1.2.0",
            "_model_name": "LayoutModel",
            "_view_count": null,
            "_view_module": "@jupyter-widgets/base",
            "_view_module_version": "1.2.0",
            "_view_name": "LayoutView",
            "align_content": null,
            "align_items": null,
            "align_self": null,
            "border": null,
            "bottom": null,
            "display": null,
            "flex": null,
            "flex_flow": null,
            "grid_area": null,
            "grid_auto_columns": null,
            "grid_auto_flow": null,
            "grid_auto_rows": null,
            "grid_column": null,
            "grid_gap": null,
            "grid_row": null,
            "grid_template_areas": null,
            "grid_template_columns": null,
            "grid_template_rows": null,
            "height": null,
            "justify_content": null,
            "justify_items": null,
            "left": null,
            "margin": null,
            "max_height": null,
            "max_width": null,
            "min_height": null,
            "min_width": null,
            "object_fit": null,
            "object_position": null,
            "order": null,
            "overflow": null,
            "overflow_x": null,
            "overflow_y": null,
            "padding": null,
            "right": null,
            "top": null,
            "visibility": null,
            "width": null
          }
        },
        "a2e9faafdd7e4bd4922a0e5627854b3a": {
          "model_module": "@jupyter-widgets/controls",
          "model_name": "ProgressStyleModel",
          "model_module_version": "1.5.0",
          "state": {
            "_model_module": "@jupyter-widgets/controls",
            "_model_module_version": "1.5.0",
            "_model_name": "ProgressStyleModel",
            "_view_count": null,
            "_view_module": "@jupyter-widgets/base",
            "_view_module_version": "1.2.0",
            "_view_name": "StyleView",
            "bar_color": null,
            "description_width": ""
          }
        },
        "0c0e8d6db8b443b0b499c6a7db518caf": {
          "model_module": "@jupyter-widgets/base",
          "model_name": "LayoutModel",
          "model_module_version": "1.2.0",
          "state": {
            "_model_module": "@jupyter-widgets/base",
            "_model_module_version": "1.2.0",
            "_model_name": "LayoutModel",
            "_view_count": null,
            "_view_module": "@jupyter-widgets/base",
            "_view_module_version": "1.2.0",
            "_view_name": "LayoutView",
            "align_content": null,
            "align_items": null,
            "align_self": null,
            "border": null,
            "bottom": null,
            "display": null,
            "flex": null,
            "flex_flow": null,
            "grid_area": null,
            "grid_auto_columns": null,
            "grid_auto_flow": null,
            "grid_auto_rows": null,
            "grid_column": null,
            "grid_gap": null,
            "grid_row": null,
            "grid_template_areas": null,
            "grid_template_columns": null,
            "grid_template_rows": null,
            "height": null,
            "justify_content": null,
            "justify_items": null,
            "left": null,
            "margin": null,
            "max_height": null,
            "max_width": null,
            "min_height": null,
            "min_width": null,
            "object_fit": null,
            "object_position": null,
            "order": null,
            "overflow": null,
            "overflow_x": null,
            "overflow_y": null,
            "padding": null,
            "right": null,
            "top": null,
            "visibility": null,
            "width": null
          }
        },
        "d05fe464ab404c52bcb88c41f2d7c695": {
          "model_module": "@jupyter-widgets/controls",
          "model_name": "DescriptionStyleModel",
          "model_module_version": "1.5.0",
          "state": {
            "_model_module": "@jupyter-widgets/controls",
            "_model_module_version": "1.5.0",
            "_model_name": "DescriptionStyleModel",
            "_view_count": null,
            "_view_module": "@jupyter-widgets/base",
            "_view_module_version": "1.2.0",
            "_view_name": "StyleView",
            "description_width": ""
          }
        },
        "58ddfcbc8fa549a8bbae3d09972f6a52": {
          "model_module": "@jupyter-widgets/controls",
          "model_name": "HBoxModel",
          "model_module_version": "1.5.0",
          "state": {
            "_dom_classes": [],
            "_model_module": "@jupyter-widgets/controls",
            "_model_module_version": "1.5.0",
            "_model_name": "HBoxModel",
            "_view_count": null,
            "_view_module": "@jupyter-widgets/controls",
            "_view_module_version": "1.5.0",
            "_view_name": "HBoxView",
            "box_style": "",
            "children": [
              "IPY_MODEL_0d4c8ca7fb8648bf9b99f7dc326e48cf",
              "IPY_MODEL_fb82adb700474088890017b1b7330c92",
              "IPY_MODEL_0f77953bd20c4f71b56787dd9a6727ec"
            ],
            "layout": "IPY_MODEL_24528fdba4ee4a1e9b79855b94843442"
          }
        },
        "0d4c8ca7fb8648bf9b99f7dc326e48cf": {
          "model_module": "@jupyter-widgets/controls",
          "model_name": "HTMLModel",
          "model_module_version": "1.5.0",
          "state": {
            "_dom_classes": [],
            "_model_module": "@jupyter-widgets/controls",
            "_model_module_version": "1.5.0",
            "_model_name": "HTMLModel",
            "_view_count": null,
            "_view_module": "@jupyter-widgets/controls",
            "_view_module_version": "1.5.0",
            "_view_name": "HTMLView",
            "description": "",
            "description_tooltip": null,
            "layout": "IPY_MODEL_406b19b047634af480173d3828bd1cd4",
            "placeholder": "​",
            "style": "IPY_MODEL_80af593b472e4abd820397487e2c1c14",
            "value": "Downloading (…)lve/main/config.json: 100%"
          }
        },
        "fb82adb700474088890017b1b7330c92": {
          "model_module": "@jupyter-widgets/controls",
          "model_name": "FloatProgressModel",
          "model_module_version": "1.5.0",
          "state": {
            "_dom_classes": [],
            "_model_module": "@jupyter-widgets/controls",
            "_model_module_version": "1.5.0",
            "_model_name": "FloatProgressModel",
            "_view_count": null,
            "_view_module": "@jupyter-widgets/controls",
            "_view_module_version": "1.5.0",
            "_view_name": "ProgressView",
            "bar_style": "success",
            "description": "",
            "description_tooltip": null,
            "layout": "IPY_MODEL_02ff43ffd03c432bbf7dba1456dd6345",
            "max": 483,
            "min": 0,
            "orientation": "horizontal",
            "style": "IPY_MODEL_8c49b868b9a242149f7600079111364c",
            "value": 483
          }
        },
        "0f77953bd20c4f71b56787dd9a6727ec": {
          "model_module": "@jupyter-widgets/controls",
          "model_name": "HTMLModel",
          "model_module_version": "1.5.0",
          "state": {
            "_dom_classes": [],
            "_model_module": "@jupyter-widgets/controls",
            "_model_module_version": "1.5.0",
            "_model_name": "HTMLModel",
            "_view_count": null,
            "_view_module": "@jupyter-widgets/controls",
            "_view_module_version": "1.5.0",
            "_view_name": "HTMLView",
            "description": "",
            "description_tooltip": null,
            "layout": "IPY_MODEL_98dfff12e2cc455191d55d515f538463",
            "placeholder": "​",
            "style": "IPY_MODEL_3496cf599a4e4c84ac63470dab1422c2",
            "value": " 483/483 [00:00&lt;00:00, 40.4kB/s]"
          }
        },
        "24528fdba4ee4a1e9b79855b94843442": {
          "model_module": "@jupyter-widgets/base",
          "model_name": "LayoutModel",
          "model_module_version": "1.2.0",
          "state": {
            "_model_module": "@jupyter-widgets/base",
            "_model_module_version": "1.2.0",
            "_model_name": "LayoutModel",
            "_view_count": null,
            "_view_module": "@jupyter-widgets/base",
            "_view_module_version": "1.2.0",
            "_view_name": "LayoutView",
            "align_content": null,
            "align_items": null,
            "align_self": null,
            "border": null,
            "bottom": null,
            "display": null,
            "flex": null,
            "flex_flow": null,
            "grid_area": null,
            "grid_auto_columns": null,
            "grid_auto_flow": null,
            "grid_auto_rows": null,
            "grid_column": null,
            "grid_gap": null,
            "grid_row": null,
            "grid_template_areas": null,
            "grid_template_columns": null,
            "grid_template_rows": null,
            "height": null,
            "justify_content": null,
            "justify_items": null,
            "left": null,
            "margin": null,
            "max_height": null,
            "max_width": null,
            "min_height": null,
            "min_width": null,
            "object_fit": null,
            "object_position": null,
            "order": null,
            "overflow": null,
            "overflow_x": null,
            "overflow_y": null,
            "padding": null,
            "right": null,
            "top": null,
            "visibility": null,
            "width": null
          }
        },
        "406b19b047634af480173d3828bd1cd4": {
          "model_module": "@jupyter-widgets/base",
          "model_name": "LayoutModel",
          "model_module_version": "1.2.0",
          "state": {
            "_model_module": "@jupyter-widgets/base",
            "_model_module_version": "1.2.0",
            "_model_name": "LayoutModel",
            "_view_count": null,
            "_view_module": "@jupyter-widgets/base",
            "_view_module_version": "1.2.0",
            "_view_name": "LayoutView",
            "align_content": null,
            "align_items": null,
            "align_self": null,
            "border": null,
            "bottom": null,
            "display": null,
            "flex": null,
            "flex_flow": null,
            "grid_area": null,
            "grid_auto_columns": null,
            "grid_auto_flow": null,
            "grid_auto_rows": null,
            "grid_column": null,
            "grid_gap": null,
            "grid_row": null,
            "grid_template_areas": null,
            "grid_template_columns": null,
            "grid_template_rows": null,
            "height": null,
            "justify_content": null,
            "justify_items": null,
            "left": null,
            "margin": null,
            "max_height": null,
            "max_width": null,
            "min_height": null,
            "min_width": null,
            "object_fit": null,
            "object_position": null,
            "order": null,
            "overflow": null,
            "overflow_x": null,
            "overflow_y": null,
            "padding": null,
            "right": null,
            "top": null,
            "visibility": null,
            "width": null
          }
        },
        "80af593b472e4abd820397487e2c1c14": {
          "model_module": "@jupyter-widgets/controls",
          "model_name": "DescriptionStyleModel",
          "model_module_version": "1.5.0",
          "state": {
            "_model_module": "@jupyter-widgets/controls",
            "_model_module_version": "1.5.0",
            "_model_name": "DescriptionStyleModel",
            "_view_count": null,
            "_view_module": "@jupyter-widgets/base",
            "_view_module_version": "1.2.0",
            "_view_name": "StyleView",
            "description_width": ""
          }
        },
        "02ff43ffd03c432bbf7dba1456dd6345": {
          "model_module": "@jupyter-widgets/base",
          "model_name": "LayoutModel",
          "model_module_version": "1.2.0",
          "state": {
            "_model_module": "@jupyter-widgets/base",
            "_model_module_version": "1.2.0",
            "_model_name": "LayoutModel",
            "_view_count": null,
            "_view_module": "@jupyter-widgets/base",
            "_view_module_version": "1.2.0",
            "_view_name": "LayoutView",
            "align_content": null,
            "align_items": null,
            "align_self": null,
            "border": null,
            "bottom": null,
            "display": null,
            "flex": null,
            "flex_flow": null,
            "grid_area": null,
            "grid_auto_columns": null,
            "grid_auto_flow": null,
            "grid_auto_rows": null,
            "grid_column": null,
            "grid_gap": null,
            "grid_row": null,
            "grid_template_areas": null,
            "grid_template_columns": null,
            "grid_template_rows": null,
            "height": null,
            "justify_content": null,
            "justify_items": null,
            "left": null,
            "margin": null,
            "max_height": null,
            "max_width": null,
            "min_height": null,
            "min_width": null,
            "object_fit": null,
            "object_position": null,
            "order": null,
            "overflow": null,
            "overflow_x": null,
            "overflow_y": null,
            "padding": null,
            "right": null,
            "top": null,
            "visibility": null,
            "width": null
          }
        },
        "8c49b868b9a242149f7600079111364c": {
          "model_module": "@jupyter-widgets/controls",
          "model_name": "ProgressStyleModel",
          "model_module_version": "1.5.0",
          "state": {
            "_model_module": "@jupyter-widgets/controls",
            "_model_module_version": "1.5.0",
            "_model_name": "ProgressStyleModel",
            "_view_count": null,
            "_view_module": "@jupyter-widgets/base",
            "_view_module_version": "1.2.0",
            "_view_name": "StyleView",
            "bar_color": null,
            "description_width": ""
          }
        },
        "98dfff12e2cc455191d55d515f538463": {
          "model_module": "@jupyter-widgets/base",
          "model_name": "LayoutModel",
          "model_module_version": "1.2.0",
          "state": {
            "_model_module": "@jupyter-widgets/base",
            "_model_module_version": "1.2.0",
            "_model_name": "LayoutModel",
            "_view_count": null,
            "_view_module": "@jupyter-widgets/base",
            "_view_module_version": "1.2.0",
            "_view_name": "LayoutView",
            "align_content": null,
            "align_items": null,
            "align_self": null,
            "border": null,
            "bottom": null,
            "display": null,
            "flex": null,
            "flex_flow": null,
            "grid_area": null,
            "grid_auto_columns": null,
            "grid_auto_flow": null,
            "grid_auto_rows": null,
            "grid_column": null,
            "grid_gap": null,
            "grid_row": null,
            "grid_template_areas": null,
            "grid_template_columns": null,
            "grid_template_rows": null,
            "height": null,
            "justify_content": null,
            "justify_items": null,
            "left": null,
            "margin": null,
            "max_height": null,
            "max_width": null,
            "min_height": null,
            "min_width": null,
            "object_fit": null,
            "object_position": null,
            "order": null,
            "overflow": null,
            "overflow_x": null,
            "overflow_y": null,
            "padding": null,
            "right": null,
            "top": null,
            "visibility": null,
            "width": null
          }
        },
        "3496cf599a4e4c84ac63470dab1422c2": {
          "model_module": "@jupyter-widgets/controls",
          "model_name": "DescriptionStyleModel",
          "model_module_version": "1.5.0",
          "state": {
            "_model_module": "@jupyter-widgets/controls",
            "_model_module_version": "1.5.0",
            "_model_name": "DescriptionStyleModel",
            "_view_count": null,
            "_view_module": "@jupyter-widgets/base",
            "_view_module_version": "1.2.0",
            "_view_name": "StyleView",
            "description_width": ""
          }
        },
        "0f76854ff0ef4e1191d42c94f71ffb18": {
          "model_module": "@jupyter-widgets/controls",
          "model_name": "HBoxModel",
          "model_module_version": "1.5.0",
          "state": {
            "_dom_classes": [],
            "_model_module": "@jupyter-widgets/controls",
            "_model_module_version": "1.5.0",
            "_model_name": "HBoxModel",
            "_view_count": null,
            "_view_module": "@jupyter-widgets/controls",
            "_view_module_version": "1.5.0",
            "_view_name": "HBoxView",
            "box_style": "",
            "children": [
              "IPY_MODEL_131df159bf904c82a742f5ef4d634477",
              "IPY_MODEL_f8c22a9166114d9e829fd9df06d2ebfd",
              "IPY_MODEL_f5a7b14702094d7fa88957f4f1cbe346"
            ],
            "layout": "IPY_MODEL_8b036434ca9a421f8098b1b5e62c347c"
          }
        },
        "131df159bf904c82a742f5ef4d634477": {
          "model_module": "@jupyter-widgets/controls",
          "model_name": "HTMLModel",
          "model_module_version": "1.5.0",
          "state": {
            "_dom_classes": [],
            "_model_module": "@jupyter-widgets/controls",
            "_model_module_version": "1.5.0",
            "_model_name": "HTMLModel",
            "_view_count": null,
            "_view_module": "@jupyter-widgets/controls",
            "_view_module_version": "1.5.0",
            "_view_name": "HTMLView",
            "description": "",
            "description_tooltip": null,
            "layout": "IPY_MODEL_cc4f96961bf9446bb5bd9429c5403df0",
            "placeholder": "​",
            "style": "IPY_MODEL_8fe3eff015c144498891ba42ed5ae6c9",
            "value": "Downloading model.safetensors: 100%"
          }
        },
        "f8c22a9166114d9e829fd9df06d2ebfd": {
          "model_module": "@jupyter-widgets/controls",
          "model_name": "FloatProgressModel",
          "model_module_version": "1.5.0",
          "state": {
            "_dom_classes": [],
            "_model_module": "@jupyter-widgets/controls",
            "_model_module_version": "1.5.0",
            "_model_name": "FloatProgressModel",
            "_view_count": null,
            "_view_module": "@jupyter-widgets/controls",
            "_view_module_version": "1.5.0",
            "_view_name": "ProgressView",
            "bar_style": "success",
            "description": "",
            "description_tooltip": null,
            "layout": "IPY_MODEL_b02391d79e5148fcac99eebe39c9278c",
            "max": 267954768,
            "min": 0,
            "orientation": "horizontal",
            "style": "IPY_MODEL_ad7ed6afbabc43a88c880665cb7b59ba",
            "value": 267954768
          }
        },
        "f5a7b14702094d7fa88957f4f1cbe346": {
          "model_module": "@jupyter-widgets/controls",
          "model_name": "HTMLModel",
          "model_module_version": "1.5.0",
          "state": {
            "_dom_classes": [],
            "_model_module": "@jupyter-widgets/controls",
            "_model_module_version": "1.5.0",
            "_model_name": "HTMLModel",
            "_view_count": null,
            "_view_module": "@jupyter-widgets/controls",
            "_view_module_version": "1.5.0",
            "_view_name": "HTMLView",
            "description": "",
            "description_tooltip": null,
            "layout": "IPY_MODEL_36a362d0756248658073c13f0d602f72",
            "placeholder": "​",
            "style": "IPY_MODEL_67fbf981facb466fb1fc1e0098150d3a",
            "value": " 268M/268M [00:00&lt;00:00, 621MB/s]"
          }
        },
        "8b036434ca9a421f8098b1b5e62c347c": {
          "model_module": "@jupyter-widgets/base",
          "model_name": "LayoutModel",
          "model_module_version": "1.2.0",
          "state": {
            "_model_module": "@jupyter-widgets/base",
            "_model_module_version": "1.2.0",
            "_model_name": "LayoutModel",
            "_view_count": null,
            "_view_module": "@jupyter-widgets/base",
            "_view_module_version": "1.2.0",
            "_view_name": "LayoutView",
            "align_content": null,
            "align_items": null,
            "align_self": null,
            "border": null,
            "bottom": null,
            "display": null,
            "flex": null,
            "flex_flow": null,
            "grid_area": null,
            "grid_auto_columns": null,
            "grid_auto_flow": null,
            "grid_auto_rows": null,
            "grid_column": null,
            "grid_gap": null,
            "grid_row": null,
            "grid_template_areas": null,
            "grid_template_columns": null,
            "grid_template_rows": null,
            "height": null,
            "justify_content": null,
            "justify_items": null,
            "left": null,
            "margin": null,
            "max_height": null,
            "max_width": null,
            "min_height": null,
            "min_width": null,
            "object_fit": null,
            "object_position": null,
            "order": null,
            "overflow": null,
            "overflow_x": null,
            "overflow_y": null,
            "padding": null,
            "right": null,
            "top": null,
            "visibility": null,
            "width": null
          }
        },
        "cc4f96961bf9446bb5bd9429c5403df0": {
          "model_module": "@jupyter-widgets/base",
          "model_name": "LayoutModel",
          "model_module_version": "1.2.0",
          "state": {
            "_model_module": "@jupyter-widgets/base",
            "_model_module_version": "1.2.0",
            "_model_name": "LayoutModel",
            "_view_count": null,
            "_view_module": "@jupyter-widgets/base",
            "_view_module_version": "1.2.0",
            "_view_name": "LayoutView",
            "align_content": null,
            "align_items": null,
            "align_self": null,
            "border": null,
            "bottom": null,
            "display": null,
            "flex": null,
            "flex_flow": null,
            "grid_area": null,
            "grid_auto_columns": null,
            "grid_auto_flow": null,
            "grid_auto_rows": null,
            "grid_column": null,
            "grid_gap": null,
            "grid_row": null,
            "grid_template_areas": null,
            "grid_template_columns": null,
            "grid_template_rows": null,
            "height": null,
            "justify_content": null,
            "justify_items": null,
            "left": null,
            "margin": null,
            "max_height": null,
            "max_width": null,
            "min_height": null,
            "min_width": null,
            "object_fit": null,
            "object_position": null,
            "order": null,
            "overflow": null,
            "overflow_x": null,
            "overflow_y": null,
            "padding": null,
            "right": null,
            "top": null,
            "visibility": null,
            "width": null
          }
        },
        "8fe3eff015c144498891ba42ed5ae6c9": {
          "model_module": "@jupyter-widgets/controls",
          "model_name": "DescriptionStyleModel",
          "model_module_version": "1.5.0",
          "state": {
            "_model_module": "@jupyter-widgets/controls",
            "_model_module_version": "1.5.0",
            "_model_name": "DescriptionStyleModel",
            "_view_count": null,
            "_view_module": "@jupyter-widgets/base",
            "_view_module_version": "1.2.0",
            "_view_name": "StyleView",
            "description_width": ""
          }
        },
        "b02391d79e5148fcac99eebe39c9278c": {
          "model_module": "@jupyter-widgets/base",
          "model_name": "LayoutModel",
          "model_module_version": "1.2.0",
          "state": {
            "_model_module": "@jupyter-widgets/base",
            "_model_module_version": "1.2.0",
            "_model_name": "LayoutModel",
            "_view_count": null,
            "_view_module": "@jupyter-widgets/base",
            "_view_module_version": "1.2.0",
            "_view_name": "LayoutView",
            "align_content": null,
            "align_items": null,
            "align_self": null,
            "border": null,
            "bottom": null,
            "display": null,
            "flex": null,
            "flex_flow": null,
            "grid_area": null,
            "grid_auto_columns": null,
            "grid_auto_flow": null,
            "grid_auto_rows": null,
            "grid_column": null,
            "grid_gap": null,
            "grid_row": null,
            "grid_template_areas": null,
            "grid_template_columns": null,
            "grid_template_rows": null,
            "height": null,
            "justify_content": null,
            "justify_items": null,
            "left": null,
            "margin": null,
            "max_height": null,
            "max_width": null,
            "min_height": null,
            "min_width": null,
            "object_fit": null,
            "object_position": null,
            "order": null,
            "overflow": null,
            "overflow_x": null,
            "overflow_y": null,
            "padding": null,
            "right": null,
            "top": null,
            "visibility": null,
            "width": null
          }
        },
        "ad7ed6afbabc43a88c880665cb7b59ba": {
          "model_module": "@jupyter-widgets/controls",
          "model_name": "ProgressStyleModel",
          "model_module_version": "1.5.0",
          "state": {
            "_model_module": "@jupyter-widgets/controls",
            "_model_module_version": "1.5.0",
            "_model_name": "ProgressStyleModel",
            "_view_count": null,
            "_view_module": "@jupyter-widgets/base",
            "_view_module_version": "1.2.0",
            "_view_name": "StyleView",
            "bar_color": null,
            "description_width": ""
          }
        },
        "36a362d0756248658073c13f0d602f72": {
          "model_module": "@jupyter-widgets/base",
          "model_name": "LayoutModel",
          "model_module_version": "1.2.0",
          "state": {
            "_model_module": "@jupyter-widgets/base",
            "_model_module_version": "1.2.0",
            "_model_name": "LayoutModel",
            "_view_count": null,
            "_view_module": "@jupyter-widgets/base",
            "_view_module_version": "1.2.0",
            "_view_name": "LayoutView",
            "align_content": null,
            "align_items": null,
            "align_self": null,
            "border": null,
            "bottom": null,
            "display": null,
            "flex": null,
            "flex_flow": null,
            "grid_area": null,
            "grid_auto_columns": null,
            "grid_auto_flow": null,
            "grid_auto_rows": null,
            "grid_column": null,
            "grid_gap": null,
            "grid_row": null,
            "grid_template_areas": null,
            "grid_template_columns": null,
            "grid_template_rows": null,
            "height": null,
            "justify_content": null,
            "justify_items": null,
            "left": null,
            "margin": null,
            "max_height": null,
            "max_width": null,
            "min_height": null,
            "min_width": null,
            "object_fit": null,
            "object_position": null,
            "order": null,
            "overflow": null,
            "overflow_x": null,
            "overflow_y": null,
            "padding": null,
            "right": null,
            "top": null,
            "visibility": null,
            "width": null
          }
        },
        "67fbf981facb466fb1fc1e0098150d3a": {
          "model_module": "@jupyter-widgets/controls",
          "model_name": "DescriptionStyleModel",
          "model_module_version": "1.5.0",
          "state": {
            "_model_module": "@jupyter-widgets/controls",
            "_model_module_version": "1.5.0",
            "_model_name": "DescriptionStyleModel",
            "_view_count": null,
            "_view_module": "@jupyter-widgets/base",
            "_view_module_version": "1.2.0",
            "_view_name": "StyleView",
            "description_width": ""
          }
        }
      }
    }
  },
  "cells": [
    {
      "cell_type": "markdown",
      "source": [
        "# Import Libraries"
      ],
      "metadata": {
        "id": "zZs56rMzUx_D"
      }
    },
    {
      "cell_type": "code",
      "source": [
        "!pip install transformers\n",
        "!pip install lxml\n",
        "!pip install nlpaug\n",
        "from imblearn.over_sampling import SMOTE\n",
        "import requests\n",
        "from bs4 import BeautifulSoup\n",
        "import os\n",
        "import json\n",
        "import pandas as pd\n",
        "from sklearn.model_selection import train_test_split\n",
        "from transformers import DistilBertTokenizer, TFDistilBertForSequenceClassification\n",
        "import tensorflow as tf\n",
        "import seaborn as sns\n",
        "import matplotlib.pyplot as plt\n",
        "import requests\n",
        "from bs4 import BeautifulSoup\n",
        "from lxml import etree\n",
        "from imblearn.over_sampling import RandomOverSampler\n",
        "from imblearn.under_sampling import RandomUnderSampler\n",
        "import nltk\n",
        "from nltk.corpus import stopwords\n",
        "from nltk.stem import WordNetLemmatizer\n",
        "from nltk.tokenize import word_tokenize\n",
        "from sklearn.feature_extraction.text import TfidfVectorizer\n",
        "from sklearn.linear_model import LogisticRegression\n",
        "import nlpaug.augmenter.word as naw\n",
        "from sklearn.metrics import confusion_matrix"
      ],
      "metadata": {
        "colab": {
          "base_uri": "https://localhost:8080/"
        },
        "id": "in4RsrNaU717",
        "outputId": "e4e7acb9-ea24-479b-92d7-ca5cd51de2a8"
      },
      "execution_count": null,
      "outputs": [
        {
          "output_type": "stream",
          "name": "stdout",
          "text": [
            "Requirement already satisfied: transformers in /usr/local/lib/python3.10/dist-packages (4.30.2)\n",
            "Requirement already satisfied: filelock in /usr/local/lib/python3.10/dist-packages (from transformers) (3.12.2)\n",
            "Requirement already satisfied: huggingface-hub<1.0,>=0.14.1 in /usr/local/lib/python3.10/dist-packages (from transformers) (0.15.1)\n",
            "Requirement already satisfied: numpy>=1.17 in /usr/local/lib/python3.10/dist-packages (from transformers) (1.22.4)\n",
            "Requirement already satisfied: packaging>=20.0 in /usr/local/lib/python3.10/dist-packages (from transformers) (23.1)\n",
            "Requirement already satisfied: pyyaml>=5.1 in /usr/local/lib/python3.10/dist-packages (from transformers) (6.0)\n",
            "Requirement already satisfied: regex!=2019.12.17 in /usr/local/lib/python3.10/dist-packages (from transformers) (2022.10.31)\n",
            "Requirement already satisfied: requests in /usr/local/lib/python3.10/dist-packages (from transformers) (2.27.1)\n",
            "Requirement already satisfied: tokenizers!=0.11.3,<0.14,>=0.11.1 in /usr/local/lib/python3.10/dist-packages (from transformers) (0.13.3)\n",
            "Requirement already satisfied: safetensors>=0.3.1 in /usr/local/lib/python3.10/dist-packages (from transformers) (0.3.1)\n",
            "Requirement already satisfied: tqdm>=4.27 in /usr/local/lib/python3.10/dist-packages (from transformers) (4.65.0)\n",
            "Requirement already satisfied: fsspec in /usr/local/lib/python3.10/dist-packages (from huggingface-hub<1.0,>=0.14.1->transformers) (2023.6.0)\n",
            "Requirement already satisfied: typing-extensions>=3.7.4.3 in /usr/local/lib/python3.10/dist-packages (from huggingface-hub<1.0,>=0.14.1->transformers) (4.6.3)\n",
            "Requirement already satisfied: urllib3<1.27,>=1.21.1 in /usr/local/lib/python3.10/dist-packages (from requests->transformers) (1.26.16)\n",
            "Requirement already satisfied: certifi>=2017.4.17 in /usr/local/lib/python3.10/dist-packages (from requests->transformers) (2023.5.7)\n",
            "Requirement already satisfied: charset-normalizer~=2.0.0 in /usr/local/lib/python3.10/dist-packages (from requests->transformers) (2.0.12)\n",
            "Requirement already satisfied: idna<4,>=2.5 in /usr/local/lib/python3.10/dist-packages (from requests->transformers) (3.4)\n",
            "Requirement already satisfied: lxml in /usr/local/lib/python3.10/dist-packages (4.9.2)\n",
            "Requirement already satisfied: nlpaug in /usr/local/lib/python3.10/dist-packages (1.1.11)\n",
            "Requirement already satisfied: numpy>=1.16.2 in /usr/local/lib/python3.10/dist-packages (from nlpaug) (1.22.4)\n",
            "Requirement already satisfied: pandas>=1.2.0 in /usr/local/lib/python3.10/dist-packages (from nlpaug) (1.5.3)\n",
            "Requirement already satisfied: requests>=2.22.0 in /usr/local/lib/python3.10/dist-packages (from nlpaug) (2.27.1)\n",
            "Requirement already satisfied: gdown>=4.0.0 in /usr/local/lib/python3.10/dist-packages (from nlpaug) (4.6.6)\n",
            "Requirement already satisfied: filelock in /usr/local/lib/python3.10/dist-packages (from gdown>=4.0.0->nlpaug) (3.12.2)\n",
            "Requirement already satisfied: six in /usr/local/lib/python3.10/dist-packages (from gdown>=4.0.0->nlpaug) (1.16.0)\n",
            "Requirement already satisfied: tqdm in /usr/local/lib/python3.10/dist-packages (from gdown>=4.0.0->nlpaug) (4.65.0)\n",
            "Requirement already satisfied: beautifulsoup4 in /usr/local/lib/python3.10/dist-packages (from gdown>=4.0.0->nlpaug) (4.11.2)\n",
            "Requirement already satisfied: python-dateutil>=2.8.1 in /usr/local/lib/python3.10/dist-packages (from pandas>=1.2.0->nlpaug) (2.8.2)\n",
            "Requirement already satisfied: pytz>=2020.1 in /usr/local/lib/python3.10/dist-packages (from pandas>=1.2.0->nlpaug) (2022.7.1)\n",
            "Requirement already satisfied: urllib3<1.27,>=1.21.1 in /usr/local/lib/python3.10/dist-packages (from requests>=2.22.0->nlpaug) (1.26.16)\n",
            "Requirement already satisfied: certifi>=2017.4.17 in /usr/local/lib/python3.10/dist-packages (from requests>=2.22.0->nlpaug) (2023.5.7)\n",
            "Requirement already satisfied: charset-normalizer~=2.0.0 in /usr/local/lib/python3.10/dist-packages (from requests>=2.22.0->nlpaug) (2.0.12)\n",
            "Requirement already satisfied: idna<4,>=2.5 in /usr/local/lib/python3.10/dist-packages (from requests>=2.22.0->nlpaug) (3.4)\n",
            "Requirement already satisfied: soupsieve>1.2 in /usr/local/lib/python3.10/dist-packages (from beautifulsoup4->gdown>=4.0.0->nlpaug) (2.4.1)\n",
            "Requirement already satisfied: PySocks!=1.5.7,>=1.5.6 in /usr/local/lib/python3.10/dist-packages (from requests>=2.22.0->nlpaug) (1.7.1)\n"
          ]
        }
      ]
    },
    {
      "cell_type": "markdown",
      "source": [
        "# EDA"
      ],
      "metadata": {
        "id": "1JTswD36xtvU"
      }
    },
    {
      "cell_type": "code",
      "execution_count": null,
      "metadata": {
        "id": "aQqftA_xUaK-"
      },
      "outputs": [],
      "source": [
        "# Load the dataset\n",
        "df = pd.read_csv(\"elden_ring_steam_reviews.csv\")"
      ]
    },
    {
      "cell_type": "code",
      "source": [
        "print(df.info())"
      ],
      "metadata": {
        "colab": {
          "base_uri": "https://localhost:8080/"
        },
        "id": "PUdaen4BVOnk",
        "outputId": "e142956f-c10f-457c-850a-cb4c1e7966c5"
      },
      "execution_count": null,
      "outputs": [
        {
          "output_type": "stream",
          "name": "stdout",
          "text": [
            "<class 'pandas.core.frame.DataFrame'>\n",
            "RangeIndex: 9794 entries, 0 to 9793\n",
            "Data columns (total 16 columns):\n",
            " #   Column                          Non-Null Count  Dtype \n",
            "---  ------                          --------------  ----- \n",
            " 0   id                              9794 non-null   int64 \n",
            " 1   language                        9794 non-null   object\n",
            " 2   review                          9765 non-null   object\n",
            " 3   created                         9794 non-null   object\n",
            " 4   voted_up                        9794 non-null   bool  \n",
            " 5   votes_up                        9794 non-null   int64 \n",
            " 6   comment_count                   9794 non-null   int64 \n",
            " 7   steam_purchase                  9794 non-null   bool  \n",
            " 8   recieved_for_free               9794 non-null   bool  \n",
            " 9   written_during_early_access     9794 non-null   bool  \n",
            " 10  author_num_games_owned          9794 non-null   int64 \n",
            " 11  author_num_reviews              9794 non-null   int64 \n",
            " 12  author_playtime_forever         9794 non-null   int64 \n",
            " 13  author_playtime_last_two_weeks  9794 non-null   int64 \n",
            " 14  author_playtime_at_review       9794 non-null   int64 \n",
            " 15  author_last_played              9794 non-null   object\n",
            "dtypes: bool(4), int64(8), object(4)\n",
            "memory usage: 956.6+ KB\n",
            "None\n"
          ]
        }
      ]
    },
    {
      "cell_type": "code",
      "source": [
        "print(df.head())"
      ],
      "metadata": {
        "colab": {
          "base_uri": "https://localhost:8080/"
        },
        "id": "cwgKr7EiVQtc",
        "outputId": "09f93fbe-7cf1-4fae-d0bd-338e5eebf24a"
      },
      "execution_count": null,
      "outputs": [
        {
          "output_type": "stream",
          "name": "stdout",
          "text": [
            "          id language                                             review  \\\n",
            "0  134238864  english            being killed over and over again is fun   \n",
            "1  134238208  english  I write this review as I have 100% completed E...   \n",
            "2  134238033  english                                                Fun   \n",
            "3  134237508  english                                       pretty cool.   \n",
            "4  134236511  english                                AMAZINGGGGGGGGGGGGG   \n",
            "\n",
            "               created  voted_up  votes_up  comment_count  steam_purchase  \\\n",
            "0  2023-03-07 14:19:11      True         0              0           False   \n",
            "1  2023-03-07 14:03:24      True         0              0            True   \n",
            "2  2023-03-07 13:59:13      True         0              0            True   \n",
            "3  2023-03-07 13:46:37      True         0              0            True   \n",
            "4  2023-03-07 13:20:04      True         0              0            True   \n",
            "\n",
            "   recieved_for_free  written_during_early_access  author_num_games_owned  \\\n",
            "0              False                        False                      47   \n",
            "1              False                        False                     110   \n",
            "2              False                        False                      11   \n",
            "3              False                        False                      94   \n",
            "4              False                        False                       4   \n",
            "\n",
            "   author_num_reviews  author_playtime_forever  \\\n",
            "0                   2                      355   \n",
            "1                   2                    24238   \n",
            "2                   1                      912   \n",
            "3                   8                     8497   \n",
            "4                   1                      985   \n",
            "\n",
            "   author_playtime_last_two_weeks  author_playtime_at_review  \\\n",
            "0                             355                        346   \n",
            "1                            5823                      24238   \n",
            "2                             912                        881   \n",
            "3                            2914                       8497   \n",
            "4                             163                        923   \n",
            "\n",
            "    author_last_played  \n",
            "0  2023-03-07 14:29:21  \n",
            "1  2023-03-07 02:08:22  \n",
            "2  2023-03-07 14:30:07  \n",
            "3  2023-03-07 13:44:52  \n",
            "4  2023-03-07 14:26:41  \n"
          ]
        }
      ]
    },
    {
      "cell_type": "code",
      "source": [
        "df.describe()"
      ],
      "metadata": {
        "colab": {
          "base_uri": "https://localhost:8080/",
          "height": 364
        },
        "id": "1fIkmq-wV9R8",
        "outputId": "b921448e-079a-49c4-8c4d-2209294a719d"
      },
      "execution_count": null,
      "outputs": [
        {
          "output_type": "execute_result",
          "data": {
            "text/plain": [
              "                 id     votes_up  comment_count  author_num_games_owned  \\\n",
              "count  9.794000e+03  9794.000000    9794.000000             9794.000000   \n",
              "mean   1.329966e+08     1.107617       0.035124              109.037268   \n",
              "std    7.246354e+05    33.576724       0.428238              206.868437   \n",
              "min    1.318020e+08     0.000000       0.000000                1.000000   \n",
              "25%    1.323394e+08     0.000000       0.000000               23.000000   \n",
              "50%    1.329959e+08     0.000000       0.000000               56.000000   \n",
              "75%    1.336450e+08     0.000000       0.000000              123.000000   \n",
              "max    1.342389e+08  2410.000000      25.000000             6458.000000   \n",
              "\n",
              "       author_num_reviews  author_playtime_forever  \\\n",
              "count         9794.000000              9794.000000   \n",
              "mean             8.867266              8534.752195   \n",
              "std             18.287920              9082.240954   \n",
              "min              1.000000                 5.000000   \n",
              "25%              2.000000              3430.250000   \n",
              "50%              4.000000              6449.500000   \n",
              "75%              9.000000             10616.750000   \n",
              "max            790.000000            160118.000000   \n",
              "\n",
              "       author_playtime_last_two_weeks  author_playtime_at_review  \n",
              "count                     9794.000000                9794.000000  \n",
              "mean                       961.129671                7249.124260  \n",
              "std                       1466.911509                8702.430291  \n",
              "min                          0.000000                   5.000000  \n",
              "25%                          0.000000                2038.000000  \n",
              "50%                        322.000000                5185.000000  \n",
              "75%                       1384.750000                9180.750000  \n",
              "max                      20082.000000              160118.000000  "
            ],
            "text/html": [
              "\n",
              "  <div id=\"df-08c6ea60-f33f-466f-9e52-ad5d72275c51\">\n",
              "    <div class=\"colab-df-container\">\n",
              "      <div>\n",
              "<style scoped>\n",
              "    .dataframe tbody tr th:only-of-type {\n",
              "        vertical-align: middle;\n",
              "    }\n",
              "\n",
              "    .dataframe tbody tr th {\n",
              "        vertical-align: top;\n",
              "    }\n",
              "\n",
              "    .dataframe thead th {\n",
              "        text-align: right;\n",
              "    }\n",
              "</style>\n",
              "<table border=\"1\" class=\"dataframe\">\n",
              "  <thead>\n",
              "    <tr style=\"text-align: right;\">\n",
              "      <th></th>\n",
              "      <th>id</th>\n",
              "      <th>votes_up</th>\n",
              "      <th>comment_count</th>\n",
              "      <th>author_num_games_owned</th>\n",
              "      <th>author_num_reviews</th>\n",
              "      <th>author_playtime_forever</th>\n",
              "      <th>author_playtime_last_two_weeks</th>\n",
              "      <th>author_playtime_at_review</th>\n",
              "    </tr>\n",
              "  </thead>\n",
              "  <tbody>\n",
              "    <tr>\n",
              "      <th>count</th>\n",
              "      <td>9.794000e+03</td>\n",
              "      <td>9794.000000</td>\n",
              "      <td>9794.000000</td>\n",
              "      <td>9794.000000</td>\n",
              "      <td>9794.000000</td>\n",
              "      <td>9794.000000</td>\n",
              "      <td>9794.000000</td>\n",
              "      <td>9794.000000</td>\n",
              "    </tr>\n",
              "    <tr>\n",
              "      <th>mean</th>\n",
              "      <td>1.329966e+08</td>\n",
              "      <td>1.107617</td>\n",
              "      <td>0.035124</td>\n",
              "      <td>109.037268</td>\n",
              "      <td>8.867266</td>\n",
              "      <td>8534.752195</td>\n",
              "      <td>961.129671</td>\n",
              "      <td>7249.124260</td>\n",
              "    </tr>\n",
              "    <tr>\n",
              "      <th>std</th>\n",
              "      <td>7.246354e+05</td>\n",
              "      <td>33.576724</td>\n",
              "      <td>0.428238</td>\n",
              "      <td>206.868437</td>\n",
              "      <td>18.287920</td>\n",
              "      <td>9082.240954</td>\n",
              "      <td>1466.911509</td>\n",
              "      <td>8702.430291</td>\n",
              "    </tr>\n",
              "    <tr>\n",
              "      <th>min</th>\n",
              "      <td>1.318020e+08</td>\n",
              "      <td>0.000000</td>\n",
              "      <td>0.000000</td>\n",
              "      <td>1.000000</td>\n",
              "      <td>1.000000</td>\n",
              "      <td>5.000000</td>\n",
              "      <td>0.000000</td>\n",
              "      <td>5.000000</td>\n",
              "    </tr>\n",
              "    <tr>\n",
              "      <th>25%</th>\n",
              "      <td>1.323394e+08</td>\n",
              "      <td>0.000000</td>\n",
              "      <td>0.000000</td>\n",
              "      <td>23.000000</td>\n",
              "      <td>2.000000</td>\n",
              "      <td>3430.250000</td>\n",
              "      <td>0.000000</td>\n",
              "      <td>2038.000000</td>\n",
              "    </tr>\n",
              "    <tr>\n",
              "      <th>50%</th>\n",
              "      <td>1.329959e+08</td>\n",
              "      <td>0.000000</td>\n",
              "      <td>0.000000</td>\n",
              "      <td>56.000000</td>\n",
              "      <td>4.000000</td>\n",
              "      <td>6449.500000</td>\n",
              "      <td>322.000000</td>\n",
              "      <td>5185.000000</td>\n",
              "    </tr>\n",
              "    <tr>\n",
              "      <th>75%</th>\n",
              "      <td>1.336450e+08</td>\n",
              "      <td>0.000000</td>\n",
              "      <td>0.000000</td>\n",
              "      <td>123.000000</td>\n",
              "      <td>9.000000</td>\n",
              "      <td>10616.750000</td>\n",
              "      <td>1384.750000</td>\n",
              "      <td>9180.750000</td>\n",
              "    </tr>\n",
              "    <tr>\n",
              "      <th>max</th>\n",
              "      <td>1.342389e+08</td>\n",
              "      <td>2410.000000</td>\n",
              "      <td>25.000000</td>\n",
              "      <td>6458.000000</td>\n",
              "      <td>790.000000</td>\n",
              "      <td>160118.000000</td>\n",
              "      <td>20082.000000</td>\n",
              "      <td>160118.000000</td>\n",
              "    </tr>\n",
              "  </tbody>\n",
              "</table>\n",
              "</div>\n",
              "      <button class=\"colab-df-convert\" onclick=\"convertToInteractive('df-08c6ea60-f33f-466f-9e52-ad5d72275c51')\"\n",
              "              title=\"Convert this dataframe to an interactive table.\"\n",
              "              style=\"display:none;\">\n",
              "        \n",
              "  <svg xmlns=\"http://www.w3.org/2000/svg\" height=\"24px\"viewBox=\"0 0 24 24\"\n",
              "       width=\"24px\">\n",
              "    <path d=\"M0 0h24v24H0V0z\" fill=\"none\"/>\n",
              "    <path d=\"M18.56 5.44l.94 2.06.94-2.06 2.06-.94-2.06-.94-.94-2.06-.94 2.06-2.06.94zm-11 1L8.5 8.5l.94-2.06 2.06-.94-2.06-.94L8.5 2.5l-.94 2.06-2.06.94zm10 10l.94 2.06.94-2.06 2.06-.94-2.06-.94-.94-2.06-.94 2.06-2.06.94z\"/><path d=\"M17.41 7.96l-1.37-1.37c-.4-.4-.92-.59-1.43-.59-.52 0-1.04.2-1.43.59L10.3 9.45l-7.72 7.72c-.78.78-.78 2.05 0 2.83L4 21.41c.39.39.9.59 1.41.59.51 0 1.02-.2 1.41-.59l7.78-7.78 2.81-2.81c.8-.78.8-2.07 0-2.86zM5.41 20L4 18.59l7.72-7.72 1.47 1.35L5.41 20z\"/>\n",
              "  </svg>\n",
              "      </button>\n",
              "      \n",
              "  <style>\n",
              "    .colab-df-container {\n",
              "      display:flex;\n",
              "      flex-wrap:wrap;\n",
              "      gap: 12px;\n",
              "    }\n",
              "\n",
              "    .colab-df-convert {\n",
              "      background-color: #E8F0FE;\n",
              "      border: none;\n",
              "      border-radius: 50%;\n",
              "      cursor: pointer;\n",
              "      display: none;\n",
              "      fill: #1967D2;\n",
              "      height: 32px;\n",
              "      padding: 0 0 0 0;\n",
              "      width: 32px;\n",
              "    }\n",
              "\n",
              "    .colab-df-convert:hover {\n",
              "      background-color: #E2EBFA;\n",
              "      box-shadow: 0px 1px 2px rgba(60, 64, 67, 0.3), 0px 1px 3px 1px rgba(60, 64, 67, 0.15);\n",
              "      fill: #174EA6;\n",
              "    }\n",
              "\n",
              "    [theme=dark] .colab-df-convert {\n",
              "      background-color: #3B4455;\n",
              "      fill: #D2E3FC;\n",
              "    }\n",
              "\n",
              "    [theme=dark] .colab-df-convert:hover {\n",
              "      background-color: #434B5C;\n",
              "      box-shadow: 0px 1px 3px 1px rgba(0, 0, 0, 0.15);\n",
              "      filter: drop-shadow(0px 1px 2px rgba(0, 0, 0, 0.3));\n",
              "      fill: #FFFFFF;\n",
              "    }\n",
              "  </style>\n",
              "\n",
              "      <script>\n",
              "        const buttonEl =\n",
              "          document.querySelector('#df-08c6ea60-f33f-466f-9e52-ad5d72275c51 button.colab-df-convert');\n",
              "        buttonEl.style.display =\n",
              "          google.colab.kernel.accessAllowed ? 'block' : 'none';\n",
              "\n",
              "        async function convertToInteractive(key) {\n",
              "          const element = document.querySelector('#df-08c6ea60-f33f-466f-9e52-ad5d72275c51');\n",
              "          const dataTable =\n",
              "            await google.colab.kernel.invokeFunction('convertToInteractive',\n",
              "                                                     [key], {});\n",
              "          if (!dataTable) return;\n",
              "\n",
              "          const docLinkHtml = 'Like what you see? Visit the ' +\n",
              "            '<a target=\"_blank\" href=https://colab.research.google.com/notebooks/data_table.ipynb>data table notebook</a>'\n",
              "            + ' to learn more about interactive tables.';\n",
              "          element.innerHTML = '';\n",
              "          dataTable['output_type'] = 'display_data';\n",
              "          await google.colab.output.renderOutput(dataTable, element);\n",
              "          const docLink = document.createElement('div');\n",
              "          docLink.innerHTML = docLinkHtml;\n",
              "          element.appendChild(docLink);\n",
              "        }\n",
              "      </script>\n",
              "    </div>\n",
              "  </div>\n",
              "  "
            ]
          },
          "metadata": {},
          "execution_count": 13
        }
      ]
    },
    {
      "cell_type": "code",
      "source": [
        "df.corrwith(df.voted_up)"
      ],
      "metadata": {
        "colab": {
          "base_uri": "https://localhost:8080/"
        },
        "id": "L6C-ddsDWnIr",
        "outputId": "81fd52ee-d02d-47a6-f1af-43577ca467c6"
      },
      "execution_count": null,
      "outputs": [
        {
          "output_type": "stream",
          "name": "stderr",
          "text": [
            "<ipython-input-14-29c9c398a76a>:1: FutureWarning: The default value of numeric_only in DataFrame.corrwith is deprecated. In a future version, it will default to False. Select only valid columns or specify the value of numeric_only to silence this warning.\n",
            "  df.corrwith(df.voted_up)\n"
          ]
        },
        {
          "output_type": "execute_result",
          "data": {
            "text/plain": [
              "id                                0.011575\n",
              "voted_up                          1.000000\n",
              "votes_up                         -0.017560\n",
              "comment_count                    -0.125141\n",
              "steam_purchase                    0.059562\n",
              "recieved_for_free                -0.001306\n",
              "written_during_early_access            NaN\n",
              "author_num_games_owned           -0.041253\n",
              "author_num_reviews               -0.055828\n",
              "author_playtime_forever           0.074437\n",
              "author_playtime_last_two_weeks    0.048198\n",
              "author_playtime_at_review         0.065102\n",
              "dtype: float64"
            ]
          },
          "metadata": {},
          "execution_count": 14
        }
      ]
    },
    {
      "cell_type": "code",
      "source": [
        "\n",
        "# # Calculate the count of each class in the 'voted_up' column\n",
        "# class_counts = df['voted_up'].value_counts()"
      ],
      "metadata": {
        "id": "l0PkL_qJDOG5"
      },
      "execution_count": null,
      "outputs": []
    },
    {
      "cell_type": "code",
      "source": [
        "#@title\n",
        "# # Plot a bar graph\n",
        "# plt.bar(class_counts.index, class_counts.values)\n",
        "\n",
        "# # Add labels and title to the plot\n",
        "# plt.xlabel('voted_up')\n",
        "# plt.ylabel('Count')\n",
        "# plt.title('Distribution of voted_up')\n",
        "\n",
        "# # Add value annotations above each bar\n",
        "# for i, v in enumerate(class_counts.values):\n",
        "#     plt.text(i, v + 10, str(v), ha='center')\n",
        "\n",
        "# # Show the plot\n",
        "# plt.show()"
      ],
      "metadata": {
        "id": "U4nSARSeDuUG"
      },
      "execution_count": null,
      "outputs": []
    },
    {
      "cell_type": "code",
      "source": [
        "# Count the number of true and false values\n",
        "true_count = df[df[\"voted_up\"] == True].shape[0]\n",
        "false_count = df[df[\"voted_up\"] == False].shape[0]\n",
        "\n",
        "print(\"Number of Positive Reviews: \", true_count)\n",
        "print(\"Number of Negative Reviews: \", false_count)\n",
        "\n",
        "print(\"----------------------------------------------------------------------------\")\n",
        "\n",
        "# Create a bar plot\n",
        "plt.bar([\"True\", \"False\"], [true_count, false_count])\n",
        "\n",
        "# Set plot title and axis labels\n",
        "plt.title(\"Number of True vs False Values\")\n",
        "plt.xlabel(\"Values\")\n",
        "plt.ylabel(\"Count\")\n",
        "\n",
        "# Show the plot\n",
        "plt.show()"
      ],
      "metadata": {
        "colab": {
          "base_uri": "https://localhost:8080/",
          "height": 524
        },
        "id": "WuJhwLj2E9ue",
        "outputId": "8877302f-db93-4eb4-865f-97564d699625"
      },
      "execution_count": null,
      "outputs": [
        {
          "output_type": "stream",
          "name": "stdout",
          "text": [
            "Number of Positive Reviews:  9201\n",
            "Number of Negative Reviews:  593\n",
            "----------------------------------------------------------------------------\n"
          ]
        },
        {
          "output_type": "display_data",
          "data": {
            "text/plain": [
              "<Figure size 640x480 with 1 Axes>"
            ],
            "image/png": "[encoded data removed]"
          },
          "metadata": {}
        }
      ]
    },
    {
      "cell_type": "code",
      "source": [
        "# Make a copy of the DataFrame\n",
        "df_corr = df.copy()\n",
        "\n",
        "# Drop the \"voted_up\" column from the copy\n",
        "df_corr = df_corr.drop(\"voted_up\", axis=1)\n",
        "\n",
        "# Filter out non-numeric columns\n",
        "numeric_columns = df_corr.select_dtypes(include=['float64', 'int64']).columns\n",
        "\n",
        "# Calculate correlation with \"voted_up\" column for numeric columns only\n",
        "correlation = df_corr[numeric_columns].apply(lambda x: x.corr(df['voted_up']))\n",
        "\n",
        "# Sort correlation values in descending order\n",
        "correlation = correlation.sort_values(ascending=False)\n",
        "\n",
        "# Print the correlation results\n",
        "print(correlation)"
      ],
      "metadata": {
        "colab": {
          "base_uri": "https://localhost:8080/"
        },
        "id": "OehGnXFaYEGn",
        "outputId": "871c5b5d-9f2c-47a0-eb92-a1327272c8a6"
      },
      "execution_count": null,
      "outputs": [
        {
          "output_type": "stream",
          "name": "stdout",
          "text": [
            "author_playtime_forever           0.074437\n",
            "author_playtime_at_review         0.065102\n",
            "author_playtime_last_two_weeks    0.048198\n",
            "id                                0.011575\n",
            "votes_up                         -0.017560\n",
            "author_num_games_owned           -0.041253\n",
            "author_num_reviews               -0.055828\n",
            "comment_count                    -0.125141\n",
            "dtype: float64\n"
          ]
        }
      ]
    },
    {
      "cell_type": "markdown",
      "source": [
        "The more the number of games a person owns the review given by the person for the game dips. It shows that a person becomes more critical about games when he/she plays more games.    "
      ],
      "metadata": {
        "id": "OmJx1lpyB380"
      }
    },
    {
      "cell_type": "code",
      "source": [
        "# Plot the correlation values\n",
        "plt.bar(correlation.index, correlation.values)\n",
        "\n",
        "# Add labels and title to the plot\n",
        "plt.xlabel('Numeric Columns')\n",
        "plt.ylabel('Correlation with voted_up')\n",
        "plt.title('Correlation between Numeric Columns and voted_up')\n",
        "\n",
        "# Rotate x-axis labels for better visibility\n",
        "plt.xticks(rotation=90)\n",
        "\n",
        "# Show the plot\n",
        "plt.show()"
      ],
      "metadata": {
        "colab": {
          "base_uri": "https://localhost:8080/",
          "height": 687
        },
        "id": "h_F2gD2M8vZC",
        "outputId": "9bb4ba0a-c239-41b2-a301-28aa07228cdc"
      },
      "execution_count": null,
      "outputs": [
        {
          "output_type": "display_data",
          "data": {
            "text/plain": [
              "<Figure size 640x480 with 1 Axes>"
            ],
            "image/png": "[encoded data removed]"
          },
          "metadata": {}
        }
      ]
    },
    {
      "cell_type": "markdown",
      "source": [
        "# Pre-processing"
      ],
      "metadata": {
        "id": "gAbRs-eeVXVP"
      }
    },
    {
      "cell_type": "code",
      "source": [
        "# Convert the \"review\" column to strings\n",
        "df[\"review\"] = df[\"review\"].astype(str)"
      ],
      "metadata": {
        "id": "JazC-aB7bO9A"
      },
      "execution_count": null,
      "outputs": []
    },
    {
      "cell_type": "code",
      "source": [
        "# Remove unnecessary columns\n",
        "df = df.drop(columns=[\"id\", \"created\", \"votes_up\", \"language\",\"comment_count\", \"steam_purchase\",\n",
        "                      \"recieved_for_free\", \"written_during_early_access\", \"author_num_games_owned\",\n",
        "                      \"author_num_reviews\", \"author_playtime_forever\", \"author_playtime_last_two_weeks\",\n",
        "                      \"author_last_played\", \"author_playtime_at_review\"])\n",
        "df"
      ],
      "metadata": {
        "colab": {
          "base_uri": "https://localhost:8080/",
          "height": 423
        },
        "id": "i7_gKuQCVUSD",
        "outputId": "ccafbcc5-2a81-4ce3-befd-d270e5f29caa"
      },
      "execution_count": null,
      "outputs": [
        {
          "output_type": "execute_result",
          "data": {
            "text/plain": [
              "                                                 review  voted_up\n",
              "0               being killed over and over again is fun      True\n",
              "1     I write this review as I have 100% completed E...      True\n",
              "2                                                   Fun      True\n",
              "3                                          pretty cool.      True\n",
              "4                                   AMAZINGGGGGGGGGGGGG      True\n",
              "...                                                 ...       ...\n",
              "9789                       Best platformer of the year.      True\n",
              "9790  truly fun...very recommended, worth the money ...      True\n",
              "9791          mimic is the friend we made along the way      True\n",
              "9792  The lands of Elden Ring are vast and wild, fil...      True\n",
              "9793                                  Cant Segz Godrick     False\n",
              "\n",
              "[9794 rows x 2 columns]"
            ],
            "text/html": [
              "\n",
              "  <div id=\"df-59eaec6c-3e40-4205-acc1-62f9406ddebb\">\n",
              "    <div class=\"colab-df-container\">\n",
              "      <div>\n",
              "<style scoped>\n",
              "    .dataframe tbody tr th:only-of-type {\n",
              "        vertical-align: middle;\n",
              "    }\n",
              "\n",
              "    .dataframe tbody tr th {\n",
              "        vertical-align: top;\n",
              "    }\n",
              "\n",
              "    .dataframe thead th {\n",
              "        text-align: right;\n",
              "    }\n",
              "</style>\n",
              "<table border=\"1\" class=\"dataframe\">\n",
              "  <thead>\n",
              "    <tr style=\"text-align: right;\">\n",
              "      <th></th>\n",
              "      <th>review</th>\n",
              "      <th>voted_up</th>\n",
              "    </tr>\n",
              "  </thead>\n",
              "  <tbody>\n",
              "    <tr>\n",
              "      <th>0</th>\n",
              "      <td>being killed over and over again is fun</td>\n",
              "      <td>True</td>\n",
              "    </tr>\n",
              "    <tr>\n",
              "      <th>1</th>\n",
              "      <td>I write this review as I have 100% completed E...</td>\n",
              "      <td>True</td>\n",
              "    </tr>\n",
              "    <tr>\n",
              "      <th>2</th>\n",
              "      <td>Fun</td>\n",
              "      <td>True</td>\n",
              "    </tr>\n",
              "    <tr>\n",
              "      <th>3</th>\n",
              "      <td>pretty cool.</td>\n",
              "      <td>True</td>\n",
              "    </tr>\n",
              "    <tr>\n",
              "      <th>4</th>\n",
              "      <td>AMAZINGGGGGGGGGGGGG</td>\n",
              "      <td>True</td>\n",
              "    </tr>\n",
              "    <tr>\n",
              "      <th>...</th>\n",
              "      <td>...</td>\n",
              "      <td>...</td>\n",
              "    </tr>\n",
              "    <tr>\n",
              "      <th>9789</th>\n",
              "      <td>Best platformer of the year.</td>\n",
              "      <td>True</td>\n",
              "    </tr>\n",
              "    <tr>\n",
              "      <th>9790</th>\n",
              "      <td>truly fun...very recommended, worth the money ...</td>\n",
              "      <td>True</td>\n",
              "    </tr>\n",
              "    <tr>\n",
              "      <th>9791</th>\n",
              "      <td>mimic is the friend we made along the way</td>\n",
              "      <td>True</td>\n",
              "    </tr>\n",
              "    <tr>\n",
              "      <th>9792</th>\n",
              "      <td>The lands of Elden Ring are vast and wild, fil...</td>\n",
              "      <td>True</td>\n",
              "    </tr>\n",
              "    <tr>\n",
              "      <th>9793</th>\n",
              "      <td>Cant Segz Godrick</td>\n",
              "      <td>False</td>\n",
              "    </tr>\n",
              "  </tbody>\n",
              "</table>\n",
              "<p>9794 rows × 2 columns</p>\n",
              "</div>\n",
              "      <button class=\"colab-df-convert\" onclick=\"convertToInteractive('df-59eaec6c-3e40-4205-acc1-62f9406ddebb')\"\n",
              "              title=\"Convert this dataframe to an interactive table.\"\n",
              "              style=\"display:none;\">\n",
              "        \n",
              "  <svg xmlns=\"http://www.w3.org/2000/svg\" height=\"24px\"viewBox=\"0 0 24 24\"\n",
              "       width=\"24px\">\n",
              "    <path d=\"M0 0h24v24H0V0z\" fill=\"none\"/>\n",
              "    <path d=\"M18.56 5.44l.94 2.06.94-2.06 2.06-.94-2.06-.94-.94-2.06-.94 2.06-2.06.94zm-11 1L8.5 8.5l.94-2.06 2.06-.94-2.06-.94L8.5 2.5l-.94 2.06-2.06.94zm10 10l.94 2.06.94-2.06 2.06-.94-2.06-.94-.94-2.06-.94 2.06-2.06.94z\"/><path d=\"M17.41 7.96l-1.37-1.37c-.4-.4-.92-.59-1.43-.59-.52 0-1.04.2-1.43.59L10.3 9.45l-7.72 7.72c-.78.78-.78 2.05 0 2.83L4 21.41c.39.39.9.59 1.41.59.51 0 1.02-.2 1.41-.59l7.78-7.78 2.81-2.81c.8-.78.8-2.07 0-2.86zM5.41 20L4 18.59l7.72-7.72 1.47 1.35L5.41 20z\"/>\n",
              "  </svg>\n",
              "      </button>\n",
              "      \n",
              "  <style>\n",
              "    .colab-df-container {\n",
              "      display:flex;\n",
              "      flex-wrap:wrap;\n",
              "      gap: 12px;\n",
              "    }\n",
              "\n",
              "    .colab-df-convert {\n",
              "      background-color: #E8F0FE;\n",
              "      border: none;\n",
              "      border-radius: 50%;\n",
              "      cursor: pointer;\n",
              "      display: none;\n",
              "      fill: #1967D2;\n",
              "      height: 32px;\n",
              "      padding: 0 0 0 0;\n",
              "      width: 32px;\n",
              "    }\n",
              "\n",
              "    .colab-df-convert:hover {\n",
              "      background-color: #E2EBFA;\n",
              "      box-shadow: 0px 1px 2px rgba(60, 64, 67, 0.3), 0px 1px 3px 1px rgba(60, 64, 67, 0.15);\n",
              "      fill: #174EA6;\n",
              "    }\n",
              "\n",
              "    [theme=dark] .colab-df-convert {\n",
              "      background-color: #3B4455;\n",
              "      fill: #D2E3FC;\n",
              "    }\n",
              "\n",
              "    [theme=dark] .colab-df-convert:hover {\n",
              "      background-color: #434B5C;\n",
              "      box-shadow: 0px 1px 3px 1px rgba(0, 0, 0, 0.15);\n",
              "      filter: drop-shadow(0px 1px 2px rgba(0, 0, 0, 0.3));\n",
              "      fill: #FFFFFF;\n",
              "    }\n",
              "  </style>\n",
              "\n",
              "      <script>\n",
              "        const buttonEl =\n",
              "          document.querySelector('#df-59eaec6c-3e40-4205-acc1-62f9406ddebb button.colab-df-convert');\n",
              "        buttonEl.style.display =\n",
              "          google.colab.kernel.accessAllowed ? 'block' : 'none';\n",
              "\n",
              "        async function convertToInteractive(key) {\n",
              "          const element = document.querySelector('#df-59eaec6c-3e40-4205-acc1-62f9406ddebb');\n",
              "          const dataTable =\n",
              "            await google.colab.kernel.invokeFunction('convertToInteractive',\n",
              "                                                     [key], {});\n",
              "          if (!dataTable) return;\n",
              "\n",
              "          const docLinkHtml = 'Like what you see? Visit the ' +\n",
              "            '<a target=\"_blank\" href=https://colab.research.google.com/notebooks/data_table.ipynb>data table notebook</a>'\n",
              "            + ' to learn more about interactive tables.';\n",
              "          element.innerHTML = '';\n",
              "          dataTable['output_type'] = 'display_data';\n",
              "          await google.colab.output.renderOutput(dataTable, element);\n",
              "          const docLink = document.createElement('div');\n",
              "          docLink.innerHTML = docLinkHtml;\n",
              "          element.appendChild(docLink);\n",
              "        }\n",
              "      </script>\n",
              "    </div>\n",
              "  </div>\n",
              "  "
            ]
          },
          "metadata": {},
          "execution_count": 21
        }
      ]
    },
    {
      "cell_type": "code",
      "source": [
        "# Convert 'voted_up' column to boolean. EDIT: No need, already in boolean\n",
        "# df['voted_up'] = df['voted_up'].map(lambda x: True if x == 'TRUE' else False)\n",
        "\n",
        "# Split the data into features (reviews) and labels (voted_up)\n",
        "reviews = df['review'].values\n",
        "labels = df['voted_up'].values"
      ],
      "metadata": {
        "id": "yaMSJ5iXeBiF"
      },
      "execution_count": null,
      "outputs": []
    },
    {
      "cell_type": "code",
      "source": [
        "#@title\n",
        "# labels"
      ],
      "metadata": {
        "id": "0gP-x_g7OKeW"
      },
      "execution_count": null,
      "outputs": []
    },
    {
      "cell_type": "code",
      "source": [
        "#@title\n",
        "# get_indexes = lambda x, xs: [i for (y, i) in zip(xs, range(len(xs))) if x == y]"
      ],
      "metadata": {
        "id": "6mbSgpDzOtzJ"
      },
      "execution_count": null,
      "outputs": []
    },
    {
      "cell_type": "code",
      "source": [
        "#@title\n",
        "# get_indexes(True,labels)"
      ],
      "metadata": {
        "id": "MKw6LiFRO7q0",
        "cellView": "form"
      },
      "execution_count": null,
      "outputs": []
    },
    {
      "cell_type": "code",
      "source": [
        "# Split the data into training and testing sets\n",
        "train_reviews, test_reviews, train_labels, test_labels = train_test_split(\n",
        "    reviews, labels, test_size=0.2, random_state=42)\n",
        "\n",
        "# Further split the training set into training and validation sets\n",
        "train_reviews, val_reviews, train_labels, val_labels = train_test_split(\n",
        "    train_reviews, train_labels, test_size=0.2, random_state=42)"
      ],
      "metadata": {
        "id": "HSTvPNiZVySC"
      },
      "execution_count": null,
      "outputs": []
    },
    {
      "cell_type": "code",
      "source": [
        "train_reviews"
      ],
      "metadata": {
        "colab": {
          "base_uri": "https://localhost:8080/"
        },
        "id": "N-MJazagZqn-",
        "outputId": "9efbbcf9-97e8-4394-d9c0-d8f7857e529e"
      },
      "execution_count": null,
      "outputs": [
        {
          "output_type": "execute_result",
          "data": {
            "text/plain": [
              "array(['graet game.', 'yes',\n",
              "       'Step into the lands between if you like open world games that do not hold your hand. In fact, this game goes out of the way to make you doubt every character and set piece. They will both kill you, if given a chance, with no mercy nor hesitation.',\n",
              "       ..., \"no don't fell like writing so its good\", 'nigga',\n",
              "       'Boulder\\n\\\\'], dtype=object)"
            ]
          },
          "metadata": {},
          "execution_count": 27
        }
      ]
    },
    {
      "cell_type": "markdown",
      "source": [],
      "metadata": {
        "id": "VIwTvgvKE2Qb"
      }
    },
    {
      "cell_type": "code",
      "source": [
        "train_labels"
      ],
      "metadata": {
        "colab": {
          "base_uri": "https://localhost:8080/"
        },
        "id": "7bQGcAh_Ztm2",
        "outputId": "011a98c7-c4d6-4adc-edf5-ad1daab788ef"
      },
      "execution_count": null,
      "outputs": [
        {
          "output_type": "execute_result",
          "data": {
            "text/plain": [
              "array([ True,  True,  True, ...,  True, False,  True])"
            ]
          },
          "metadata": {},
          "execution_count": 28
        }
      ]
    },
    {
      "cell_type": "code",
      "source": [
        "test_reviews"
      ],
      "metadata": {
        "colab": {
          "base_uri": "https://localhost:8080/"
        },
        "id": "hA6D7IqJemZ9",
        "outputId": "6979f6b5-8fa4-4cb4-b965-ecd649e814fc"
      },
      "execution_count": null,
      "outputs": [
        {
          "output_type": "execute_result",
          "data": {
            "text/plain": [
              "array(['good', 'Better than God Of War',\n",
              "       'The game is incredible for players that are new to souls games.  It is difficult enough where you have to think about what to do and where you want to go, but difficult enough to the point where you would want to pull your hair out. (Most of the Time).  Very good game that I would recommend for newer players and older players alike.',\n",
              "       ..., 'this game forces you to be good, i like that', 'its alright',\n",
              "       \"What an amazing game. Easily top 5 of all time in my opinion. I believe I did everything there is to do and obtained every item that I had interest in getting. All I can say is it's a masterpiece worth pushing through the struggle for. \\n\\nAbsolutely beautiful scenery, fluid gameplay and plenty of build options for your character. \\n\\nNow to play it a second time with a friend!\"],\n",
              "      dtype=object)"
            ]
          },
          "metadata": {},
          "execution_count": 29
        }
      ]
    },
    {
      "cell_type": "code",
      "source": [
        "test_labels"
      ],
      "metadata": {
        "colab": {
          "base_uri": "https://localhost:8080/"
        },
        "id": "6NS7LZ4yemOV",
        "outputId": "7cbe63ee-7189-41ab-8b2c-d8b9b9c8cf24"
      },
      "execution_count": null,
      "outputs": [
        {
          "output_type": "execute_result",
          "data": {
            "text/plain": [
              "array([ True,  True,  True, ...,  True,  True,  True])"
            ]
          },
          "metadata": {},
          "execution_count": 30
        }
      ]
    },
    {
      "cell_type": "code",
      "source": [
        "val_reviews"
      ],
      "metadata": {
        "colab": {
          "base_uri": "https://localhost:8080/"
        },
        "id": "Mmi4jJITerTd",
        "outputId": "365174dc-6227-4519-b2ab-b0cd8ca96fb5"
      },
      "execution_count": null,
      "outputs": [
        {
          "output_type": "execute_result",
          "data": {
            "text/plain": [
              "array(['fun af. good physics.',\n",
              "       \"I was very happy that elden ring won goty 2022, but now I want all games from software to lose, even if the game is good, it's abusive what they did with the price of other games, it's even worth reporting it yes, games from years ago...\",\n",
              "       'Its fun. Its nothing like Terraria.', ...,\n",
              "       '\"yes\" from souls veteran.', 'yuh', 'Feet'], dtype=object)"
            ]
          },
          "metadata": {},
          "execution_count": 31
        }
      ]
    },
    {
      "cell_type": "code",
      "source": [
        "val_labels"
      ],
      "metadata": {
        "colab": {
          "base_uri": "https://localhost:8080/"
        },
        "id": "El97M6lMerN3",
        "outputId": "ca2c6880-1e38-4e4a-f20e-406bd22d6449"
      },
      "execution_count": null,
      "outputs": [
        {
          "output_type": "execute_result",
          "data": {
            "text/plain": [
              "array([ True, False,  True, ...,  True,  True,  True])"
            ]
          },
          "metadata": {},
          "execution_count": 32
        }
      ]
    },
    {
      "cell_type": "markdown",
      "source": [
        "# Sentiment Analysis"
      ],
      "metadata": {
        "id": "tlyPZwmOZ1O1"
      }
    },
    {
      "cell_type": "markdown",
      "source": [
        "## Tokenization"
      ],
      "metadata": {
        "id": "wzCQVeNuaUam"
      }
    },
    {
      "cell_type": "code",
      "source": [
        "# Load the DistilBERT tokenizer\n",
        "tokenizer = DistilBertTokenizer.from_pretrained('distilbert-base-uncased')\n",
        "\n",
        "# Tokenize the training reviews\n",
        "train_encodings = tokenizer.batch_encode_plus(\n",
        "    train_reviews.tolist(),\n",
        "    truncation=True,\n",
        "    padding=True,\n",
        "    return_token_type_ids=False,\n",
        "    max_length=512,\n",
        "    return_attention_mask=True,\n",
        "    return_tensors='tf'\n",
        ")\n",
        "\n",
        "# Tokenize the validation reviews\n",
        "val_encodings = tokenizer.batch_encode_plus(\n",
        "    val_reviews.tolist(),\n",
        "    truncation=True,\n",
        "    padding=True,\n",
        "    return_token_type_ids=False,\n",
        "    max_length=512,\n",
        "    return_attention_mask=True,\n",
        "    return_tensors='tf'\n",
        ")\n",
        "\n",
        "# Tokenize the testing reviews\n",
        "test_encodings = tokenizer.batch_encode_plus(\n",
        "    test_reviews.tolist(),\n",
        "    truncation=True,\n",
        "    padding=True,\n",
        "    return_token_type_ids=False,\n",
        "    max_length=512,\n",
        "    return_attention_mask=True,\n",
        "    return_tensors='tf'\n",
        ")\n"
      ],
      "metadata": {
        "id": "_VPSuXHuZyE2",
        "colab": {
          "base_uri": "https://localhost:8080/",
          "height": 113,
          "referenced_widgets": [
            "a54e816ca88144b2826917f7bac272c7",
            "5e5fd3cc19c541e1906697d2767a0028",
            "d02ce3a01aee461d840afcdc9f7d6a1d",
            "f2879224808442bcab2ee545f1c98bf8",
            "91cd3774b1ca4d62ab0b3925f08b64fd",
            "4edf781f819d403e912424e37be101f5",
            "4e2c322282e64096ad7d8135230e9b6e",
            "13f9d9a166c44be3a915cc19109438a1",
            "d730787f49ff46bfb06e44bfac07de91",
            "dc0b931def1f41f1a520cbc24cc87838",
            "a3c4fab5442743cbbf189deb5af09530",
            "3da6bada4a694703b115cf6b1dddc18a",
            "54bca0a092ff491d861100914ee77182",
            "3cb18d2031fd416ab614a4f25c9be5dd",
            "43e89f5a56f94fb6ad4c1ed359cf2d6b",
            "f8722cc2fee646bb8738315ba63f6f11",
            "3f37dfe8ffb1406e9c70ffabe88e457b",
            "649fd374594e4a388401806cbf8303d9",
            "2d5f8555928343f89ac3253af540b085",
            "a2e9faafdd7e4bd4922a0e5627854b3a",
            "0c0e8d6db8b443b0b499c6a7db518caf",
            "d05fe464ab404c52bcb88c41f2d7c695",
            "58ddfcbc8fa549a8bbae3d09972f6a52",
            "0d4c8ca7fb8648bf9b99f7dc326e48cf",
            "fb82adb700474088890017b1b7330c92",
            "0f77953bd20c4f71b56787dd9a6727ec",
            "24528fdba4ee4a1e9b79855b94843442",
            "406b19b047634af480173d3828bd1cd4",
            "80af593b472e4abd820397487e2c1c14",
            "02ff43ffd03c432bbf7dba1456dd6345",
            "8c49b868b9a242149f7600079111364c",
            "98dfff12e2cc455191d55d515f538463",
            "3496cf599a4e4c84ac63470dab1422c2"
          ]
        },
        "outputId": "b75cc184-218c-4d47-9f58-ce80f1310e4d"
      },
      "execution_count": null,
      "outputs": [
        {
          "output_type": "display_data",
          "data": {
            "text/plain": [
              "Downloading (…)solve/main/vocab.txt:   0%|          | 0.00/232k [00:00<?, ?B/s]"
            ],
            "application/vnd.jupyter.widget-view+json": {
              "version_major": 2,
              "version_minor": 0,
              "model_id": "a54e816ca88144b2826917f7bac272c7"
            }
          },
          "metadata": {}
        },
        {
          "output_type": "display_data",
          "data": {
            "text/plain": [
              "Downloading (…)okenizer_config.json:   0%|          | 0.00/28.0 [00:00<?, ?B/s]"
            ],
            "application/vnd.jupyter.widget-view+json": {
              "version_major": 2,
              "version_minor": 0,
              "model_id": "3da6bada4a694703b115cf6b1dddc18a"
            }
          },
          "metadata": {}
        },
        {
          "output_type": "display_data",
          "data": {
            "text/plain": [
              "Downloading (…)lve/main/config.json:   0%|          | 0.00/483 [00:00<?, ?B/s]"
            ],
            "application/vnd.jupyter.widget-view+json": {
              "version_major": 2,
              "version_minor": 0,
              "model_id": "58ddfcbc8fa549a8bbae3d09972f6a52"
            }
          },
          "metadata": {}
        }
      ]
    },
    {
      "cell_type": "code",
      "source": [
        "# Create TensorFlow datasets from the tokenized data\n",
        "train_dataset = tf.data.Dataset.from_tensor_slices((\n",
        "    {\n",
        "        'input_ids': train_encodings['input_ids'],\n",
        "        'attention_mask': train_encodings['attention_mask']\n",
        "    },\n",
        "    train_labels\n",
        "))\n",
        "\n",
        "val_dataset = tf.data.Dataset.from_tensor_slices((\n",
        "    {\n",
        "        'input_ids': val_encodings['input_ids'],\n",
        "        'attention_mask': val_encodings['attention_mask']\n",
        "    },\n",
        "    val_labels\n",
        "))\n",
        "\n",
        "test_dataset = tf.data.Dataset.from_tensor_slices((\n",
        "    {\n",
        "        'input_ids': test_encodings['input_ids'],\n",
        "        'attention_mask': test_encodings['attention_mask']\n",
        "    },\n",
        "    test_labels\n",
        "))\n"
      ],
      "metadata": {
        "id": "gN0xfVqiaj2t"
      },
      "execution_count": null,
      "outputs": []
    },
    {
      "cell_type": "markdown",
      "source": [
        "# DistilBERT Model fitting\n",
        "\n"
      ],
      "metadata": {
        "id": "U2qmoeBPbjcX"
      }
    },
    {
      "cell_type": "code",
      "source": [
        "# Load the pre-trained DistilBERT model\n",
        "model = TFDistilBertForSequenceClassification.from_pretrained('distilbert-base-uncased')\n",
        "\n",
        "# Compile the model. We can tweak the hyperparameters later\n",
        "model.compile(\n",
        "    optimizer=tf.keras.optimizers.Adam(learning_rate=2e-5),\n",
        "    loss=tf.keras.losses.SparseCategoricalCrossentropy(from_logits=True),\n",
        "    metrics=[tf.keras.metrics.SparseCategoricalAccuracy('accuracy')]\n",
        ")\n"
      ],
      "metadata": {
        "colab": {
          "base_uri": "https://localhost:8080/",
          "height": 156,
          "referenced_widgets": [
            "0f76854ff0ef4e1191d42c94f71ffb18",
            "131df159bf904c82a742f5ef4d634477",
            "f8c22a9166114d9e829fd9df06d2ebfd",
            "f5a7b14702094d7fa88957f4f1cbe346",
            "8b036434ca9a421f8098b1b5e62c347c",
            "cc4f96961bf9446bb5bd9429c5403df0",
            "8fe3eff015c144498891ba42ed5ae6c9",
            "b02391d79e5148fcac99eebe39c9278c",
            "ad7ed6afbabc43a88c880665cb7b59ba",
            "36a362d0756248658073c13f0d602f72",
            "67fbf981facb466fb1fc1e0098150d3a"
          ]
        },
        "id": "XOaEvQKNbd6H",
        "outputId": "067cea16-9ca8-4037-fd31-8bc4e1fd7591"
      },
      "execution_count": null,
      "outputs": [
        {
          "output_type": "display_data",
          "data": {
            "text/plain": [
              "Downloading model.safetensors:   0%|          | 0.00/268M [00:00<?, ?B/s]"
            ],
            "application/vnd.jupyter.widget-view+json": {
              "version_major": 2,
              "version_minor": 0,
              "model_id": "0f76854ff0ef4e1191d42c94f71ffb18"
            }
          },
          "metadata": {}
        },
        {
          "output_type": "stream",
          "name": "stderr",
          "text": [
            "Some weights of the PyTorch model were not used when initializing the TF 2.0 model TFDistilBertForSequenceClassification: ['vocab_layer_norm.weight', 'vocab_layer_norm.bias', 'vocab_transform.weight', 'vocab_transform.bias', 'vocab_projector.bias']\n",
            "- This IS expected if you are initializing TFDistilBertForSequenceClassification from a PyTorch model trained on another task or with another architecture (e.g. initializing a TFBertForSequenceClassification model from a BertForPreTraining model).\n",
            "- This IS NOT expected if you are initializing TFDistilBertForSequenceClassification from a PyTorch model that you expect to be exactly identical (e.g. initializing a TFBertForSequenceClassification model from a BertForSequenceClassification model).\n",
            "Some weights or buffers of the TF 2.0 model TFDistilBertForSequenceClassification were not initialized from the PyTorch model and are newly initialized: ['pre_classifier.weight', 'pre_classifier.bias', 'classifier.weight', 'classifier.bias']\n",
            "You should probably TRAIN this model on a down-stream task to be able to use it for predictions and inference.\n"
          ]
        }
      ]
    },
    {
      "cell_type": "code",
      "source": [
        "# Train the model\n",
        "history = model.fit(\n",
        "    train_dataset.shuffle(100).batch(16),\n",
        "    epochs=3,\n",
        "    batch_size=16,\n",
        "    validation_data=val_dataset.shuffle(100).batch(16),\n",
        "    verbose=1\n",
        ")"
      ],
      "metadata": {
        "colab": {
          "base_uri": "https://localhost:8080/"
        },
        "id": "DFPXdNuJARaP",
        "outputId": "c9b0320b-9d42-4cb8-f89e-46966befbe3d"
      },
      "execution_count": null,
      "outputs": [
        {
          "output_type": "stream",
          "name": "stdout",
          "text": [
            "Epoch 1/3\n",
            "392/392 [==============================] - 116s 229ms/step - loss: 0.1850 - accuracy: 0.9419 - val_loss: 0.1237 - val_accuracy: 0.9623\n",
            "Epoch 2/3\n",
            "392/392 [==============================] - 62s 157ms/step - loss: 0.1043 - accuracy: 0.9614 - val_loss: 0.1206 - val_accuracy: 0.9585\n",
            "Epoch 3/3\n",
            "392/392 [==============================] - 54s 139ms/step - loss: 0.0625 - accuracy: 0.9794 - val_loss: 0.1579 - val_accuracy: 0.9553\n"
          ]
        }
      ]
    },
    {
      "cell_type": "markdown",
      "source": [
        "# Evaluation"
      ],
      "metadata": {
        "id": "m8ZzVy13yloF"
      }
    },
    {
      "cell_type": "code",
      "source": [
        "from sklearn.metrics import f1_score\n",
        "\n",
        "# Evaluate the model on the test dataset\n",
        "results = model.evaluate(test_dataset.batch(16), verbose=0)\n",
        "accuracy = results[1]\n",
        "\n",
        "# Get accuracy and F1 score\n",
        "predictions = model.predict(test_dataset.batch(16)).logits.argmax(axis=-1)\n",
        "f1 = f1_score(test_labels, predictions)\n",
        "\n",
        "print('Accuracy:', accuracy)\n",
        "print('F1 score:', f1)"
      ],
      "metadata": {
        "colab": {
          "base_uri": "https://localhost:8080/"
        },
        "id": "hR_WceR0Sf2c",
        "outputId": "7452bb3d-9d83-4397-832f-4df9ccea84d9"
      },
      "execution_count": null,
      "outputs": [
        {
          "output_type": "stream",
          "name": "stdout",
          "text": [
            "123/123 [==============================] - 6s 38ms/step\n",
            "Accuracy: 0.9515058994293213\n",
            "F1 score: 0.9744692287019618\n"
          ]
        }
      ]
    },
    {
      "cell_type": "code",
      "source": [
        "#Classification metrics\n",
        "from sklearn.metrics import classification_report\n",
        "\n",
        "metrics = classification_report(test_labels, predictions)"
      ],
      "metadata": {
        "id": "xrKUt3hnTvsx"
      },
      "execution_count": null,
      "outputs": []
    },
    {
      "cell_type": "code",
      "source": [
        "print(metrics)"
      ],
      "metadata": {
        "colab": {
          "base_uri": "https://localhost:8080/"
        },
        "id": "U1BySgOL1uqn",
        "outputId": "bf91b5fb-d40a-4056-da95-152f4b7a5793"
      },
      "execution_count": null,
      "outputs": [
        {
          "output_type": "stream",
          "name": "stdout",
          "text": [
            "              precision    recall  f1-score   support\n",
            "\n",
            "       False       0.66      0.42      0.52       120\n",
            "        True       0.96      0.99      0.97      1839\n",
            "\n",
            "    accuracy                           0.95      1959\n",
            "   macro avg       0.81      0.71      0.75      1959\n",
            "weighted avg       0.94      0.95      0.95      1959\n",
            "\n"
          ]
        }
      ]
    },
    {
      "cell_type": "markdown",
      "source": [
        "# Balancing the minority class"
      ],
      "metadata": {
        "id": "sc95BDaSqn8W"
      }
    },
    {
      "cell_type": "code",
      "source": [
        "df.to_csv('df.csv',index=False)"
      ],
      "metadata": {
        "id": "j7uhwR8KqH3s"
      },
      "execution_count": null,
      "outputs": []
    },
    {
      "cell_type": "code",
      "source": [
        "# Balance the minority class using data augmentation\n",
        "augmenter = naw.SynonymAug(aug_src='wordnet')\n",
        "minority_class = df[df['voted_up'] == False]\n",
        "augmented_reviews = []\n",
        "for index, row in minority_class.iterrows():\n",
        "  review = str(row['review'])  # Convert to string\n",
        "  augmented_reviews.extend(augmenter.augment(row['review'], n=1))"
      ],
      "metadata": {
        "id": "J6SdiMngHa9m",
        "colab": {
          "base_uri": "https://localhost:8080/"
        },
        "outputId": "4e584729-4dbb-42f9-cc16-c04974a3879f"
      },
      "execution_count": null,
      "outputs": [
        {
          "output_type": "stream",
          "name": "stderr",
          "text": [
            "[nltk_data] Downloading package wordnet to /root/nltk_data...\n",
            "[nltk_data] Downloading package omw-1.4 to /root/nltk_data...\n",
            "[nltk_data] Downloading package averaged_perceptron_tagger to\n",
            "[nltk_data]     /root/nltk_data...\n",
            "[nltk_data]   Unzipping taggers/averaged_perceptron_tagger.zip.\n"
          ]
        }
      ]
    },
    {
      "cell_type": "code",
      "source": [
        "augmented_reviews"
      ],
      "metadata": {
        "colab": {
          "base_uri": "https://localhost:8080/"
        },
        "id": "njorfyJ-hiSY",
        "outputId": "7a795080-8f87-41aa-93da-44f35d6c930a"
      },
      "execution_count": null,
      "outputs": [
        {
          "output_type": "execute_result",
          "data": {
            "text/plain": [
              "['suck',\n",
              " 'Mode overrated. Ringlet simulator while honk spells.',\n",
              " 'FPS be cap at 60.',\n",
              " \"I play this game for about viii hrs. , and haven ' t come back to information technology. Information technology comprise about the most boring game I have ever played. Within the 1st hr. , I had come across bada * * gear and was kick the crap out of everything I came across. That includes the bosses. Oil production as hell. Visuals comprise smashing, but they ' re not worth paying for.\",\n",
              " \"It was super fun until post - capital. Then the game starts becoming an uninteresting slog for the next half of the game. All the area ' s after the Atlas plateau just kinda suction. The re - use of enemies / bosses become super manifest As many early game bosses become normal enemies in the belated game which is super dis - jarring. Not to mention one of the main super important bosses (godrick) gets re - apply in his first phase as an evergaol boss? That ' s just goofy as all can be. The game would ' ve been a lot better if it live smaller for sure. As places like the mountaintop of giants and concentrated snowfields aren ' t fun to explore. Hell you terminate ' t even see in most of the snow fields to in reality explore the area. Also. The haligree tree is genuinely such a pain in the arse. I have got more trouble getting to melania then fighting her? I don ' t know. I just cannot reccomend this game as the last half is just non fun at all. Atleast a lot of the big bosses were fun. Except Ranala, and the Elden Beast because they both kinda just sucked. Melania and Radahn were stupidly fun bosses to fight.\",\n",
              " 'I care the game its a improved dark souls set in a fresh world. The reason I cant over recommend it is even after a twelvemonth the game still stutters even on a beefy rig. Unity stimulate updated my drivers reinstall the biz ete.',\n",
              " 'For those who like a game that is difficult for the interest of being difficult this is your game. and dont expect that to stop when you try and play with your friends either. this game has the worst multiplayer system i have ever see. at best you can wipe out a genus bos or 2 with your friend before having to re start the entire multiplayer process which takes resources that have to personify farmed.',\n",
              " 'threescore FPS capped? In this clarence day and age? Absolutely Pathetic.',\n",
              " \"bad pc perfomance with an rtx 3070. its playfulness, simply don ' t buy on personal computer\",\n",
              " 'Ово је говно од игрице. Не вреди нити куповати, нити играти. Курчина масна немојте да скидате, играјте мајнкрафт верујте ми браћо',\n",
              " 'This game would be 10 / 10 but the stuttering issues make it super frustrating. How have the developer not fixed this trouble by straightaway? The feeling when your about to outsmart a hard boss fight and then a stutter make you get hit and die. .. . fuck off YOUR SHIZ TOGETHER FROM computer software! (YES, ive tried the fixes. i shouldnt have to to examine anything similar that anyways )',\n",
              " 'Game trash',\n",
              " 'I \\' m sure this secret plan comprise pretty fun when it works - - I trucked along until I live starting to get the hang of Margit - -, but it stutters * a lot *; the various fixes suggested (disabling SMT, disabling e - cores) don \\' t work on my AMD system; and the worst part is when it decides to randomly crash on fast - traveling, including using the \" return to entrance \" pick after a boss fight. Finally beating a boss only to lose all your progress is not fun. Amazing that this ever got released, a great deal less that it make a Game of the Year award. I feel terrible because it be a gift, but I needed to post a fair warning to other player.',\n",
              " \"It ' s beautiful, enthralling, and has interesting character building. .. . ruined by terrible gameplay and a control scheme pick out by having a toddler throw flit at a keyboard. Ultimately, it is practically more thwarting than merriment.\",\n",
              " \"Gotta say. .. first picture. .. sucking. Character maker broken on launch. First fight, Grafted Scion didn ' t spawn. Jumped off cliff, died and the game ne'er reloaded. .. . spinning spinning spinning. Uninstall and refund, wait for patches. Sorry. Wanted to like it. But unplayable after an hour. .. no go.\",\n",
              " 'plot blow wayy to much grinding just to obliterate first boss',\n",
              " \"But preceptor ' t\",\n",
              " 'If your checking the revaluation and then get stop study the reviews the reason most of these people give away it negatively is either because they have ass pcs or the game to a fault difficult for them its supposed to be difficult if it was easy then why play it',\n",
              " 'Frightful revolt useless dog game',\n",
              " 'One volition change this to a positive review as soon as i cease getting formosan players with 3 + 2nd delay in PvP. Make cross - region matchmaking work external of japan, cmon. Early than that the game is perfect',\n",
              " \"CAN ' T PLAY ONLINE FOR Amp UNKNOW REASON\",\n",
              " 'Ive never see a Souls game get picked up and put down faster than this blunder of a game in my entire life. Before you dissent with my review, just now ask yourself, how long were you and your buddies talking about dark souls trine? How long do the internet rave about dark souls 3 with its content filling every platform there was. Today take a good look at this game? They made it a few months before information technology was out of the spotlight and forgotten nearly and that speaks volumes regardless of any other opinions or reviews.',\n",
              " 'This was a very unsatisfying game. There was no direction in the game - I had no idea what the goal constitute. After Atomic number 53 googled several sites I found out I was to kill Godrick, or some such character. That took hardly any time at all. It almost looks like this is one of those early - release games as there be several areas that you cannot admission. That equal not how this game was described before I spent (and wasted!) $ 60! Iodine have bought several other games through Steam and have always been very satisfied but this one not still close.',\n",
              " 'meh, could barely play myself to finish it',\n",
              " 'No widescreen. So look shite have massive black bar downward the side.',\n",
              " \"The cleaning woman customization is eldritch, since you mostly can ' t see your face anyway, but okay. That the camera forces to be behind your char just feels awful all the time. One didn ' t play any Soul games in front, so I # m def not used to the system. And I know it ' s supposed to be hard, but where am I supposed to get into the game while it jumps from enemies getting down after threesome hit, each impairing them, to enemies on horse there the horse kicks you into oblivion alone. Speaking of fighting, sometimes the enemie goes for an attack, I try to dodge, 2 / 10 time it works, 8 / 10 it doesn ' t, why? IDK. You can ' t run, jump with F, and if you die you lose all your money, until you go back there to collect it, running into something that killed you. Why do ppl like this game??\",\n",
              " 'elden ring is elden mid it ’ s not a flawed masterpiece or a rough diamond or whatever else the meme 2 60 minutes video essays tell you, it ’ s just mid DISCLAIMER: this is my second time playing this game, don \\' t mind the hours, the first time i was doing the hand hook and eyepatch build> open world probably the best aspect of this game by far, you just can never get tired of exploring the lands between one complaint about the open world i often hear is that you often find yourself just traveling way too much from point a to point b, but i don ’ t see this as a negative, since the game ’ s beauty alone is enough to keep your attention legacy dungeons are also good but that ’ s been said a million times already however, even this kind of open world is not without flaws> copy paste why does this game have 5 or so dungeon types? no, i don ’ t want to explore yet another cave or a mine or some lazily copy pasted catacomb (sometimes with a chariot ), but sometimes you have to, to get the smithing stones or that talisman you want but it ’ s not just the dungeons that get copy pasted, bosses and enemies do too can you imagine my disappointment when i got to the mountaintops of giants and was like \" holy, this area is so beautiful, i wonder what kind of enemies i \\' ll be fighting in here \" can you imagine my face when i saw the caelid dogs, the caelid birds, the stormveil birds, the demi - humans, the bats, the marionettes, the men, and the vulgar militiamen a - at least zamor dudes became a normal enemy instead of a m - mini - boss, so it \\' s at least ONE unique enemy tied to this area, r - right? miyazaki, my brother in christ, I HAVE BEEN FIGHTING THESE ANNOYING BIRDS AND BATS AND DOGS THROUGHOUT THE WHOLE GAME, I ’ VE KILLED SO MANY OF THE DEFAULT SWORD / SPEAR SOLDIERS, CAN YOU PLEASE ADD MORE ENEMIES INTO THE GAME NO, YOU CAN ’ T JUST PASTE OLD ENEMIES FROM OLD GAMES, YOU DID THAT TWICE IN ELDEN RING ALREADY WITH ASYLUM DEMON AND CAPRA DEMON i am especially sick of the transcript pasted dragons, erdtree avatars are at least fun to fight ROT DRAGON, ICE DRAGON, NORMAL DRAGON, MAGIC DRAGON, MAGIC DRAGON 2 ALL OF THEM HAVE THE SAME MOVESET this is a triple a game, just to remind you edit: there is way more copy paste from previous titles as it turns out, just today i found out about red wolf of radagon having the same animations as sif and the death blight frogs> combat this is where things get bad, such outdated souls - tier combat where it feels like you ’ re handling a bus instead of a human SHOULD NOT EXIST with such fast bosses that feel like they come straight out of sekiro either make the player faster and give him more movement options, or make the bosses slower it is infuriating having to dodge 5 - 10 boss attacks only to get ONE hit in and then repeat the cycle torrent is awful to control, and it feels like he \\' s not listening to half my commands wow, it \\' s just like a real horse! the decision to make your stamina tied to torrent \\' s is also bizarre and unexplainable also, input buffering is more often then not the result of your character ’ s demise, as it has been countless times that this trash read my ash of war as ash of war + left handed attack after it and i died so many times because of this before fromdrones shout “ skill issue ”, i am literally putting my hands off the keyboard after doing the ash tree of war and my character still does the normal attack after it but, despite that, my character drinks only 1 flask half the time despite me mashing the heal button i often miss the opportunity to reposte thanks to INPUT BUFFERING, so why not let the player know when the boss stagger is coming up? you \\' re gonna make a posture break mechanic without implementing at least some kind of sign? i swear to christ miyazaki has never played his own games also, why do the enemies \\' arrows home in on you, yet the player \\' s arrows don \\' t home in on enemies? do the enemies have special magnet arrows or something? can some lore expert tell me how this is explained in the story?> bosses and these bosses, oh god, these bosses delayed attacks, input reads (these are especially “ fun ” if you ’ re doing any run that involves projectiles ), blatant destruction of established game mechanic, they got everything you don ’ t want in an action rpg and i can \\' t stress enough how awful the input reads are, the best bosses for showcasing such nonsense are margit for his combo extender that he won \\' t do unless you attack and the godskins who shoot black flames at you IMMEDIATELY upon pressing the heal button someone needs to teach miyazaki that \\' s not how reaction time works but, being completely honest, i had fun fighting malenia sure, she is actually one to break established mechanics https: / / www. youtube. com / watch? v = R9Vbsr3Ko7M but at least that boss has a unique feel and dynamic to it, akin to an old samurai standoff, where the two warriors exchange blows and then fall back to circle around each other her attacks are more or less intuitive, and she does have a flexible moveset that ’ s fun to play around with on your part EXCEPT FOR WATERFOWL DANCE AND VAMPIRISM, WHOEVER DESIGNED THOSE INTO MALENIA NEEDS TO GET FIRED FROM THEIR JOB ASAP, AND UNLESS YOU ’ VE NOT DONE SOMETHING AS ELEMENTARY AS BEATING MALENIA ON A KEYBOARD WITH NO SUMMONS OR SLEEP POTS OR MOONVEIL / ROB, YOUR OPINION DOES NOT COUNT also, elden beast is the worst final boss in any video game ever, radagon was such a good conclusion to this mediocre, but still charming game, but nope, my face gets smeared with the broken unfun mess that is elden beast he \\' s constantly running away, he \\' s not at all dynamic like radagon, and he even looks like crap come on, who wants to fight a giant space spaghetti as the final boss? also, ulcerated tree spirit just ulcerated tree spirit> story average fromsoft fan be like: OH MY SCIENCE IS THAT LE HECKING MIYAZAKI TELLING THE LORE OF THE GAME THROUGH ITEM DESCRIPTIONS FOR THE 1488TH TIME? ?? HOLY GOSH OOOOOOOOOOO ELDEN RING seriously though, the lore of this game is admittedly pretty interesting, but the narrative sucks to give an example, in the beginning we are shown a literal powerpoint presentation about the world okay, what ’ s the night of the black knives? not gonna explain? oh, okay i ’ m a tarnished? i don ’ t even understand what that means what the hell is an elden ring? and so on and so forth stuff similar this continues throughout the whole game because the narrative feels like a jumbled mess of in - universe terms and seemingly random events on that note, quest design in this game is unintuitive as hell to take varre ’ s pursuance for instance, how the hell am i supposed to know that i need invade other players THREE times to advance his quest? or patches, it ’ s like he ’ s teleporting around the map at random, he doesn ’ t tell you where he ’ s gonna go> leveling softcaps? truly? at least tell the player when they get to them, so he doesn ’ t have to google it i suggest this is due to pvp or some crap like that, but pvp is a portion of the game, not the entirety of it and you don ’ t balance stuff AROUND it the smithing stone grind in this game is obnoxious because of what i described about the caves in the open world section such game design is almost ubisoft - tier, and those are the items that actually get you through the game> optimization it is just bad it is understandable why my fps are bad on medium settings, seeing distant lands is part of the charm of this game but the crashes are inexcusable i suspect it is due to the botched anti - cheat, since without steam this game didn \\' t run half as bad IN CONCLUSION i really cannot recommend this game if you \\' re into the ACTION part of the ACTION RPGs it \\' s a strong MAYBE if you \\' re into the RPG part, but it \\' s just simply so tiresome to even control your character this game is just outdated, through and through, and i think we all know why it won goty it is because there was nothing else better than elden ring i mean, come on, you \\' re gonna give it to god of soy? miyazaki is a hack',\n",
              " 'Games Atrocious',\n",
              " 'i play this a little as a test. if your reading this you already know your go to get the game. unity besides never recommend game to people. so stop asking please.',\n",
              " 'Jam radical - spacious support. Puzzle with the times.',\n",
              " 'Lots of positives with this game, completely wasted due to it \\' s tedious combat. Extremely poor balance in interactions between the player and the A. I. To keep things short, it \\' s never your turn in this game, and attacking in a electroneutral situation will get you penalize 99% of the clock time. Where every early FS game standardises \" attacking until it \\' s sentence to dodge \", this unmatchable is rather \" sit around and dodge until you can throw out a single attack \\', Overall very boring and unrewarding combat that doesn \\' t hold a candle to BB, Sekiro, or even Dark Souls 1.',\n",
              " 'cant secs the lober ):',\n",
              " 'roll in the hay',\n",
              " 'Barn',\n",
              " 'too concentrated of a game, non play.',\n",
              " 'apply a controller beaver state forget about information technology',\n",
              " 'You either get OP build with bleed beaver state you endure because end biz enemies deal more damage than bosses',\n",
              " 'Biz be contrive for consoles. If you do non comparable to play with a controller, i do not urge this game.',\n",
              " 'good biz',\n",
              " 'Iodine genuinely try to like information technology, just it has to be the worst gaming experience I accept ever have.',\n",
              " '.',\n",
              " 'Taco Toll',\n",
              " 'This game takes ended your life. Not recommended if you are currently populate. 700 hours in and still finding modern manner to come back and sink at least 20 more hours into this singularity of a picture game.',\n",
              " 'this game is rank frank water, iodin requested a refund but they defy to give information technology to maine.',\n",
              " \"A very addictive and mostly fun game. .. YET. .. it equal also a frustrating time - sink. This is a PvE - single - player - explore - and - conquer dream. But I don ' t recommend it. It is frustratingly difficult at times. The story is non - existent. There are no quest guides to help you navigate the open world. I am playing the game with a 12900k + 4090 yet it frequently stutters during combat, even though it ' s weirdly locked to sixty FPS. My 2017 7700k + 1080 Ti could do 4k60 so. .. what gives? This game feels a lot like Elder Scrolls games: sure there ' s a main questline / finish but you can totally ignore it and just wander around and do stuff. I never finished Oblivion or Skyrim; I wandered around, flush up, did some quest lines, joined some guilds, then got bored and stopped playing altogether. Elden Ring has been similar. .. I ' m 160 + hours in and have leveled a lot and explored but now feel fatigue & boredom. Since there ' s no story development, I don ' t sense any connection to the world and the characters in it. .. why do I even care about becoming the Elden Lord and stopping the baddies in this world? Since there are no quest markers, I often find NPCs dead (as evidenced by them being a pile of lootable armor) having missed meeting them at the correct time. But, I usually just shrug at this because the game doesn ' t give me a reason to care. Will I come back to this at some point and play more? Absolutely. And, if you choose to buy this game, I ' m sure you ' ll enjoy it at some level. .. scarce understand what you ' re getting into.\",\n",
              " 'This garbage is and then overrated',\n",
              " \"The controls be hateful, might be better with a controller but the key board isn ' t good. I am a lefty and always have to remap for how One play, I can ' t stool this tolerable. I have about two hours into it and I won ' t try again. Blown money, should have pass information technology at the bar. .. ..\",\n",
              " \"I honestly think the game was good, until the artificial difficulty set in. Is it not bullshit to be doing rattling good on a run to the point that you can ' t see red on the bosses health bar, and and then all of a sudden it starts spamming every single attack it has not giving you a fucking second to react? I think it ' s the definition of bullshit. On the elden beast it does this thing where it shoots stars from the sky that track you and information technology ' s very annoying, and how i ' ve gotten past that on every single play - through i ' ve done is by running, that ' s what your supposed to do. But that doesn ' t matter. Because every single time i get it down to super low health information technology won ' t even let me avoid the attack anymore. i ' ve be stuck on elden beast for 5 hours and without fail this only happens when it gets to low wellness, every other time i can get past it easy no sweat. I thought the game was great but having the end game boss have an attack that tracks you and basically kills you in one hit if it catches you unavoidable is borderline cheating.\",\n",
              " \"bad biz, non game of the yr cuz of catacomb. good game wouldn ' t include fanatic black blade dog, waiting on elden halo ii\",\n",
              " 'They defeat PotFriend WeirdChamp they change.',\n",
              " 'Death Layer Smalls',\n",
              " 'You can tell exactly when and where the devs stopped being capable to find new manner to make the game playfulness and challenging instead of just unjust',\n",
              " 'Could non configure right mouse to propel forward, repayment.',\n",
              " \"Not online. Barely operable connective, that don ' t final and be abruptly halted by the game. Can ' tetraiodothyronine even open a door together. Pretty piteous.\",\n",
              " 'This game is to DS3, what DS2 be to the first instalment: ace step forward, three step backwards. The pvp is worse, pve is worse, the lore is worse, the network issues are worse (how you managed to mess it up three times in a row? ), recycled content and leftovers from DS3. Overall just overhyped and bare, what is left feels uninspired and boring compared to what the rest of the dealership hold to offer, it looks pretty tho.',\n",
              " 'it give suck. better manoeuvre ds2!',\n",
              " 'crrap',\n",
              " \"FromSoftware is not for me, only Single keep grease one's palms because of the hype and keep getting disappointed by what makes this such an award - winning experience: Information technology ' s damn hard (no, really ); Even the terrain hates you; Nothing be linear and Google is your friend; Story? I ' ll tell you bits and pieces and you project the rest out yourself someday, if ever. Graphics? AAA (How many A ' s can you put hither?) Music? Lots of A ' s Creature design? I ' m running away of A ' s Enemy variety? You have more enemies than you did in highschool.\",\n",
              " \"What is the holy crap. Why do people like this? Maybe the most clunky combat I ' ve dally since 1995. For real, horrible character founding, it ' s impossible to defecate a character that doesn ' t look like their face is smashed inwardly, There are no round edges on modeling or terrain so it ' s same I ' m playing with polygon shaped graphics like I did in the original Tomb Raider on my PS1. Zero direction, zilch story. .. I played for a hour and requested a refund.\",\n",
              " 'meh',\n",
              " 'game is only 50 gigabyte reason they copy - pasted almost everything at least 1 time, every dungeon looks the exact same and even has the same mobs. information technology nice to stimulate alot of bosses but maybe they should bear made them more interactive and make the animations as big as the hitbox. the last 2 bosses were probably the worst thing i fought in any game ever very clunky combat system, the animation of not having pots left to drink stuns for about 3 seconds and cant be canceled. about 90% of the time enemy hits cancel your attack and sometimes your own hits cc for 3 seconds and there seems to be no pattern, putting on 3x better gear against cc didnt make any difference either. the game is not that risky, offers a destiny of content for not too much money but if you play it keep one thing in mind: YOU CAN SKIP BOSSES. some bosses have such poor designs or hitboxes, they dont deserve to die. If you want to just run through i recommend strenght build, its about 50% better than any other build and doesnt even get outscaled in late game despite only leveling vigor and strenght',\n",
              " \"Entire gameplay loop is: walk around, appreciate how pretty it be, unless you ' re in a swamp find some new horror or horror finds you it beats the shit out of you for 2 hours maybe you beat it maybe not strike on and feel hollow either way boring af tbh Serious exit with the pacing of this game. Feel extremely under levelled the entire time I got how the levelling is supposed to work but the time it take to go up a single level esp if you want to use strong things that need like 30 in half the stats means you ' re clearly not meant to be grinding the same enemies to get thither because the only farm able enemies give like 11 runes so the only option is fight and win against whatever is the strongest thing you can find is and half the time you have no idea if its worth it you slam your head against this giant whatsoever for half an hour or more, finally get it and all it gives you is some crafting ingredient and 1k runes, what personify point in trying after you get that meaning the entire game is hardly getting pummelled by the next OP boss that just shits on you in 0. 3 seconds very. fun.\",\n",
              " 'the fucking wiener are stronger than the last fucking boss',\n",
              " \"A sluggish and nonintuitive snorefest with visuals so dreary that you ' re oklahoman sooner than after going to find yourself stare longingly low spirited the now vacuous anti - depressant bottle.\",\n",
              " 'dark souls three superscript pvp',\n",
              " 'poopy red cent',\n",
              " 'Can they kibosh making subject earth hence f * * cking massive, just have a decent tarradiddle please. Overall good secret plan though.',\n",
              " 'bunk away from tree sentinel',\n",
              " 'This plot is a humiliated muss. No skill required. Just click at arrive at the sponge.',\n",
              " 'wat een kanker spel',\n",
              " \"Its 2023 and devs of a AAA secret plan still don ' deoxythymidine monophosphate know how to make a personal computer recognize and show the UI of a controller. No doubt game ' s a masterpiece, but one would assume that after shitting millions devs would render a shit when it comes to game optimization. Fix the outcome after a class of spillage? Nah, keep it as personify. Much better.\",\n",
              " 'AHHHHHHH IT: Kenny: SUUUUUUUCKSSSSSS AHHHHHHHHHHH: Kenny:',\n",
              " 'Hidetaka Miyazaki you volition be boiled',\n",
              " \"I wish there was an ordinary rating on steam. Great world to explore, stage plan is top notch, but the gameplay is just real bad. I don ' thymine really get altogether the hype about this plot, information technology barely an average AAA plot\",\n",
              " 'concluding boss live poor secret plan innovation and un intuitive to fight, this be a poor rendition of a typically terrific final boss arcoss every other plot by Miyazaki',\n",
              " \"This one hurts. One want to like this game. I really REALLY want to like this biz. But I put on ' t. Why? Becuase the first 1 / 2 - 2 / 3 of this game is good! Really fun, lots of enemy variety and exploring every nook and cranny is a fun and rewarding experience! The bosses for the most percentage were a great time to smash my head against. And then i got to the Atlus plains and the game became a boring irritating slog. Almost instantly as well. The bosses become repeats of bosses you ' ve already seen, the basic enemies are the exact same as the enemies that you ' ve learn for the last 4 areas, just tankier and hit harder. The game feels like they front loaded it with all of the exciting content then desperately had to fill in the rest of the game with copy and pasted content. It managed to retroactively dislike previous boss fights by having the exact same boss show up again, and im not talking about some random enemy demon or tree, im talking about storied named bosses that you beat and then they just randomly show up again. There are roughly 10 bosses that you have to fight only once. Out of 170. It is honestly one of the most frustrating games i ' ve played in where the foremost 2 / 3 are really really fun and then you run into a steel wall of disappointment and frustration. Honestly is worse than Dark souls 1 and 3.\",\n",
              " \"Elden Mob be a game that isn ' t even too ridiculously difficult, it ' s just kinda. .. bore. You put on ' t get any progression until like. .. thirty hours into the game, and if you want to put that time into it, great, but it ' s just besides hard to get into for me. I wouldn ' t recommend unless you are prepared to G R I N Calciferol. not deserving the money imo.\",\n",
              " '...',\n",
              " 'Biz depend near, but there is no quest god almighty, no way of life to know what to do next without use a guide. Not a great game hardly a skilful one.',\n",
              " 'Did the Atomic number 5 squad make this biz?',\n",
              " 'Lock to 60hz, still shader compilation stuttering, no radical encompassing. ..',\n",
              " 'A secret plan exist so awful like this should comprise considerate crime.',\n",
              " \"I ' d refund this plot if I could but I can buoy ' t so I ' m going to cause this instead. Thank you Miyazaki for your genuine spoilt game to - date, please make out better with Armored Core.\",\n",
              " '\" After about 50 hours in; I \\' m extremely disappointed. The obvious flaws of previous DS games is present once again (jank movement, enemies swinging through the same walls you bounce off of. .. the list goes on) but NOW there \\' s even more jank! You have tedious ass platforming on a swivel stick goat, you have scaling bosses negating any sort of leaving, getting stronger, and coming back. .. you have no inspiration to explore because the boss you \\' re stuck on will be just as (if not more) difficult when you return. There personify BROKEN npcs in this game. Example: There \\' s a singing harpie in the lake that does wee all damage to you. You can sit still and solo him and the entirety of his guards. Unless. Unless he uses one move that AUTOMATICALLY HITS (it actually puts your character into an animation at it \\' s start that becomes uncontrollable) and one shots you. A random, singing, low level harpie. Has piss all stats but contains a ONE HIT KILL. And there are a LOT of these scenarios. Balancing doesn \\' t exist in this game. The movement issues and fighting problems could be EASILY identified by even 10 hours of play test from one human, so I \\' m beyond sure they \\' re aware and just throw it into the \" Difficulty is fun regardless of design \" basket they love to bank on. The game is a slap in the face. It takes away the core concepts of an ARPG, but keeps the difficulty of pretentious level movement. And the pausing. Holy ever loving fuck, the ability for enemies to slow down one of their attacks at random in a string of nromally quick attacks. What the shag? It \\' s not something WE can do so why would you have to contest with it? This game amounts to 100 + hours of jank deaths then RnG \\' ing through moves used into a victory that honestly. .. feels hollow as fuck by the end. I don \\' t feel as if I mastered their moveset and could destroy them at any time now that I have; I just feel that one of their moves didn \\' t AUTO KO me and Iodine happened to pull a win. I don \\' t feel like I put the work in to get stronger to surpass it, I feel as if it \\' s the same fight as before I went and leveled. Once again negating my effort. I \\' m sorry but. Not sorry. This game needs a massive overhaul to become enjoyable. Right now the only people sucking this game off are diehard souls fans who believe that FromSoftware can do no fucking wrong. But. It can. And does. 1995 PS1 titles had better programmed clipping ffs. \" - DragonfruitCapable The real reviews are on reddit. And theyre accurate save your money.',\n",
              " 'This game grounds only frustrations. Still graphical is gracious.',\n",
              " 'Dogshit secret plan',\n",
              " \"Coming from someone who ' s played through every Souls game multiple time, summation Bloodborne / Sekiro, with Bloodborne being my favourite, this game is such a let down! They ' ve essentially taken Dark Souls 3 and slapped it into an open - world. My biggest gripe with the game is they ' ve seemingly made the game hard just for the sake of being hard. Information technology seems like most enemies, especially bosses, are all running at Bloodborne speed (with 360 gymnastics, jump all over the place, infinite stamina, spamming combos, crazy damage) while the player character is running at Dark Souls 1 speed. Gone is the challenging yet fair game - play of their former games. My second gripe is the open - world facial expression. It ' s so boring! There ' s non enough in it to actually research, so you ' re essentially just running from one major area to another, with a few bits and pieces in between. The atmosphere and the look of the world is great though. Elden Ring would ' ve benefited so much more from proper interconnected world design. Nearly everything else is also just copy pasted from previous games, the combat, the animations etc. I ' d say if this is your first From Software game, you may relish it, but, I would suggest you play Dark Mortal 1 and / or Bloodborne instead.\",\n",
              " \"The game is fun for the first 20 hours, afterwards its just an average open world game. The bosses are difficult, but to me it the poor default keyboard controls that add difficulty to the bosses. For instance I can ' t summon without lifting my hand from the mouse to press the arrow keys. Not to mention that my computer died after 20 hours of my first play through and all of my save data was lost. Ace had to completely start over and at this point the gameplay was more of a chore than anything else. I don ' t know if I will end up finishing the game because every enemy 1 fight drains more and more joy out of this game. I have no clue what is happening story wise by the way. Like yeah I ' m just another knight trying to become the elden lord, but some of the only exposition comes from duologue dumps from the Marika character or whatever her name is. I would have play Bloodborne instead however it is not on PC.\",\n",
              " 'piece of shit',\n",
              " 'NOTE: I played this game at launch. It \\' s okay. This review will compare Elden Ring to Dark Souls III a lot for obvious reasons. The open world formula hurts this game a lot. A sense of bewilderment is common when you move around with barely any direction at all. You get indications to sites of grace, but that \\' s it. When i tried going someplace interesting on my ain i got stomped instantly. If i didn \\' t explore the crevices of the vast empty land, i was under leveled. If i explored everything then i saw the same ruins asset and enemies scattered everywhere. It felt like a grind and exploration for the sake of exploration. When i moved on to the \" correct \" path, and there certainly is one, although the game nor the players tell you that, it all felt very good. The pacing was amazing. This harkens back to my previous statement; when the developer guides you in and puts you through the curated experience (i. e you play it like Dark Souls ternion ), it \\' s really, really good. When you actually do open world content, it actually kind of sucks. A huge flaw in design for me is the way they introduce you this danger. Spoilers: There is a point in the game where you get transported from the starting zone, to a much higher story Zone, Caelid. It \\' s very obvious you are supposed to, and should, run. So i did. I got to a site of grace and went back home. This is introduced if you enter an obscure cave with a chest at the end. The run where i didn \\' t do this, and entered as i normally would with Torrent, i got stomped by the enemies and lost my runes. Therefore, it \\' s apparent to me that the game is induce to be explored and scoured for treasure. However, this content is repetitive. The same reused caves and bosses are littered across the map and give you cool stuff. The enemies here are annoying and the same in all of them, with varying layouts. Completing these is mostly a chore you do to unlock things. Not once did i do a dungeon and find it a refreshing or interesting experience. Oh, and if you skip all these you will likely be under leveled and miss out on all the cool stuff. Following the curated experience is expert. I wish they had taken more steps to gently guide you in game instead so they could lean into what they answer best, the \" dancing \" with the bosses. Dark Souls 3 had exquisite combat flow and each boss had a built - in rythm to learn, with few exceptions (looking at you, Oceiros ). The satisfaction from completely dismantling a boss by learning their every move was amazing. It truly felt like you rose from the ashes and became stronger by learning every time. The bosses in Elden Ring attack you so mercilessly that you offload some hits to your summons instead or just abuse magic so you avoid the combat. The openings you gain be therefore the boss attacking your meatshield instead of your own skill dodging their attacks and abusing these openings, especially if you use heavy weapons. I repeat, the intended way to play the game is by not interacting with the boss. To see the anthisesis of this, and my ideal version of the game, look at the Iudex Gundyr or Dragonslayer Armor fight from Dark Souls 3. To summarize, I feel the design around summons and the bosses are poorly done. Removing summons in boss fights, if not altogether, would drastically improve the game. There is no option to not use summons unless you want to use exploits, metagame or otherwise play OP builds, and not what you find fun. The weapons and ashes of war are good. The combat is better with more variation and more moves to learn. The progression is there. TL; DR The game is okay, but at last dissapointing coming from Dark Souls 3. Two steps forward in some directions, two steps back in others.',\n",
              " \"If you are a fan of dark souls series this is the game for you as this is dark souls 4 with a new name. Otherwise it is an irresistibly unmanageable game, with a very cryptic story (to cover absence of good a plot? ). Besides this looks and feel corresponding a lazy port from consoles. The game doesn ' t yet support ultrawide screens.\",\n",
              " '>:(',\n",
              " 'Refunding shortly',\n",
              " \"Incredibly playfulness game play, but I require to take on it with a friend and for some ground From Software system can ' t figure out how to form a multiplayer system that is actually useable. If you want to play this game with friends I would look elsewhere.\",\n",
              " 'this game purdy fun but i got banned for no grounds saying iodine couldnt log in to online services for inappropriate natural process',\n",
              " \"This game make three very specific ways you have to play it, and I wouldn ' t necessarily call any of them fun or rewarding. While there might be some nuggets of enjoyment to be had scattered throughout the game, they ' re backpack with a trove of bloated content and boss that aren ' t difficult in a way that tests your skill, but more if you ' ve grinded enough or are spamming the right tools / point. Stick to FromSoft ' s past games, even some of their oldest works shine brighter than this fix.\",\n",
              " 'biz sucks because atomic number 53 am tough at it',\n",
              " \"Game sell twenty meg copies, canful ' t be bothered to add native ultrawide support for a whole year. What the fuck From?\",\n",
              " 'I \\' ve been an avid action rpg player since I was a kid, starting with Phantasy Star Online on the Dreamcast. In 2022 and 2023 I played a lot of Splatoon 3, Monster Hunter Rise, and am more recently Playing Risk of Rain 2, Valheim, and Deep Rock Galactic. All of these games I listed have superb combat and very fitting combat. They feel honest, they \\' re fun, and I find all of these games to control in an enjoyable way. By that, I mean that they have excellent gameplay. Elden Ring \\' s gameplay feel and loop are very poor. The controls and gameplay itself have offered me the least fun that I have ever had in an action rpg game. Now, before you begin harassing me in claims that I just don \\' t like \" difficult \" games, I found that Elden Ring is one of the least punishing action rpgs I have ever played. If you are spending your runes, as you should, then death in this game is literally not a problem at all and there is no reason to fear dying. So punishing is definitely not a term I would use. \" Difficult \" is somewhat of a subjective term, but what I am assuming players mean by \" difficult \" in this context is not \" difficult \", but actually tedious. You really only have about 3 things that you might do: One is to dodge, dodge, dodge, and of course to dodge again and again. The main gameplay loop is to continually dodge poor optimized, in terms of time, attacks. The key to not getting hit is to time your dodge, but if you play this game or watch gameplay, there are so many times when you expect to get hit but don \\' t or expect not to get hit but do. Ultimately, this leads to nothing more than spamming the dodge button like a madman as a go around to this issue. And that ultimately leads to boring gameplay. The second thing you might do is attack. Attacks are done on a controller using the R1 and R2 triggers. The R2 trigger gives you a kind of charge attack or a slower but heavier hit. However, as we talked about timing issues, R2 is just far too impractical to even bother using with a basic melee weapon. It is better to get your poke in with an R1 then run, or rather, to continue your dodge - athon. Which leads me into explaining why this is so terribly boring. You are spending most time avoiding combat and being disengaged for one, but more importantly, there isn \\' t a lot of action coming from the player, or combos, or effects that might compromise the opponent, or disable them, or lead to giving the player some kind of advantage due to their fight strategy and so forth. The action part of the action combat is the role player running and evading a barrage of attacks or projectiles from an enemy combatant. Sure there are tour and you can summon pets or something to spice things up, but if you want to play, or rather, engage in combat, your access to participate in the process of action within this ACTION rpg are incredibly limited. The third main thing that might comprise your gameplay is using items, which would be a bomb, or a heal potion, or mana potion, whatever you are carrying with you. These potions are your main source of healing or mana rejuvenation and you will be using them a lot to continue your combat participation. However, there is a very very big problem with this system. You want to make sure that you have the item you may need to use on the fly as your selected item because you do non want to have to change active items during combat, as the joystick that controls your sprite is separate from the joystick to change items, which would be your d - pad. Now, strategically this adds excitement into what would be otherwise very boring gameplay, due to the strategy of selecting items before engaging or running away so you can switch to your mana potion to continue casting spells, or whatever, but the real problem here is that you are literally taking control off of your character in order to access your items. The shift of item requires a letting go of control of your character and creates a back and forth of engagement and disengagement. Monster Hunter does this too with their item system, but in the case of Monster Hunter it has very little effect on your ability to continue engagement in the battle. You can wire bug and dive back in. In Elden Ring you dodge like a madman, get far far away, then switch items or heal or whatever, then dodge dodge your way back in. It \\' s simply tedious and tedious and this is because your sprite completely lacks mobility. And, Monster Hunter does not make you feel like you are giving up control of your character to access items. In sum, there are better games out there. The popularity of this game just goes to show that it is not quality that people desire but to be a part of the popular. The best I could give this game is a 7 / 10 and even that 7 seems overly generous. The combat is boring, does not feel rewarding, makes you feel gimped and weak (not in a positive way ), discourages engagement, and is severely lacking in complexity or technique. Defeating an enemy gives you no satisfaction due to anything you have done and simply leaves you with an empty feeling of relief. I would not recommend this game to anyone.',\n",
              " '1 detest myself after wreak this game',\n",
              " 'Jogo Ruim Da Porra',\n",
              " 'Honestly, this game is boring. After 900 hours, I notwithstanding haven \\' t found a reason to keep playing it. Honestly the items are way too fun, the lore is cryptic and it feels like an accomplishment everytime I piece something together. Boc is in the game (That \\' s the only proficient part) so you can get mushrooms and entertain a poor exile \\' s eubstance dysmorphia (Or be a human being and acknowledge his worth ). Everytime I play, I give a friend a good scag on the rear and it makes my day delightfuly triumphant. I get to destroy a Flacidusex (The pokemon? Right?) and the pedophile dies, clear as day, near the end. \" bUt UHMMM ACKSHUALLY ThEY ArE JuST vERY OlD it \\' SS JuSt A chILd \\' s Body \" So anyways, the dislike is for Godskin Duo and the YeeYeeAss Imps and Burial Watchdogs, you get the meme by now. It \\' s a great game, and I desire you go into this without googling too much. Shoutout to Miquella for dropping us the fattest DLC teaser from their cocoon. Shadow of Mordor looks sick! A Tarnished cannot become a Lord. Not even you. A man cannot kill a idol. BECOME AS GODS! !! ! BECOME AS GODS! !! ! BECOME AS deity! !! ! Join the Serpent King, as family, TO G GETHER WE WILL DEVOUR THE VERY GOSDS Good luck, Maidenless Runt',\n",
              " 'This is totally the big disappointment of the class in a secret plan industry, such a huge secret plan, a such voltage, the game of the year and. . no proper carbon monoxide gas - op or multiplayer, no vr headset support. .. what a shame. .. multiplayer exist a disaster. . if u like a singleplayer the game is for u.',\n",
              " 'altogether crap well over grass',\n",
              " 'The seamless co op mod is what this game should have had inside the game the co op part of the game is hoirrible for such a great game i had to quit and go manoeuvre seamless co op just to play normally with my brother if you are looking to play with a friend do it thru that because here i cant ride my horse cavalry with my friend cant even research the world together properly every time he die i get kicked out i can be higher level they lower me to nothing ace barely have potions i cant use a grace operating theater nothing this is a bad rendering of a game',\n",
              " \"Honestly an unbelievable biz, the armed combat is amazing, and it ' s really fun the unharmed way through. Unfortunately, I cannot recommend the game on pc, there are tons of stutters and freezes, the game is just really slow in some areas, and there is nothing you can do about it, the performance issues are there no matter how good your pc is. I still truly believe the game deserved game of the year, and it has to be one of the honest game I have e'er played, but I would recommend getting it on console instead.\",\n",
              " 'ass biz dont recommend',\n",
              " 'Well i get kiled ewerywhere. Ewery road has dude on horse with half map agro and dragons pop from nowhere too. Penalty for death are too big - you lose all xp (rune ). Hard to control character. I have non closure to pull mouse down to see floor and hand get hurt doing it. I tried settings but it dont hellp at all. Seem that plot was not intended for PC users. Key binding is bad or non existent. For example to call horse you need to use both hands (jam E and hold it then press arrow) I did 30 hours of gameplay and realised that i throw away 60 USD on this secret plan.',\n",
              " 'godskin couple be pain',\n",
              " 'atrocious port',\n",
              " \"Elden ring is not a masterpiece. the reason wherefore iodin don ' t call it that is because it ain ' t altogether that practiced as multitude claim information technology to be. to many people cause low standards it ' s overrated. dark souls 3 was better: (\",\n",
              " 'ds3 was well',\n",
              " 'drilling',\n",
              " \"I ' m too old and too slow. If you ' re not a drudge and slash fan and you be drawn in by the knockout and the open world setting, let this live a warning to you. Don ' t. It is beautiful, it just too goddamn hard for this Souls Like Freshman.\",\n",
              " 'nope, dont like it. quite insert random objects into my bum # DLGBump',\n",
              " \"Holy shite are the bosses so annoying to fight. Squall me a scrub if you want but I ' ve played Dark Souls 1 - 3 and I can ' t believe how much stupid crap the bosses throw at you. The older games had some stupid fights but almost every boss fight I ' ve done so far in Elden Ring just feels tedious and annoying. Obviously a lot of work went into this game but I just can ' t recommend it if you want to feature fun. I ' ll probably finish out the game but I don ' t see myself replaying this one as I make with Dark Souls 3 so many times.\",\n",
              " 'Good production note value, only not fun to play.',\n",
              " 'my save file corrupt',\n",
              " 'That grass smell like blight town bog fart screw',\n",
              " 'nigger',\n",
              " 'Damn its eff sometime school mortal have to turn back them of doing somethings that previous this is so boring as inferno.',\n",
              " 'horrible plot big thumb down',\n",
              " 'Rather dissapointed with this game and it was not was I was expecting. Sure the game is said to be difficult, but I don \\' t like the way the game throws you in the deep end and suppose \" crack on then \" with no real explanation of goal other than vague matter like \" get the Elden Ring. .. \" I \\' m not a hardcore gamer and don \\' t have the time to play too much so the idea of dying multiple times to read the combos and dodge jump roll attack repeat just does not appeal to me. At the moment this is just not an enjoyable experience and Iodine \\' m finding information technology rather frustrating. If Ane could refund this game I would, unfortunately Steam only gives a 2hr window, so I \\' m stuck with it so I guess I \\' ll have to keep persevere with it, maybe I \\' ll change my mind.',\n",
              " 'Ace couldnt get around to playing information technology and now it just clangor when i test to start it, even after checking single file and reinstalling',\n",
              " \"I ' ve given this game too much clock time, information technology ' s not good. It ' s a forged secret plan, and a worse Soul secret plan\",\n",
              " '* Mostly * marking this \" not recommended \" because valve can \\' t understand the concept of nuance. Overall, it \\' s a Soulsborne game, so I like it. However there are enough issues with it that any of the other Soulsborne games are just more fun. undodgable attacks, hit boxes worse than DS1 (by some miraculous feat ), being able to get score by basic attacks while you \\' re lying on the ground unable to move, and Fromsoft nerfing mimics to the point of them be basically useless be the main issues. The world look really great and getting to explore it for the first clock time equal really nice, but that kinda wears sour after the first maneuver - through.',\n",
              " '⠀ ⠀ ⠀ ⠀ ⠀ ⠀ ⠀ ⠀ ⠀ ⠀ ⣀ ⣀ ⣠ ⣤ ⣤ ⣤ ⠴ ⠶ ⠶ ⠶ ⠶ ⠒ ⠾ ⠿ ⠿ ⠿ ⣛ ⡛ ⠛ ⠛ ⠛ ⠛ ⠛ ⠻ ⠿ ⡷ ⠶ ⠶ ⢶ ⣄ ⡀ ⠀ ⠀ ⠀ ⠀ ⠀ ⠀ ⠀ ⠀ ⠀ ⠀ ⠀ ⠀ ⠀ ⠀ ⠀ ⢀ ⣤ ⡾ ⠟ ⠛ ⠉ ⣉ ⣩ ⣤ ⡴ ⠦ ⠭ ⠥ ⠒ ⠒ ⠒ ⠒ ⠒ ⠒ ⠒ ⠒ ⠂ ⠤ ⠀ ⢀ ⣀ ⠈ ⠑ ⠢ ⢀ ⠑ ⠀ ⠀ ⠙ ⢿ ⣄ ⠀ ⠀ ⠀ ⠀ ⠀ ⠀ ⠀ ⠀ ⠀ ⠀ ⠀ ⠀ ⣠ ⡾ ⠟ ⠁ ⣠ ⡢ ⠔ ⢫ ⠞ ⣉ ⣀ ⡀ ⠀ ⠀ ⠀ ⠐ ⠒ ⠄ ⠠ ⠀ ⠀ ⠐ ⡠ ⢂ ⡴ ⠶ ⠦ ⢴ ⡊ ⠙ ⠒ ⠀ ⠑ ⠀ ⠀ ⠀ ⠀ ⠹ ⣧ ⡀ ⠀ ⠀ ⠀ ⠀ ⠀ ⠀ ⠀ ⠀ ⠀ ⢠ ⣿ ⠀ ⡠ ⢊ ⡫ ⡀ ⢀ ⣤ ⣞ ⣡ ⣼ ⣿ ⣦ ⠀ ⠐ ⠉ ⠱ ⡤ ⢢ ⠦ ⠀ ⠀ ⣰ ⠋ ⣀ ⣤ ⣴ ⣿ ⣿ ⣆ ⠀ ⠀ ⠀ ⠀ ⠀ ⠀ ⠙ ⠳ ⢾ ⣷ ⡀ ⠀ ⠀ ⠀ ⠀ ⠀ ⠀ ⠀ ⠀ ⣼ ⡏ ⣰ ⠁ ⠠ ⠪ ⠿ ⣟ ⠩ ⠉ ⠀ ⠀ ⠈ ⢻ ⡧ ⠄ ⣴ ⠞ ⠁ ⣣ ⠖ ⠀ ⢰ ⣧ ⠞ ⠁ ⠀ ⠠ ⠍ ⡻ ⣼ ⡆ ⠀ ⢀ ⣀ ⡀ ⠀ ⠀ ⠀ ⠀ ⠙ ⣧ ⡀ ⠀ ⠀ ⠀ ⠀ ⠀ ⣴ ⡾ ⠟ ⣽ ⢋ ⡒ ⠦ ⡢ ⠐ ⠀ ⠄ ⠒ ⠲ ⠶ ⠖ ⠋ ⠀ ⢸ ⡇ ⠀ ⠀ ⠙ ⠀ ⠀ ⠘ ⣷ ⡀ ⠤ ⠤ ⠀ ⠀ ⠀ ⠉ ⠛ ⠻ ⡍ ⠀ ⠐ ⠉ ⣉ ⣗ ⠦ ⣄ ⠘ ⢿ ⣦ ⡀ ⠀ ⠀ ⣾ ⠋ ⠀ ⢸ ⠇ ⢹ ⠟ ⢦ ⣄ ⡀ ⠄ ⠀ ⠀ ⠉ ⠁ ⣰ ⠶ ⢖ ⣾ ⠁ ⠀ ⠀ ⠀ ⠐ ⠒ ⢦ ⣤ ⣝ ⠓ ⠒ ⠒ ⠊ ⠀ ⠈ ⠀ ⠀ ⢀ ⣴ ⠞ ⠋ ⣽ ⢻ ⠱ ⡈ ⢳ ⡈ ⢯ ⠻ ⣦ ⠀ ⣿ ⠀ ⡆ ⠸ ⣆ ⢸ ⡦ ⡄ ⠉ ⠛ ⠶ ⣬ ⣔ ⡀ ⠘ ⠁ ⢸ ⡏ ⠁ ⠀ ⠀ ⠶ ⢦ ⣤ ⡀ ⠈ ⡇ ⠈ ⠳ ⠄ ⠀ ⢀ ⠀ ⠀ ⣀ ⡴ ⢿ ⠥ ⣄ ⣼ ⠃ ⡌ ⠀ ⢳ ⠀ ⢳ ⠸ ⡄ ⠘ ⣧ ⣿ ⡀ ⡇ ⠀ ⠈ ⠷ ⣇ ⡗ ⣦ ⣠ ⡀ ⠈ ⠙ ⠛ ⡿ ⠶ ⠾ ⢿ ⣶ ⣶ ⣶ ⣶ ⣀ ⣀ ⣁ ⣀ ⣁ ⣀ ⣠ ⣤ ⣿ ⠿ ⠟ ⠛ ⣉ ⣀ ⡏ ⢀ ⡿ ⠁ ⠰ ⠀ ⠀ ⢸ ⠀ ⠀ ⠀ ⡇ ⠀ ⣿ ⠘ ⣷ ⡁ ⢀ ⢸ ⠀ ⣿ ⠀ ⡟ ⠀ ⣷ ⠋ ⢳ ⡾ ⠙ ⢷ ⡀ ⠀ ⣠ ⠤ ⣌ ⠉ ⠉ ⣉ ⣭ ⣍ ⠉ ⣩ ⠭ ⢤ ⣀ ⡴ ⠚ ⢲ ⡇ ⠀ ⣿ ⠏ ⠀ ⠠ ⠃ ⠀ ⠀ ⣸ ⠀ ⠀ ⠀ ⠁ ⣼ ⠏ ⠀ ⠘ ⣷ ⢸ ⠈ ⡆ ⣿ ⣿ ⣁ ⢀ ⠏ ⠀ ⢸ ⡇ ⠀ ⠀ ⢻ ⣾ ⠁ ⠀ ⠈ ⢳ ⣴ ⠏ ⠀ ⠹ ⣶ ⠇ ⠀ ⠀ ⢹ ⡀ ⣀ ⣼ ⣷ ⡾ ⠃ ⢠ ⠀ ⢀ ⠄ ⠀ ⠠ ⠁ ⠀ ⠀ ⣀ ⣼ ⠋ ⠀ ⠀ ⠀ ⢸ ⣿ ⠀ ⡇ ⣿ ⣿ ⣿ ⣿ ⣤ ⣄ ⣼ ⠃ ⠀ ⠀ ⢸ ⡟ ⠀ ⠀ ⠀ ⠀ ⣿ ⠀ ⠀ ⠀ ⣿ ⡀ ⠀ ⢀ ⣿ ⣿ ⣿ ⣿ ⡟ ⠁ ⢠ ⠃ ⠀ ⠀ ⠀ ⡀ ⠀ ⠀ ⢀ ⣼ ⠟ ⠁ ⠀ ⠀ ⠀ ⠀ ⢸ ⣿ ⠀ ⡇ ⣿ ⣿ ⣿ ⣿ ⣿ ⣿ ⣿ ⣷ ⣶ ⣦ ⣿ ⣧ ⣀ ⣀ ⣤ ⣤ ⣿ ⣶ ⣶ ⣶ ⣿ ⣿ ⣿ ⣿ ⣿ ⣿ ⡿ ⣫ ⠄ ⢀ ⠂ ⠀ ⠀ ⠀ ⠀ ⡄ ⠀ ⢠ ⣿ ⠁ ⠀ ⠀ ⠀ ⠀ ⠀ ⠀ ⢸ ⣿ ⠀ ⣧ ⣿ ⠻ ⣿ ⣿ ⣿ ⣿ ⣿ ⣿ ⣿ ⣿ ⣿ ⣿ ⣿ ⣿ ⣿ ⣿ ⣿ ⣿ ⣿ ⣿ ⣿ ⣿ ⣿ ⣿ ⠟ ⣩ ⠞ ⠁ ⡰ ⠁ ⠀ ⠠ ⠀ ⠀ ⡐ ⠀ ⢠ ⡾ ⠃ ⠀ ⠀ ⠀ ⠀ ⠀ ⠀ ⠀ ⢸ ⡇ ⠀ ⣿ ⡟ ⢀ ⡟ ⠀ ⣿ ⠋ ⢻ ⡿ ⠻ ⣿ ⠿ ⣿ ⣿ ⣿ ⣿ ⣿ ⣿ ⣿ ⣿ ⣿ ⣿ ⣿ ⠟ ⢁ ⡔ ⠁ ⠠ ⠞ ⠀ ⠀ ⠀ ⠁ ⢀ ⠌ ⢀ ⣴ ⠟ ⠁ ⠀ ⠀ ⠀ ⠀ ⠀ ⠀ ⠀ ⠀ ⣼ ⠃ ⡄ ⢹ ⣿ ⡙ ⢇ ⣠ ⡇ ⠀ ⣸ ⠁ ⢠ ⠇ ⠀ ⢹ ⠃ ⢠ ⠛ ⠙ ⡏ ⠉ ⣇ ⣼ ⠿ ⢃ ⡴ ⠋ ⠀ ⠐ ⠁ ⠔ ⠀ ⠐ ⠁ ⣠ ⣢ ⣴ ⠟ ⠁ ⠀ ⠀ ⠀ ⠀ ⠀ ⠀ ⠀ ⠀ ⠀ ⠀ ⣿ ⠀ ⡇ ⠸ ⡿ ⢷ ⣄ ⡀ ⠙ ⠒ ⠳ ⡤ ⠼ ⣄ ⣀ ⢼ ⣀ ⢾ ⣀ ⣸ ⣶ ⡾ ⠟ ⣁ ⡴ ⠋ ⢀ ⡠ ⠒ ⠁ ⠀ ⠀ ⢀ ⣤ ⡾ ⠟ ⠉ ⠀ ⠀ ⠀ ⠀ ⠀ ⠀ ⠀ ⠀ ⠀ ⠀ ⠀ ⠀ ⠀ ⣿ ⠀ ⠻ ⡄ ⠉ ⠠ ⡉ ⠙ ⠳ ⠶ ⣶ ⣶ ⣶ ⣾ ⣷ ⣶ ⠿ ⠿ ⠟ ⠋ ⠉ ⠖ ⠫ ⠕ ⠒ ⠈ ⠀ ⢀ ⣤ ⣴ ⡶ ⠟ ⠛ ⠁ ⠀ ⠀ ⠀ ⠀ ⠀ ⠀ ⠀ ⠀ ⠀ ⠀ ⠀ ⠀ ⠀ ⠀ ⠀ ⠀ ⢿ ⡄ ⠀ ⠉ ⠓ ⠀ ⠀ ⠈ ⠉ ⠠ ⠌ ⠀ ⠀ ⠀ ⣀ ⠠ ⠄ ⠂ ⠠ ⠤ ⠤ ⠴ ⠊ ⠁ ⣀ ⣴ ⡾ ⠛ ⠉ ⠀ ⠀ ⠀ ⠀ ⠀ ⠀ ⠀ ⠀ ⠀ ⠀ ⠀ ⠀ ⠀ ⠀ ⠀ ⠀ ⠀ ⠀ ⠀ ⠀ ⠀ ⠈ ⠻ ⣦ ⣑ ⠒ ⠤ ⣅ ⣀ ⠀ ⠀ ⠀ ⠀ ⠀ ⠀ ⠀ ⠀ ⢀ ⣀ ⣤ ⣤ ⣶ ⠶ ⠶ ⠛ ⠋ ⠁ ⠀ ⠀ ⠀ ⠀ ⠀ ⠀ ⠀ ⠀ ⠀ ⠀ ⠀ ⠀ ⠀ ⠀ ⠀ ⠀ ⠀ ⠀ ⠀ ⠀ ⠀ ⠀ ⠀ ⠀ ⠀ ⠀ ⠈ ⠙ ⠛ ⠶ ⠶ ⣤ ⣭ ⣭ ⣭ ⣭ ⣴ ⠶ ⠶ ⠛ ⠛ ⠉ ⠉ ⠀ ⠀ ⠀ ⠀ ⠀ ⠀',\n",
              " 'Look I get it, ya \\' ll like get your asses beat into submission millions of times and I should of known better when I was buying the game. Ane am big into story and Its kind of hard to enjoy a story when I \\' m taking it up the rear every 5 seconds. I don \\' t have the time information technology would require to \" get good \" at this game or the patience. I know its a Souls - like biz, but it would be cool if there was a way to enjoy the story without have to suffer. Like pee an easier mode for casual gamers then birth the intended experience for everyone else.',\n",
              " 'who ever pee the horse cavalry guy trust you arrest monkey aids',\n",
              " 'Game bad after 93 hours on steam (100 something) on xbox I can find no real reason to play this biz. The boss fights are super lame and not intricate with several phases and good music but the replay - ability is shot because of the 100 of different builds and online multiplayer coop that is like dark souls but better. I cant be the only one world health organization find no intrests in diving into an open world with dozens of character and fun exploration, with fair just challenging and rewarding game play? Only play this game if you enjoy bad games. Your money is considerably spent on good games like BattleField 2042 and Fortnite.',\n",
              " 'This secret plan is Space Ace for the 2020s. Through trial and error figure out the combo of block, roll, little hit, big hit, roll, rinse repeat. Finally beat bad guy. Next screen, new bad guy. Figure out new combo on up down left right. Beat guy, New screen, rinse repeat. Sorry those that love this genre, but this is just lame. I \\' ve been playing games for over 40 years, and this game reminds me of those crappy early games that were simple memorize the combo games, that threw in randomness to just make them unfair. I \\' ve beaten many games on hard / insane level but this one takes the biscuit. The only Souls - like game that actually has combat where you can plot your way through a mixed group of bad guys is Jedi Fallen order. For all those who will call me a troll, answer this question. Did you get through this biz without dying 500 + times? ?? If not, then this game is pure luck. .. .. The only people that can claim to be \" gud \" at this game are those that went all the way through without dying once. The rest just spammed your elbow room through. The only thing that would make this game bearable be to be able to save it when I want to, like just before the locked door you know insta - death is waiting behind. .. .. .. .. but Nooooooo, I have to die coz my perfectly timed counter just missed and I \\' m dead, so I sustain to wait 15 seconds for the reload then battle my way done the same axe fodder for 10 mins, to get back to the \" boss \" to then watch and learn their moves, oops, retardation, missed roll or missed counter. .. .. . dead. .. .. . rinse repeat. jeez. Is this gaming?',\n",
              " \"The game be amazing but i wouldn ' t recommend buying information technology on steam - operating theater pc for that issue. Its functioning is horrible on PC and for me it made the game genuinely unplayable. I love this game and I hope they truly focus on their PC port shortly.\",\n",
              " \"Take DS3 and add up large swatch of negative open space that do nothing but bore you, open world is bland, vacuous and boring. Downgrade from DS3, needs honorable well thought out area ' s instead of all embracing open area ' s with nothing of interest. Disappointing over hyped game, worse than it ' s predecessor and early games in the like genre.\",\n",
              " 'I mean the game is not bad. I have 100 hours in it BUT I do feel somewhat robbed. There is a lot to do in this game, even tough much of it is very frustrating. There is nothing which I would call exceptionally good about this game, but it mostly is always good to very good. Except in two regards. Graphics is really not that great. Its a orotund map, but for a AAA title its not good enough. But far far far worse is the Story / Storytelling in this game. I played 100h and I nevertheless dont know wherefore we do any of the things we set. The player wants to become the elden lord, but why? What is the elden lord? Why is this world so dark? What is the erd tree? You can be extremely happy if you get a vague answer to any question in this game. The story writers were so lazy it ruined the game for me. I just really dont feel any motivation to play on, because why should I? It feels like doing the same all over again without any purpose. And I cant even imagine any excuse to writing such a horrednous story other than lazyness.',\n",
              " \"Absolute DOGWATER of a Plot. Would ne'er recommend.\",\n",
              " 'If you value your sanity, coiffe non buy this plot.',\n",
              " 'Scraps game. Not deserving playing',\n",
              " 'cant sex ranni: (',\n",
              " 'refuse',\n",
              " \"honorable game, worst developers I ' ve always seen though\",\n",
              " 'Nah',\n",
              " \"so much copy pasted and half baked contentedness everywhere. Character quests are the most obtuse they ' ve ever been and can ' t exist completed without a guide. Never know where I ' m supposed to be buy the farm or doing. Easiest Souls game period. Party boss are uninspired and boring. Monotone.\",\n",
              " \"input lag, ridiculous delay on attacks from party boss, generally pitiful genus bos and enemy design (stupidly easy or annoyingly hard - nothing in between) and also area / level design is bad in the later parts of the game (boss spam and HP sponges ). basically, many of the old flaws and poor design decisions from other fromsoft game are here, and worse, and less of the good part are here. if it was well polished and smaller in scope (to actually follow able to pace it well and give each area and boss the care they needed) it could ' ve be an amazing game.\",\n",
              " 'Have to restart a pc to bring the HDR working on win11. But the ammount of time trying to turn clobber on / off and attempt to make it work. .. and and so just restarting the pc to actually fix it, left maine with enough frustration to send this garbage review. Take my bitter revue.',\n",
              " \"It ' s just so. .. boring. Unity played one of the souls games before through to the end, but this is entirely blah. I really don ' t empathise the appeal. I ' ve TRIED to enjoy this but Iodin keep finding myself feeling more inclined to play literally anything else in the scant few hour I ' m free to play games through the week. I would rather have my money backward.\",\n",
              " 'Note: This is not strictly a negative review, but the game ’ s overall design makes it hard for me to openly recommend it. Elden Ring is an open world combat RPG, where battling with enemies is the center of everything. There is a huge world to explore where you find various items, that help your character you make in the beginning to become stronger statistically, but everything you find centers on your combat capableness of course, since this is not an adventure game. Albeit this approach, the game offers some impressive vistas throughout the world you explore, somewhat curious NPCs that talk to you and most importantly challenges in the form of varying enemies and boss battles. There are many places you can visit, also underground, which all help you, at the end of the day, to become stronger by giving you more runes, that are basically a currency you buy levels with at checkpoints. If one is familiar with the developer ’ s, From Software, former titles, the risk reward mechanic is the same in here and the actual fighting mechanics are also the same as in Dark Souls games; you lose your runes when you die, but can retrieve them from your death spot, but lose them completely if you die again before that, and the fighting is basically careful observing of enemies while dodging (by rolling endlessly) and blocking. The game is fun at the beginning, offering decent challenge, and at any point if you find the game too tough, which is likely, you can gain more levels by collecting runes for slaying enemies or simply exploring easier approachable areas. Since the game is very long in length due to the sheer size of the world, most players might wish to follow the main path straight to the end without much additional exploration, but alas, the game ’ s difficulty, even despite the help of a selectable phantom fighter (spirit ashes) who you can call in for help in tough spots, forces exploration to gain runes for the vast majority of players to overcome later tough enemies. This might not sound like an issue, since this applies to some other open world titles too, but the time it takes to explore to be strong enough is in tens of hours – I ’ m not exaggerating. While the beginning is fun and quite exciting, the more you play the more repetition kicks in, even if the areas around the map are visually different, but enemies repeat and so do bosses; they use the same models. Even the overall quality of level design is better at the beginning, the Stormveil Castle being at least to me the most exciting place to see and explore, after that perhaps a few notable places existing in the game. This castle is at the very beginning and after that the quality slowly drops the further you get, endgame being very tough and a slog to get through, mostly due to some nasty bosses. The bosses are a big part of the studio ’ s focus and they are admittedly often fun to fight, but in this game most bosses are annoyingly designed, scaling in damage too much from the very beginning till the end. This vast damage they tend to inflict in a single strike makes the game more a hectic rhythm based act to avoid the worst hits, while waiting patiently for an opening to strike pretty much freely when the enemy takes it ’ s pause. I find this limiting character building wise, since I ’ m sure the game is extremely hard without putting many skill points on vitality (max health) to sustain more damage. The bosses also have cheap moves and combos, which often truly makes you feel like you die an unexpected and unfair death, but this is thankfully mitigated by the phantom helper that can take hits from enemies instead of you and even slightly damage them, so you can heal up on the side, perhaps cast a spell or incantation and prepare to strike again. So even if boss design is most often not as great as in previous games from the studio, especially compared to Sekiro: Shadows Die Twice, occasionally being even bad, the phantom helper is there for you making some bosses actually pretty trivial, which is not a bad thing if you don ’ t wish to be stuck on them in this - in my honest opinion - too long game. I personally have explored almost everything in the world and I ’ m likely ” over leveled ”, which would mean that in the main progression path I ’ m fighting enemies on a higher level than players usually are, but still, after playing so long, easily over 100 hours in fact, I ’ m still currently momentarily stuck at one mandatory very late game boss that, once again, has upped damage so that it can kill you in a short sweep of attacks. This fact is saddening to me, since the game has pretty fun exploration, the best yet character building in the studio ’ s history, amusing places to discover, and of course the action is intuitive and most often entertaining, but yet the game is enough of a slog to get through at many points and too repetitive. If you decide or rather need to explore much because of the difficulty that can spike, the game starts undoubtedly to feel overall as following: cheap. It is a cheap game in the end with talent and quality at many places, but filler content and bad design all over the place. This game should have been shorter in my opinion, or at least easy enough to complete quicker going straight through the main path, but for me - and I ’ m not a noob mind you since I have completed Dark Souls 1 and 3 and Sekiro, Elden Ring is simply too tough to my taste to call it enjoyable. As a side note, I might find the game so hard due to a faith build, meaning I use incantations in the game that are slow to cast in the heat of a battle, but this fact just tarnishes the game even more, because it truly doesn ’ t allow too much freedom in building the character if you want to excel as care free as possible - which you want, trust me. Now you might find this game fun and most players looking for combatting challenge will do at the beginning for a long while, but I label this review as negative due to the overall quality throughout the experience and the too cheap and frustrating challenge you will face eventually, no matter how good you are. If you are good, you will overcome the challenge, perhaps even quickly, but I doubt many of the fights are that fun in any case, unlike in Dark Souls 3 for example, where the game is thoroughly quite carefully designed, albeit unforgiving. Consider this game if you constitute ready to face this disappointment I ’ m feeling here and in the case you are a fan of the studio ’ s previous work, but for many, you should think twice, remembering that this game is far from GOTY material like some might claim, because the lineament is so varying. I think sound design and graphics should be better as well to call this a GOTY, since the tech is like a mix of last - gen and current - gen, leaning more on the last - gen. Lastly about the mentioned technical side: The game runs decent enough if you have strong single core CPU performance and my RX 5700 XT plays it almost always at 60 FPS on max settings at 1440p, which the game is unfortunately capped at, but this hasn ’ t bothered me mentionably. There are sphere that are bound to drop the framerate below 60 FPS, somewhere around 40 – 45, which is a slight annoyance, but those moments are rare. The game ’ s current version 1. 08. 1 is bug free, though it ’ s worth to mention that I experienced one freeze - up. Enjoy, suffer, be numbed, overcome, that is the formula of Elden Ring. Take this as you wish.',\n",
              " 'The secret plan severely punish you for pocket size mistake and you end up permanently mislay hours of your progress. Not sport.',\n",
              " 'fucking bullshit game. .. my nanna learned how to use a smartphone quicker than iodine could check the controlls to this secret plan. .. ask for refund',\n",
              " \"Elden Ring is a good game, but ane cant urge it. The game is beautiful, completely breathtaking at metre, however this is a game for hardcore ' gamers ' only. Even so, i have never felt anger like Elden Ring made maine feel anger. The soundtrack is meh i don ' deoxythymidine monophosphate get what everyone ' s talking about and the story was lost to me. Where this game shines is the satisfaction in FINALLY whooping the boss ' ASS and getting that sweetened new equipment to beat the next one, no matter how many times they knocked me pull down. Unity played through with my best friend, and i wouldn ' t trade the memories or experience for anything. Only play if you want to be tested Mentally and Emotionally\",\n",
              " 'A bully game just awful microcomputer port. Play information technology on console.',\n",
              " 'At first feels like a good old souls game, then you get the horse which feels VERY weird but still acceptable as a advance from dark souls 3, but then for some reason they require random item to progress and make these items unobtainable if you dont lookup a guide at which point this game completely takes a nose dive. It essentially is many tiny little dark souls tunnels on a gigantic map without any kind of coherence oregon connection between them. Its as if they just took all the crap levels they had left over from the previous dark souls games and smushed them together into one secret plan using the \" open world \" excuse to not have to build any kind of atmosphere or continuity between the levels. Enemies repeat always. You get to see the same copy paste enemies all over the map which would work if this was dark souls tunnels but not with these large \" open world \" levels. It feels like a cheap korean mmorpg open world with dark souls \" dungeons \" which you go into and get absolutely nothing at the end of the tunnel because the tunnel does not interconnect with anything else. Theres really no reason to encounter this game theres no sense of accomplishment and no atmosphere. Its a mediocre dark souls game and a very bad open world game they really completely failed.',\n",
              " 'not apex fable',\n",
              " 'to a fault hard',\n",
              " \"looks good and has full atmosphere but the combat is so fuck awful it ruins it i ' m really trying to like this but i ' ve had such a shit time in it and the only positives is that everything looks coolheaded pretty much all enemies have weird looking attacks to throw you off every single attack they do and have completely unlike rules to how you work which just makes combat feel like a mess and pretty unsatisfying still when i beat a boss i found hard i just felt riled afterwards because the fight just felt alike a gimmick fight rather than anything i did was actually skillful or anything like that i ' ll keep playing but i won ' t recommend it as it has been a pretty bad experience for the first 20 or so hours for me\",\n",
              " 'Tbh this is like every wickedness soul secret plan and is entirely enjoyable if you like grindy plot that make u rage quit. If you be a val player, this ones for u.',\n",
              " 'Lot of hype for this game. Mustiness non be my cup of tea. Game is very repetitive such be most games. Visually a great game but as far as game play be concerned, just not impressed. I was bored after half dozen hours of total plot play.',\n",
              " 'Das Ausmaß dieses Versagens gerade jetzt ist so unbeschreiblich groß, dass der Name Eldenring noch in hundert Jahren als Schimpfwort für Ketzer verwendet werdet wird. Selbst wenn die gesamte Menschheit ihre kollektive Intelligenz zusammennehmen würde, gäbe es keine denkbare Möglichkeit, einen Weg zu finden, um diese game besser zu machen',\n",
              " \"PLEASE ADD DLC AND information technology WILL BE 10 / 10 - - - {Graphics} - - - ☐ You forget what reality is ☑ Beautiful ☐ Good ☐ Decent ☐ Bad ☐ Don ‘ t look too long at it ☐ MS - DOS - - - {Gameplay} - - - ☑ Very good ☐ Good ☐ It ' s just gameplay ☐ Mehh ☐ Watch paint dry instead ☐ Just don ' t - - - {Audio} - - - ☐ Eargasm ☑ Very good ☐ Good ☐ Not too bad ☐ Badness ☐ I ' m now deaf - - - {Audience} - - - ☐ Kids ☑ Teens ☑ Grownup ☐ Grandma - - - {PC Requirements} - - - ☐ Check if you can feed paint ☐ Potato ☐ Decent ☑ Fast ☐ Rich boi ☐ Ask NASA if they have a spare reckoner - - - {Difficulty} - - - ☐ Just press ' W ' ☐ Easy ☐ Easy to learn / Hard to master ☐ Significant brain usage ☐ Difficult ☑ Dark Souls - - - {Grind} - - - ☐ Nothing to grind ☐ Only if u care about leaderboards / ranks ☐ Isn ' t necessary to progress ☑ Average grind level ☐ Too much grind ☐ You ' ll need a second life for grinding - - - {Story} - - - ☐ No Story ☐ Some lore ☐ Average ☑ Good ☐ Lovely ☐ It ' ll replace your life - - - {Game Time} - - - ☐ Long enough for a cup of coffee ☐ Short ☐ Average ☑ Long ☐ To infinity and beyond - - - {Price} - - - ☐ It ' s free! ☑ Worth the price ☐ If it ' s on sale ☐ If u have some spare money left ☐ Not recommended ☐ You could also just burn your money - - - {Bugs} - - - ☐ Never heard of ☑ Minor bugs ☐ Can get annoying ☐ ARK: Survival Evolved ☐ The game itself is a big terrarium for bugs - - - {DLC} - - - ☐ YES ☑ NO - - - {? / 10} - - - ☑ ane ☐ 2 ☐ 3 ☐ 4 ☐ 5 ☐ 6 ☐ 7 ☐ 8 ☐ 9 ☐ 10 PLEASE ADD DLC AND IT WILL BE 10 / 10\",\n",
              " 'İ cant play with my ps5 dualsense why dont you ada a ps4 / 5 ui for this biz?',\n",
              " 'make out all the goblin sex merely the in reality game play is ripped straight from minecraft and the artwork from uno this be done without remorse, however the story was gravid its a shame they have to get budget tolkien to write it tho. To sum up trifle this game if you find smurfs attractive.',\n",
              " 'elämäni paskin peli',\n",
              " \"Just straight up non good at all. I have nothing positive to say about this game. I hump information technology ' s FoRmSoFt but it ' s simply. .. there live good game.\",\n",
              " 'Ignore the hype, ignore you \\' re friends, don \\' t bother playing this game. REQUIRES AT LEAST 10 hours of tutorial videos on builds, basic game mechanics, and side quests that exist in the game before actually playing. The game does not teach you anything about how to play it, you need to rely on outside help in order to progress. This includes basic things like how to navigate the menu, how to create a strong character, which weapons to use, etc. The difficulty curve is set up so that you NEED to learn these things early on, else you will not progress in the game. To start off, here is the entire plot to the game: you want to be elden lord, maybe. That \\' s it. Some characters are more or less keen on that, but it \\' s not really clear. Most of the lore and \" narrative \" of the game can be found in item descriptions, and its the most ineffectual way to tell a story that I have ever encountered. Side missions have zero logic to them, basically you need to talk to every NPC in the game in order to progress a mission without referencing a guide or tutorial. Most missions have a point where you grab some item like \" the sacred toenail of Ira the dancer \" and for some reason you are supposed to know that \" Ephesius \" needs that to make it to Narnia or some nonsense like that. Many of these side missions are necessary to beat the game at a reasonable difficulty level, else you will be under leveled or poorly equipped to face required bosses. Honestly I can \\' t talk about this game without referencing the menu, it is the most poorly organized, laziest feature to any video game I have ever played. This studio has had an entire decade to hone the menuing system in their RPG game, and the best thing they can come up with is a literal grab bag of items organized like a pile of clothes on a teenagers dorm room floor. I cannot distinguish you how many times I grabbed an item only to never use it in my play - through simply because I lost it in the menu. There is a lantern in this game, and I have to play Where \\' s Waldo every single time I try to equip it simply because I picked something up on the ground in an open world RPG game, and it reshuffled my items. Gameplay wise, its a souls game. That is to say, its a rhythm game that tries to cheese you every step of the way. In some fashion, I find this rewarding, especially when facing groups of enemies in the games various dungeons. Assuming you have min / maxed your character to make the fight doable of course. Most of these encounters are well set up to challenge you to figure out a strategy to beat them consistently, given limited space and resources. Unfortunately, this is an open world game, and the majority of encounters occur in the open world. In these cases, it is easy to bypass encounters by going around them, or fighting them one on one. To make up for that, the game designers added lots of harder enemies that are required fights for one reason or another. All of these fights devolve into \" big guy with sword in field \" or \" big guy with axe in field \", and have basically the same move sets. The best way to deal with them is to grind levels until you can easily combo or one shot them, otherwise you \\' re in for repetitive, uninspired fights. A majority of enemies are direct copy pastes of one another, and it \\' s a shame. It \\' s a shame because the art might represent the best I give seen in a video game. There are many biomes / areas to explore, and each their own unique artistic style to them. You can easily tell which area you are in just by the art style of the world around you. I visited every single area in this game simply because I wanted to explore the environment that the artists created, and I put up with all of repetitive gameplay and the obnoxious bosses to do it. The bosses in this game suffer the same issue as the enemies. At least half are re - used throughout the game, the worst example being used at least 6 times. Many of them share similar move - sets as well, making the artistically unique bosses seem like copies of earlier ones. Put simply, fighting them is a chore. The bigger, \" demigod \" bosses are more unique, at least early in the game. But more often than not, they can only be defeated by a \" normal \" player by cheesing them. Multiple times in this game I have been impressed by a boss design, only to realize the best way to defeat them is an unsatisfying cheese that the game gives you as an apology for making their boss unbeatable at the level you are supposed to face them. Towards the end of the game, it becomes a boss rush, and there are no more cheese strategies available. In order to beat these, you need to enter into an hours long gameplay loop of getting one shot to each combo they throw out so you can learn the precise moment you need to dodge in order to avoid their attacks. If you grind hard enough, you can eventually see the ending to a game with zero story. I played this game because a friend recommended it. They said they enjoyed it, and they hoped I did too, and then apologized for telling me I should play it. Many people on here have the same story, and many of their friends say they enjoyed the game as well. The only explanation I can come up with is that this game is Type 2 fun. When you are in the moment, playing the game, its terrible. Once you are done, and you \\' ve completed it, the feeling of accomplishment you get overshadows those moments of frustration, the monotony of grinding, and the times you left the game defeated. You commiserate with your friends, and it becomes a shared experience that you can connect with. Eventually you forget the negative feelings you had while playing the game, and the memories that persist are those of the adventure you embarked on, and the feeling of growth that came out of it. But when I play this game, I can \\' t help merely wonder what I actually am supposed to get out of it. I pressed dodge the exact millisecond I needed to five times in a row, and won a boss encounter because of it. Was that worth it? Is practicing this one button press for an hour straight really what I \\' m doing with my time? More than anything, thing game makes me question why I spend time playing it instead of doing something else. The first encounter in Elden Ring is with a hulking mass of thrashing bodies, congealed in a spider like blob of legs and arms. If it is your first playthrough, it easily dispatches you with a few swipes of its relatively tiny sword, shrugging off any damage you attempt to inflict. Veteran players, expecting the monster, can beat it with well timed dodges and strikes, though it is no easy feat. The reward for doing so is a short walk to a nearby pathway, where the ground gives out, killing you instantly. The same can be said for the game as a whole. No matter what you do, the end result is the same, you get nothing for your time, your energy, your frustration. In the end, it is a futile waste of effort. Go read a book instead.',\n",
              " '.',\n",
              " 'bs',\n",
              " 'im chalk at the secret plan fr francium',\n",
              " 'It \\' s been two and a half months now since I 100% \\' ed this game. I haven \\' t had the urge to go back to it a single time since. I didn \\' t hate the time I spent with it, but I wouldn \\' t say I enjoyed it either. I have never played a FromSoftware game before – whenever I saw someone play one of their Souls - games Iodine thought \" Wow that looks absolutely horrible and about as fun as going to the dentist. \" And I didn \\' t necessarily mean the difficulty (and more specifically the way in which they are \" difficult \" ), but also the aesthetics and how the movement and physics looked like. But, given the absolutely insane hype levels for Elden Ring I decided to finally give one of them a shot. Unfortunately my intuition was correct: The movement does feel like you \\' re controlling a semi truck on molasses. It just does not * feel * fun to do anything in this game, be it running around or fighting. I \\' m not talking about the way heavy vs. light loadouts feel, the very foundations of movement and physics in this game just don \\' t appeal to me. Of course as a Souls - beginner it also took some getting used to, but that happened fairly quickly. I didn \\' t have any trouble with it, but it \\' s not something that would draw me to the game – which is problematic, considering that movement makes up most of the gameplay. The other part, the aesthetics, also mostly didn \\' t click for me just as I expected. Don \\' t get me wrong, I can appreciate that the art direction in this game is very well done. (I do think that it \\' s a tad bit overhyped, though – the game looks good, but it doesn \\' t look great.) But with very few exceptions information technology is all just pain and despair, mud and dirt, darkness and gloom. There \\' s not enough contrast between areas that are some variation of \" big end of the world mood \" and more light - hearted areas. I understand that this makes sense from a story perspective, but it \\' s just not something I enjoy very much. Why would I want to spend 100 + hours in this utterly depressing hellscape, with no respite to make it all worth it? Speaking of story … well. It certainly has some GRRM aspects to it, but not so much the good ones that gave us amazing stories well over a decade ago, but the ones that just drip feed the idea of something bigger and better still to come, pinky promise, anytime now! If you \\' re lucky enough to even stumble upon some story, it \\' s usually confusing and feels irrelevant / disconnected. I hate modern Ubisoft open world games as much as anyone else, but Elden Ring absolutely does not even come close to do this right in the way that Breath of the Wild did. The fact that most players will go to a Wiki to be able to work out out how to finish (or even find and begin …) quest lines is a scathing indictment of how badly the game fails at telling its stories. The \" async coop \" did not click with me either. The ghosts of other players pretty much ne\\'er revealed anything of interest to me. At best they could be ignored, at worst they were a distraction. Far worse are the hints, which gives a pretty good insight into the headspace of the fan base of this game. \" try finger but hole \" is their idea of peak comedy, and everyone falls over themselves making this same joke for the billionth time. More serious ones like \" enemy / treasure ahead \" are worthless as well, because you can never know if it is a troll or not. So you do check any nooks and crannies anyway – and there \\' s nothing wrong with a game wanting you to do and then, but what \\' s the point of these hints then. Finally, the difficulty. Yeah, it \\' s pretty hard if you don \\' t farm XP and overlevel yourself. The game does an okay job of being a difficult game. Considering that it \\' s a fairly complex 3D open world game, you can \\' t expect great loading times after you die, but the gameplay also isn \\' t designed for dying as often and freely as for example something like Celeste – which lets you continue playing after death within milliseconds. There \\' s a couple of spots that are just infuriating, though, mostly to do with elevators. Site of grace next to the elevator, you ride it up and there \\' s an area where you most likely will die a whole bunch of times before getting through. Every damn time after dying and respawning at the site of grace you not only have to ride back up – you first have to call the elevator back down because it is still above from your earlier ride. Of course that is logical and \" correct \", but that doesn \\' t make it any less annoying. Resetting an elevator next to a site of grace to be on your level upon respawning would have been such an obvious QoL improvement, but Elden Ring does not give you any of those. And hardcore fans will defend that as realism, or a counter to the oh so horrible hand - holding that games do these days. But that \\' s bs. Little annoyances like that don \\' t make a game harder or \" more real \", they just make it more annoying. It \\' s these kinds of things that make me think that Elden Ring was rushed out in the end, and I \\' m genuinely baffled by the praise it gets for supposedly being \" one of the good ones \" when compared to other AAA games and their need for twenty four hours one patches. Iodine didn \\' t _mind_ the stuttering issues the game still has on PC, but they haven \\' t even been fixed. I had _a ton_ of bugs and glitches and some crashes even. Nothing too bad or unexpected for a game of this scale, but Elden Ring is not some magic outlier here that does things much better or differently than other good AAA games, of which there is still plenty. So, do I recommend this game? No, I personally do not. If your taste in games is like mine, you won \\' t enjoy it very much. I don \\' t regret my time with information technology, because now I know definitively that Souls - games just aren \\' t for me. But that thumbs - down is not meant to say that it \\' s a bad game, despite all my criticisms above. A lot of them are very subjective, and the ones that I \\' d say are a bit more objective aren \\' t dragging the game down too much. I can absolutely understand why people love this game, but unfortunately I didn \\' t.',\n",
              " 'Stunning graphics and solid combat. However the game stops give you any focussing or anything. Easy to discover yourself at level ane touch off an end game boss fight with no idea where you need to lead. 0 / 10',\n",
              " 'Game breaking clank at Siofira River with no patent fix.',\n",
              " \"Lousiest game Ane e'er buy. Tried to return it merely I played for ii hours they say. No tale at all.\",\n",
              " \"I mean, the game is great and all, just suddenly i start out getting these insane FPS falter that atomic number 53 can ' t fix which create information technology unplayable. Unity can see on the internet that a lot of others have the same job, but no one knows how to fix it.\",\n",
              " 'Professional: game looks pretty Cons: huge empty map, pointless \" pursuance \", scantily any npcs, the UI is equally trash as always on microcomputer, atrocious to navigate in the menus; typical souls - style secret plan 6 / 10 at best',\n",
              " 'Capital biz however ineffectual to sex Malenia makes it mid',\n",
              " 'The scrap of this game is perfect it blends all the best aspects of every souls game into the unspoilt combat in any of the games by far the reason I dont recommend this game be the empty open world replete of copy pasted areas and bosses and more reused bosses than Dark Somebody 2 by ALOT also enemy bosses or just enemies the game thinks are cool cant fall off ledges they just walk into invisible wall. If these thing dont matter to you then get this game it is fun while in combat otherwise very boring this game would have been perfect 10 / 10 if you got rid of the empty bellied open world garbage and replaced them with areas that exist for a rationality not just to look pretty for photo mode',\n",
              " \"Bosses: unavoidable attacks, double dyed tracking, never ending combos that last for years and attacks that can lead into other attacks. This game has some of the most frustrating design I ' ve ever seen in a From Soft secret plan. Feels a lot more like a statement than it does an enjoyable video game. Open world is really cool but it means you ' re always going to constitute complete geared or over leveled for half the game. Don ' t bother unless you ' re doing co - op (which case I ' d recommend the Seamless Colorado - op mod since it uses the same outdated cobalt - op design from the other dark souls game, as easily as you can ' t use the horse in multiplayer ).\",\n",
              " 'big game',\n",
              " \"I ' ll start off by saying I ' ve been enjoying Dark Souls since DS1. Fromsoft makes some excellent games and this game is good, but my electronegative review comes from a few things I don ' t enjoy and I don ' t think the series needed. We didn ' t need a open world. It ' s as wide as an ocean and shallow as a puddle. I prefer the old linear experience that Dark Souls has always provided. I also stand that I wish we could get back to the inter connectivity that DS1 demonstrated so excellently. I become incredibly disappointed when I clear a side dungeon only to fight a boss I previously killed. It ruins the excitement of finding something new only to experience something old. The reuse of bosses in this game kills the experience for me. The boss design is as well another cistron in my review. I ' ve always been a hyper aggressive player. I look for openings in between attacks while still being able to turn over dodging as well. I ' m aggressive and hate playing passive. I enjoy optimizing and looking for zero downtime if possible. That said, these bosses will string together a Marvel Vs Capcom string for 30 seconds and I ' m just stuck standing away and looking at the boss like I ' m stupid. After that string they have almost zero downtime and begin to run the string once again. It ' s not fun to constantly be dodging for 30 + second only to maybe hit once or twice. In closing, we sacrificed quality for quantity. The game has the highest highs of the series followed by devastatingly low lows that ruin it for me.\",\n",
              " \"It ' s just kinda okay? It ' s undecided world ds3 which is the same game as ds2 which is the same game as ds1 which embody the like game as ogre ' s psyche, if you like any of those 4 games you ' ll believably corresponding this one.\",\n",
              " 'this biz be too hard; (im saddd1! !!',\n",
              " \"No PlayStation button prompts. It states that information technology has total controller support but information technology ' s only xbox controller keep. The biz has already released on PlayStation. It ' s hardly a unity hour line to get the PlayStation prompts into the PC game and it will salve many player.\",\n",
              " 'If you desire to constantly go - this would be a gravid game. Otherwise, do not waste your money',\n",
              " \"It ' s all fun till you cross the 50h molding\",\n",
              " 'This secret plan is to good real addictive. because of secret plan i didnt get school two weeks which you determine on mi english',\n",
              " 'farad',\n",
              " 'This game personify loathsome. Take everything that make soul gratifying and strip information technology away for a unjust, deal market apeal slog that spits on the legacy of souls. What a desgrace.',\n",
              " 'passably game, but gameplay be forcibly primitive and preposterously monotonous. falls into that horrible JRPG trap of needing to grind way too much because being organic is too alien a concept for devs that peaked in the PS2 era. only democratic because of neckbeards that memorized the 1 - frames and found that the gameplay loop replaces the bubble wrap mommy stopped letting them pop a week before dark souls 1 came out. opposite opinions be awry.',\n",
              " \"I haven ' t played spirit games before; it feels like all you do is explore before you get killed. There really is little or no direction, and when there is - its ridiculously difficult; even non - bosses. I wouldn ' t recommend to anyone new to this without a walk through; the game would be very had. Having restarted with a Samurai, my recommendation is to not extend Wrench no matter how much you want to being the underdog. However if your looking for an habit forming game to sink hours into, then its a candidate but you still need a walk through. I cant recommend as a game - it has nothing on Skyrim surgery Witcher or DragonAge or MassEffect but I get if you like the soul games this would be idealistic. New to the game style, with a wrench 1 / 10, with a Samurai 5 / 10 I would give. The thing I hate most about the game is relax the runes, when in an unbeatable boss or dungeon - you cant retrieve them, I know the hardcore fans will love it. Just for me its just now another lazy mechanic. I think co - op play may be much better though than soloing it.\",\n",
              " \"Meh, exactly non my mode Ane guess. I ' ve essay to give it a chance multiple time and I just can ' t get into it.\",\n",
              " 'dark souls 2 comprise good',\n",
              " 'doodly squat GAME',\n",
              " 'They hurt me',\n",
              " 'Dark Souls little joe: Prepare to be bored variation',\n",
              " \"but. 1. can ' t. cease, Send aid\",\n",
              " 'Playing this biz is corresponding willingly giving yourself AIDs',\n",
              " 'Web Status Arrest Failed',\n",
              " \"Pretty boring and poorly designed game, besides doesn ' t even induce ray tracing.\",\n",
              " 'no pokemo',\n",
              " \"I really don ' t understand the hype. One was a huge fan of Bloodborne, so I be excited to give way this one a shot, but it just isn ' tetraiodothyronine for pine tree state. The almost complete lack of direction leaf me pretty tire.\",\n",
              " 'Information technology be non a good biz. It looks awe inspiring and the environments be coolheaded, but information technology is not a good game.',\n",
              " \"It ' s interesting enough for me to play the game 1. 5x and unlock all Steam achievements. I wish the challenging gameplay and how beautiful the setting (environment + lore) was but that ' s probably where it ends. There ' s barely any story, no interesting side quests, or any character development. Apparently, it ' s a runner improving for Best Narrative runner up though and that ' s how FromSoft makes their games. The don ' t spoon provender round and dynamic characters with compelling stories. They like to scatter bits and pieces of lore that happened a long time ago which the player character hardly affects and call it a clarence day. Who wants to be spoon prey when you can deplete soggy day old cereals from the floor anway?\",\n",
              " 'lost my save for playing for twoscore hour dint do anything',\n",
              " 'receptive cosmos poopy. .. .. .. .. .. .. .. ..',\n",
              " 'Hatred this junk a $ $ plot',\n",
              " 'Before this game, the only From Software game I had play was Sekiro. So I came into the game expecting something similar, just with a unexampled backdrop. I don \\' t know how they fucked it up, but this is leaps and bounds worse of an experience. Compared to its coeval, the combat is slow and unintuitive. There \\' s a lot of fucking around with your build and other RPG elements (which is fine if that \\' s what you \\' re looking for ). Coming from the simplicity of the Sekiro scrap system, it is a lot to take in. There are blatant levels of polish that have not been applied here. Weapon textures clip on your back, the platforming is abysmal (though sparse ), there is no pause feature, you can \\' t see the enemy \\' s stance meter for some reason, and other little details that add up. The one small thing that peeves me the most is the lack of an indication that you \\' re going to backstab somebody. In Sekiro this big red icon comes up that tells you \" hello this is going to be a one hit kill, \" only in elden ring I got to give the guy a rimjob because I don \\' t want to accidentally hit him with a light attack. I do enjoy how the open world is handled, every time you get to a checkpoint it points a big arrow in the direction it wants you to go in so you \\' re not fucking around lost all over the place. It takes the best of both worlds in that way (being linear and open world storytelling ). For what I have experienced, the story seems genuinely intriguing, I just with I could experience it rather than crawling through this castling. I could not bring myself to finish this, simply not the kind of game I like.',\n",
              " \"I guess fire ring is a bad spell. after you can ' t can ' t choose how hard it should be. And it doesn ' metric ton tell you what to go, and information technology just doesn ' deoxythymidine monophosphate make the biz sport, and that it ' s hard. and it is expensive.\",\n",
              " 'Plot had a lot of hype information technology came out 1 end information technology and savor information technology then that was that. The late souls series kept you coming back this game not and then much.',\n",
              " '\" Consistence type Type a \" and \" Body type Bel \"',\n",
              " 'Its 2023 and even no ultrawide support.',\n",
              " \"Department of Motor Vehicles: The Game After having to pay way too much hardly to be there, you ' re treated to a lengthy, boring waiting. Although it ' s dull as screwing, you try to occupy yourself by looking around the room for anything remotely attention - keeping. Time eventually drips by, and you finally find yourself called to take the written test. You happen to be pretty familiar with traffic laws, but some of the query aren ' t even in English. That ' s too fucking bad, it ' s not there to hold your hand. Since making more than three mistakes will result in you failing, you find yourself having to bare all the boredom and dreariness of the wait, over and over again. Hopefully you git gud at driving enough to memorize all of your wrong choices thus far, and by sheer will and refusal to move on, finally pass the written test. You will, at this item, have access to the next uneventful wait; The road test. .. with a tractor. The cognitive process will repeat itself ad infinium until it simply cannot be neglect. Finally, after X number of loops through hell, you can finally walk away victorious, having outlasted the DMV and all information technology bullshit. And don ' t expect your driver ' s license. Passing the test was reward enough, right?\",\n",
              " 'In conclusion decided to try a souls game after this one won all the awards. Thought it might deliver included better support for people with learning disabilities. But nope, it precisely screws with you. If there be a simpler party boss mode option I would hand this game a 10 / decade for being a good undecided world rpg. But it lacks options for us mentally disabled folks. so 0 / 10',\n",
              " 'where bloodborne?',\n",
              " 'There are things done RIGHT: The Open World is intruiging, Combat feel great, It runs fantastic, The World looks GORGEOUS, There are some areas inside the Open World that are legitimately INSANE, The Pack, Bosses and NPCs are well desgined, The Sounddesign is good and weapons, attacks, etc all are fantastic However this can \\' t carry the negatives I found with this game: Feeling Lost: I know it \\' s a meme, but hear me out. I literally SKIPPED the tutorial by accident. I walk here: \" oh the enemies are too hard, you need to go elsewhere \" my friends tell me. Well so I did. I walk there: Now I \\' m oneshotting everything since I was MEANT to go there practically earlier. That is no fun. How should I know which level of \" hard but fair \" is acceptable? No idea. I wanted to play this game blind, but I literally could not - I would \\' ve quit the game 5 hours into it if I had no friends to teach me. I frequently find myself asking: \" can I fight this one? \", \" Am I supposed to be here? \", or \" How do I find X? \". \" Go find out for yourself! \" say my friends. \" The game tells you when you are not meant to be here \", they say. This is where I don \\' t agree: No guidence at all lets me feel lost, clueless, I had no idea on how to do basic things, sometimes I \\' m overlevelled, sometimes I \\' m underlevelled. Elden Ring, for the love of god, is HORRIBLE at communicating information to the player. I know you all are down to BASH hand - holding the player, but SOME guidence should be given. And NO, The questlines and storylines all don \\' t make sense and are rather missleading, sometimes leading you to areas you most certainly shouldn \\' t be, to be fully honest. Being Open World makes this problem 10x more apparent. Let \\' s talk more about that. Variety: Going Open - World has it \\' s problems. I frequently find myself uninterested in the exact same Dungeons, Bosses, Boss - Rooms, Enemies. The entire copy - paste of some sections had me feeling disappointed. This hits much harder because I know they CAN do better. Some of the most breathtaking areas I \\' ve ever experienced are in this game. But you can \\' t fully build the Open World on these areas, right? Well you just have to look at other Souls games to recognize that this is very possible. A lot of bosses also get reused or become normal Mobs - which apparently be normal? I \\' m not getting exited anymore when seeing (most) BOSSES. Think about that. Meta is also a big part of Variety. I personally have no idea about this stuff tbh, but I frequently heard about meta builds being broken or nessassary to defeat harder bosses, PVP - builds all being the same, etc. This hurts the integrity and one of the best aspects of the game: play however you want. Point proven: Elon Musk literally got flamed and people wrote articles about him for using an \" off - meta \" frame. wtf? I \\' m HEAVILY discouraged of doing so, because X is most broken, , Y is nessassary to beat stuff or, going to my next point, I levelled Z. Limitation: Some limitation is very good and welcomed. However I REALLY dislike how weapons and Arts are Stat - Locked. How come I defeat the X - Dungeon or boss, wasting hard - earned Stone - Keys to play them, just to come out with a lackluster experience and a weapon I can \\' t use? This feels genuinely HORRIBLE. Yes, I \\' ve been told I can respec, but 1) I have literally no idea how (feeling lost ), and 2) I can do this only a limited amount of times. And no, I don \\' t want to REPLAY the entirety of Elden Ring because, and this is the singular reason my friends replay this game, I want to try a new build. This seems INSANE to me. It \\' s unfair: Some Bosses and Mobs felt very unfun to play against (don \\' t get me started about this invisible dude ). I don \\' t really want to waste 6 hours for the TUTORIAL BOSS. So what did my friends act? (this was one of the biggest mistakes I \\' ve done ); we cheesed a Mob way beyond my league (but accessible for some reason; that doesn \\' t make sense ), giving me an INSANE amount of Levels. I \\' ve become overlevelled to the point where I still first - try bosses 40 hours into it. As a Newbie to Souls - Games. That doesn \\' t feel right nor fun. Hearing that the lategame gets worse, with frequently more unfair enemies, I feel very discouraged to go on. I came into Elden Ring and wanted a \" Hard but Fair \" game, but this couldn \\' t be further from what I \\' ve experienced. Story: I literally have no Idea why I play this game on a story - perspective. I know I want to be this Elden Lord, go to that Tree or whatever, but that \\' s about it. The only reason I kept playing is because I want to find special places, see something I didn \\' t see before. It comes down to everything feeling VERY confusing. I have this quest where I needed to go down a well to find some NPC. The Well - part was rather easy, but down there and without guidence by my friends I would \\' ve probably searched for a bit - then I found him and CAN \\' T EVEN PROCEED this questline. \" The next part is out of my reach for some time \" my friends tell me, seeing no problem with that. Multiplayer: Multiplayer was a mistake. It \\' s frequently laggy, It takes AGES to play together, it \\' s very limited and there are exploits that feel like straight up cheating. This shouldn \\' t be the way you play this game imo. PVP is also very unfun, running into the same builds a lot of times (\" YO It \\' s another Guts - Build \" - my friends shout in exitement ). This is a personal point to be fair, but let it be mentioned here. This game is far better enjoyed in Single Player. This is where I stand: I intentionally didn \\' t go deep into the positives to try out my point but trust me: This game got GREAT things going for it. That \\' s why I \\' ll keep playing after all. It \\' second far better than many Triple A titles (which is not hard to be fair ). I first thought Souls - Games are just not my type of game, but I \\' ve disproven that by liking other souls - games I \\' ve played recently. I \\' ve truely thought I \\' m a noob, that the game is too hard because. .. well. .. I \\' m too bad. But that wasn \\' t true aswell. I \\' ve finally stopped giving it the benefit of the doubt, \" breaking my silence \" one might say, and saw it for what is it: A great game with huge deal - breakers and impossible problems to solve. It \\' s near impossible to play this game without any help, it lacks direction, multiplayer is bad, the story is a confusing mess, the Open World hurts the game more than it does good. This game is far from being the masterpiece people praise it to be. To my friends: Tut mir Leid Alex und Christian, ich hab euch häufig getriggered, aber Elden Ring hat zu viele Probleme, welche mir den Spaß richtig oft rauben. : (',\n",
              " 'to a greater extent a meme than man',\n",
              " 'no homeward pearl: (',\n",
              " 'Iodin had to vote it downwards because Bandai decided to increase the prices of all their game in short countries by 6 times. Directly, the games cost in my country more than a x days average pay. What a shame! !!',\n",
              " 'لا تستحق الشراء لعدم وجود اللغة العربية وكثرة الخيارات وصعوبة فهم اللعبة بدون اللغة العربية',\n",
              " 'Rogier is useless',\n",
              " 'Given all the hype this game received, well, eventually I should probably learn to not trust \" professional \" game reviewers. I \\' m not sure if this is the studio \\' s first open world game, but it sure feels like it. It \\' s a bland and boring (but beautiful) world with no direction and incredibly repetitive mechanics that become boring after the second dungeon you go through. You don ’ t need direction in a linear game like sinister souls (rather, its linear nature IS the direction ). But open world games demand at least some of it. Given all the hidden secrets in this world, I can tell just how much effort the devs put into crafting it. But with how they just point you in a vague direction and say “ go kill that boss to advance! ”, they utterly fail their lovingly crated world by not giving the user any real reason to explore it. I saw a lot of reviewers saying that you should use a notepad with this game to keep track of side quests because there is not quest log. If your players are having to use external tools to observe track of something in the game, that ’ s a failing on the game ’ s part. It does not add to the experience or mystique of the game. In fact, it detracts, since you have to consciously put the game aside to take notes. One didn ’ t get far enough into the game to really pronounce how much you ’ d have to use the wiki to find secrets and solve puzzles, but if what little I did get is an indication of the rest of the game, then another symptom of the lack of direction is just how often people have to search online to figure out how to find something or what to do next. Again, if your players are have to use external tools to play the game, it ’ s a failing of the game. I \\' ve yet to find any appreciable story after 15 hours of play. And no, a few lines of dialogue every now and then are NOT story. They \\' re a pathetic attempt to pretend to have a story. Maybe if I played longer, I \\' d see more interesting content and more story, but if I \\' m not seeing any real story even after I down the first major genus bos, I do not count that as having a account. It \\' s flavor text, at most. As a final note on the negatives: This is a lazy console port. Framerate is capped at 60, Field of View is too narrow for computer screens, and not adjustable. Interface is taken directly from the console, and that \\' s almost never a good thing for a PC game. Control scheme has terrible pre - bound keys, and commands that should really be split between multiple keys on a PC are bound together. Additionally, there are a number of commands that can not be re - bound. Number keys can not be bound to any commands. And there \\' s probably more that I \\' m forgetting about. This game is playable with a kb / mouse, would probably be better with a controller, but REALLY needed a interface / control rework for PC. As for the last part, let me preface this by saying it does NOT factor into my negative review, because I know many people very much so enjoy the souls - like model. This was my first souls like game, and it turns out I do NOT enjoy the punishing mechanics that you have to corpse drag through to learn fights. I get that others do, and I won \\' t review it negatively because of that. Though piece of advice, if you think you won \\' t like the punishing challenge of the souls - like model, do not buy a souls - like game, you \\' ll just be miserable. If you don \\' t have really good reactions, you won \\' t be able to handle combat in this game. People say git gud, and that \\' s the kind of game this is. I just have no interest and do not enjoy it. Again, this is not why I \\' m giving the game a negative review, just a warning to anyone who might be looking to try the souls like model.',\n",
              " \"Seems well optimized. It ran fine on hardware that it should run fine on. There might as well not be music, there are vague slow tones, regardless of what ' s happening. Combat is wearisome going, extremely clunky, and unsatisfying. The gameplay seems to be wandering around and either killing something easily, or dying. Control scheme is reasonable, but inconsistent, and seemingly an afterthought for the PC market. Graphics are average, if not slightly above. The world has some kind of desaturated filter on it that makes everything seem dull. It ' s a blurry mess unless you turn off motion blur and depth of field. The art is good and consistent, which makes up for some of the visual shortcomings of the game. The plot in 2 hrs of play is totally tongue tied. There ' s a lot of exposition in cutscenes without any bearing. The few characters you talk to dialogue dump about what I can only assume matters later. I would consider the piece of writing below average. In 2 hrs of play, I leveled up, which increased some stats that didn ' t wallop anything in a noticeable way of life. I got some armor that increased some stats which also seemingly had no impact. This game reminds me of old dreamcast games from the bargain bin. . It ' d be an absolute gem if it be $ 5 and I only owned 4 or 5 other games, but with modern gaming, there is fierce competition and this did not hook me. Normally I am okay to ' wait and see ' but with wholly the rave reviews it caught, this game was an extreme disappointment.\",\n",
              " \"its not a adept game, it complicated and all unreliable. It requires you to search shit upward to project it out, its bad and i wouldn ' t yet recommend it to my teenage son. stupid bitches made this plot for clout i swear to god.\",\n",
              " 'L plot',\n",
              " 'non fun',\n",
              " 'Should add up with free therapy sessions include',\n",
              " 'too knockout break soul',\n",
              " 'FAILED TO lode SAVE information! - 100h',\n",
              " 'Its not fun at all putting X³ number of minute and leveling your character to a pretty high value, having somewhat legendary equipment and passing into second half of the plot and still being utterly humiliated by 2 footling goblins with pointy sticks. Not my cup of tea. Visually the game is astounding, but the progress and learning curve is just way beyond any measure of playing this secret plan \" relaxed \". You feel like an intelligent worm that sometimes gets a squeamish shiny stick and pick up new dress, only the game repeatedly reminds you that you are still a petty worm.',\n",
              " \"I have wait 6 months in the hopes of stability patches but the game still stutters for me and has lags spikes so severe the game essentially freezes. All settings on low or ultra makes no difference. My PC is a little out of date but 1 had no trouble playing cyber terrorist on launch day with all settings ultra so I don ' t see why Elden Ring cannot hightail it swimmingly. I will ne'er buy another From Software game on PC. Stick to console.\",\n",
              " \"This is a horrible game do not buy it is a piece of tinker's damn you will want to die if you play this plot dont play dont simply waste of money dont buy remeber dont buy it is completely a lie if someone state you this game is practiced.\",\n",
              " 'this game said unity bear no bitches which i dont but it nonetheless hurt my feelings',\n",
              " \"Im not a souls like player so the difficulty is pretty off put. On top of i perfer games with potent story and so far this secret plan has not displayed one im concerned in, so i dont think i ' d play it, even if it was easy.\",\n",
              " 'dont buy game shits Itself while you are tryna bid at 35fps',\n",
              " 'a boring, poorly - balanced shadow of Fromsofts past of designing tight, good - feeling games. the story and the aesthetics are top quality, and stand proud against the rest of the series, but every other core part of the soulsian experience has been gutted to deliver a large world with a sprawling story. the coop is muted and fairly pointless to be summoned by, invaders are either gangbanged by hunters and summons or blatantly min maxing builds just for the rush they get at the \" host killed \" screen. the boss fights have poor timing that are incongruous with the pace of the character. the bloated systems and half assed renditions of good ideas from previous games are fall behind in a whirlwind of sketchy combat, landscapes intend to be walked around until you find a cave worth exploring, and dungeons too small and too repetitive in design aesthetic and enemy types that the whole, massive world feels like the same area with the same enemies and the same annoying reasons to send you to the nearest checkpoint with a slightly different coating of paint on it. im sad to saay fromsoft have lost their moxy in taking on a project that they honestly shouldve reeled in a time or two. play at your own risk, most people wont even find the plot fun because of the core systems.',\n",
              " 'nan river',\n",
              " 'this biz make me suicidal',\n",
              " 'bad idea international maritime organization',\n",
              " 'This game is horrifying, im telling you, dont gambol it, my eyes were bloodshot for five hour heterosexual, i equal scared to accept my eyes away from the screen, the pain i feel, the overwhelming mental pain i feel was unreal, this game was produce by satan himself.',\n",
              " 'The whole matter look like information technology was bring in by a neural network.',\n",
              " '.',\n",
              " 'god of war should of won',\n",
              " 'dog dickhead, bug out country is too grown no help on progressing',\n",
              " 'Developers should fix this game. I just lose my level 151 build and 80 hrs in this plot to save game loading error when a sudden pc crash close down my personal computer. When i reloaded game this issue pops in. Try every thing but nada worked. Done with this game. Buy at your ain risk.',\n",
              " \"The game ' s fine (and the whole saga) but definitely it ' s not for me (and if you ' re anything like me, probably you ' ll feel the same ). Allow me to explain myself Au contraire of many reviewers, I don ' t see Elden Ring as a ' masterpiece ' nor a game superior in any way to an ultramodded version of Skyrim SE or AE. Sorry about that. Nah, it ' s not about difficulty, you heathen bitch. I was able to overcome some initial bosses searching for tips here and there, it ' s about the gameplay itself: the entire world wants you dead, it ' s hostile, creepy, inhuman, inaccesible, hermetic and have intercourse up all around. It ' s exhausting and boring. Go there, be trashed aprox. 20 - 30 times by some weirdos before going forward. Repeat. You wanna have some fun by overpowering your build? Let ' s do your research before playing: forums, videos, fan websites and the like. And I ' m a sort of a ' soft gamer ' with a life and family, I don ' liothyronine want my time to be waste before playing, I just wanna have some fun playing the damn game. Besides, I need a game to be plural, ' human ', diverse, colorful; I need a game to tell me a story, providing me a challenge I really want to overcome while I ' m enjoying the sights, the landscape, the NPCs. . In Elder Ring I ' m just shitting in my pants all the time. Not funny, you know. Perhaps I ' ll give it a shot someday. For the time being, I ' m gonna marijuana cigarette to my Witcher, my CP2077 and my ultramodded Skyrim sou' east. Enjoy this torture machiner. .. I mean, this game: )\",\n",
              " 'i require to * * * * myself (edit: unity no longer desire to * * * * myself i beat the boss ace was wedge on for twenty eight hours )',\n",
              " \"As a long - time fan of the Demon ' s, Dark Souls and Bloodborne series, this is a huge leap backwards and I ' m left with a myriad of negative feelings on this. From its half - baked receptive - world, poor technical performance and it ' s constant recycling of bosses. The world is a half - realised bore - fest with barely any NPCs to encounter (ones I do find be not memorable in the least ), oh and the bosses. Jesus are they awful. The constant reuses of the same bosses, over and over. I ' m only 30 hours in and I must ' ve fought about 7 of those goddamn gargoyles, all with the same copy - pasted movesets. I also remember when early Fromsoft entries had bosses that were tough but FAIR. The bosses in ER are absolutely relentless, giving absolutely no room for openings. It ' s a battle of attrition of I hit, they hit. And those one - hit kills. Good god. FromSoft really needs to distinguish between difficult and cheap. The stutters and FPS drops are another thing. The game looks beautiful, Ace would expect no less from From Software ' s art department, sure. But from a pure technical point, it looks nowhere near as pretty, let ' s enounce, as Red Dead Redemption 2. Yet here I am fighting with constant stutters, FPS drops, while trying to dodgeroll, which require frame - precision. This is inexcusable. So yeah, overall, one of the most disappointing games I ' ve had the displeasure of playing. Not a bad game perse, but an incredibly disappointing one nontheless.\",\n",
              " '.',\n",
              " \"buy ds3, at least and then the political boss aren ' t all flailing arm hit box with unpredictable flack convention.\",\n",
              " 'nanna',\n",
              " \"The GREATEST DISAPPOINTMENT EVER! !! If I ever rue grease one's palms any game instantly, it is this disaster. Clunky, unintuitive controls, terrible aiming when you play as a mage, overpowering foes right at the start, terrible initiation into the game - information technology ' s beyond maine how this secret plan could have ever bugger off a positive review. .. no, no, no, non my cup of tea at all, never again! hell no!\",\n",
              " 'to a greater extent like odor - den tintinnabulation gotem',\n",
              " 'I wish there was less heart to heart world stuff and more stuff like Stormveil castle. The open world and the dreadful optional dungeons don \\' t feel as though they make the same care pose into them that larger legacy dungeons do. For such a \" large \" game, information technology seems to have the same amount of content in it as Dark Souls 3, just spread out a lot further. Hopefully more updates and DLCs come that round off the game out and make things feel more complete. I tooshie \\' t really recommend it until that point.',\n",
              " \"Solid singleplayer game. This author ' s dedication to crush any attempts at modification are disgusting, however. I wanted to play Seamless coop with my brother. It is a mod that allows 2 players to play together, and explicitly cuts off the actor from playing with people that don ' t have this mod. It worked for a couple of sessions, then the latest update completely deleted the executable to launch that. So I tried to desexualize it, and it the anti - cheat somehow denies even administrator privileges. The anti - cheater then completely broke my terminal when I tried to use that to play. I can ' t even launch my terminal anymore. It is actively breaking other things on my computer. I have never made an attempt to play with anyone except my brother. I have never take part in an invasion, left behind a message, or anything. This is awful. You need to know why this game will never have the cultural impact of Skyrim or Fallout? This is wherefore.\",\n",
              " \"Ace of the most late patch has rendered this plot virtually unplayable, frame - charge per unit, stuttering, etc. . Spent several hours trying to fix the issue, but not regain any alternative. There be an incredible game here, but the developers don ' t know how to pee pee something work on PC.\",\n",
              " \"[ h1] Depressing game for depressed people. [/ h1] [u] Extremely overrate garbage with myriad problems. [/ u] [b] Even though Iodine fully completed the game with 100% achievements, I can ' t, with good conscience recommend this pile of horse $ h1t to anyone. .. [/ b] This was my last souls game. From Software postulate to stop making such games with this painfully stupid game mechanics. This game design be awfully flawed in cosmopolitan.\",\n",
              " \"Standard opened world game. Guidance around the open world is bad. Says to follow light as a form of guidance, takes me to a boss that skips 3 - 4 bosses. Asked an experienced friend to steer me who only found out what to do after exploring the entire map and finding where they needed to go (sometimes required youtube videos ). Lastly, the controls for this game be built for controller / pad. If you ' re a keyboard andy, this game is not for you chief. PC controls are super clunky and inefficient. I have to let go of my mouse to make a sequence of buttons to just do common things in the game.\",\n",
              " \"the biz usually takes deuce - 3 attempt to just launch (18 / 20times) has to be force - quit most of the times (19 / 20 times) random crashes when changing graphicsettings (twice so far) random infinite loading (~ 1 / hour) {edit} videosequences randomly not playing, lock bossfights / advance (03 / 10 times) (all numbers are estimates) rather laggy, (I can toy similiar games with my PC and they don ' t lag that hard) the rest is basically darksouls but openworld & easier edit: so technically it ' s a mess just still fun gameplay (if working;) and interesting world to explore\",\n",
              " \"Tl; dr: Read a book or something. If you aren ' t a streamer or unemployed you wont have the time to play this game. Its size makes it a huge slog. Not a good introduction to the Souls Serial and not a good continuation for returning players. If you enjoyed the bosses, you will be dissapointed, their moves are poorly telegraphed. If you enjoyed the multiplayer covenants, you will be dissapointed, covenants were removed, as were worthwhile multiplayer rewards. If you enjoyed the arena matchmaking from DS3 ' s dlc you are in luck, it has made a return and since Elden Ring is relevant you will find arena matches. Go phone your parents or friends or go to a bar drinking, those will fullfill you more then elden ring will. Rant start. Elden Ring expands and streamlines systems from previous games, while showhorning in crafting and an open world. The weapon infusion mechanic combined with the new ashes of war, that allow customisation of a weapons moveset, are great. The invasion multiplayer experience has be neutered, there are no more covenants. The cooperative experience has been streamlined, with a single item ones summon sign now appears all over the game world at certain unlocked summoning pools for other players to find. The rewards for any type of multiplayer? Nonexistant. Multiplayer rewards consist of the equivalent of a humanity / human effigy / ember and something called a furlfinger remedy, an item to reveal summon signs. The furlfinger remedy can also be crafted by mashing together two of the like flower that can be picked from any roadside. Elden Ring has seperated the boosting aspect of a humanity / human effigy / ember from the multiplayer enabling aspect. This results in two severely devalued items. The default reward for multiplayer has as such not changed from previous games, but the percieved value is much lower. The removal of covenants and their unique twist in multiplayer means there are no longer any covenant specific rewards, that could at least act as a trophy. The new open world itself is bloated, to much space, to little substantial reward for exploration. Most exploration rewards are now crafting materials in unsubstantial amounts. Heavy expendable item usage now demands farming for materials from monsters, or prancing around the world picking flowers. There are traders, but not all crafting materials are buyable in unlimited amounts. Want to toss a kilo ton of tnt worth of bombs? Have a fun time farming materials. Want to do a bow only run? Have fun killing small animals for their bone to craft arrows until you find the right merchant. Then farm even more to upgrade those arrows with different effects. Want to use more special arrows? Hit or miss if they are craftable / buyable / must be farmed. The lock - on system is completely unusable. Not a large problem for melee builds, but anything using magic will quickly grow frustrated with the inability to properly focus a target in chemical group fights and switch the lock - on target. Bosses are frantic and unpredictable. Their combat is intense, with every combo being able to chain into the next with little downtime. The boss ai has been ' improved ' meaning some bosses can now read your inputs and toss a fireball into your face, if you go to heal. The combos themselves can also be incredibly dependant on your position with no clear stopping point, meaning that going for a swing from the wrong direction after the combo seemingly ended, can net the player an attack to the face. The percieved weight of a bosses attack can also vary wildly. Perhaps they start their combo with their weapon swinging so quickly that one is hardpressed to react on time, just to suddenly take an awkward pause mid - swing, catchin you off - guard. Elden Ring bosses can be described as experienced pvp players; they only use weapons with incredibly short startup animations, they are masters at input staggering and roll catching and they have deceptive attack ranges. But unlike another player they cannot be staggered in two hits. I can ' t remember where i heard this, but Elden Ring does indeed reward exploration instead of perceverance; exploring the bloated and empty game world eventually nets one enough levels and upgrade materials to overlevel any boss, allowing one to ignore the poorly telegraphed attacks of bosses simply by the means of more healing resources and more damage. In previous games the bosses are consistent enough for the player to gather alot of experience with a bit of perceverance and use that perceverance to finally beat the boss. In Elden Ring the bosses have been ' polished ' to such a degree, have recieved so much love in the form of varying movesets and combos, that i wished the animator in charge of telegraphing those attacks was forced to actually test them first. Being hit by the same high damage move over and over again, because the wind - up animation towards it has so little visual cues it might as well be a rythm game is not fun, its infuriating. Does this mean i am bad at the game? I would agree to that retort, if it weren ' t for the fact that every boss in this game has at least one such attack, an attack with a ridiculous pause mid swing. Every boss, with criminal consistency is guilty of this. Its either you overlevel the boss, or cheese him in some way, or you spend the rest of the year persevering through staggered animations that are meant to uproot any sense of movement coherency you might have learned over your whole life. The open world also quickly looses its novelty after you find another privy place only to be rewarded with a flower you could have just picked from the wayside in larger quantities. Towards the end i quickly rushed through every new area, because i knew that my time was better spent search for anything worthwhile on the wiki and backtrack for it later. It was no longer a game, it was a chore i wanted to be more efficient to hopefully get to the good part. But there is no good part later on. Perhaps the multiplayer could have been a major upside, but there are severe limits on playercount. The world is huge and the game is unable to fill it with either interesting secrets or wothwhile multiplayer. Rant end.\",\n",
              " 'giant golden cavalry riding world i shots me every metre upon leaving the first elbow room',\n",
              " 'Does non support ultrawide without third party modification and only in single actor',\n",
              " 'No time of day - farseeing sex scene between radagon and marika.',\n",
              " 'Ruin early videogames for me. Not recommended.',\n",
              " 'speculative pvp, as always.',\n",
              " 'some fop forced pine tree state to play this plot and i feel violated',\n",
              " 'no Jueno',\n",
              " 'FromSoftware resist to publish their games on GeforceNOW. Yikes',\n",
              " \"The game doesn ' t let me aver slurs to nonage player.\",\n",
              " 'cringe',\n",
              " 'shit',\n",
              " 'Had to employ the net to learn unexplained game mechanics, and you can not intermit in offline single role player.',\n",
              " 'lowkey a waste product of money',\n",
              " 'Elden Ring is marketed as an Open - World RPG that doesn \\' t focus on it \\' s open nature, instead pretending to make up Dark Souls 4 (with too much space ). Enemies frequently do too much damage per strike, meaning that players should either go all - in on HP or not bother with the stat (focus on evading rather ). This game still punishes casters (as DS3 did: no FP - regen, staggering stat sinks required, sacrifice healing for FP flasks, etc.) while getting rid of weapon durability (infinite melee ). FromSoft is clearly too heavily invested in making a \" harder \" game (difficulty is always subjective) and failed to flesh out key details of this title. The questlines are convoluted and offer no guidance, even Majora \\' s Mask (2000) included an in - game utility to track NPCs. The worst part for maine was finding out after refund - eligibility expired that the game didn \\' t live up to its hype and the first real boss can easily be more than 2 hours in. Now I \\' m stuck campaign a game I should be enjoying instead. C \\' est la vie!',\n",
              " 'Secret plan crashes constantly',\n",
              " 'The game is genuinely fun simply when the first of the final two boss just spams aoes and the second just runs out from you it just ruins the hole ending of the plot',\n",
              " \"it looks good but it plays terrible. some bosses comprise difficult just to cost difficult no other purpose or game mechanic behind it. combat mechanics suck. huge bosses that dont fit the screen with attack rule you cant even see. the end secret plan boss be the worst boss always. just information technology looks really squeamish. sekiro ' s combat better tho.\",\n",
              " 'Sanctum crap this game is non fun at all',\n",
              " '2022 and no widesreen. .. wtf..',\n",
              " 'This game be trash',\n",
              " 'The game is ok overall. The graphics and story comprise good. I like the fact that it is open world and give a lot of room for exploring. However I do believe information technology is a little off balance. Some bosses are extremely strong compared to the character, which puddle the motivation for a lot of grinding to collect runic letter to increase the level. This is ok up to some point, but takes aside a little the fun of the game.',\n",
              " \"I loved Sekiro, but this biz just isn ' t hooking maine. i ' m not really sure what i ' molar concentration supposed to be do, and the i - frames on dodge scroll are hard to understand. although i ' m pretty certain that ' s scarce a * skill issue * on my office.\",\n",
              " 'It \\' s a great game, not the best of 2022 I think. I enjoyed playing it, but Atomic number 53 won \\' t recommend it to my friends because: 1. No side - quest tracking. Being constantly checking on game walktrough on websites or youtube videos, only to know what or where to do next, is simply annoy and exhausting. It makes me spend way much more time needed to complete the game and doing so exposed me to spoilers I didn \\' t need to see. I recollect information technology \\' s a part of the marketing strategy from FS involving those youtubers to make such content, which I think is cruel to make your customer feel the way I feel (as mentioned above ). 2. Multiplayer mode is so limited. \" this game is meant to make u feel lonely, bla bla bla \". Shut up. Just disable multiplayer mode for good then. 3. The late game matt up anti climax. 4. The story telling sucks. I need to watch more youtube videos to know what \\' s going on. 5. Tutorial isn \\' t complete enough.',\n",
              " 'Love the biz, but the co - op rag should have a disclaimer. This is not a co - op secret plan. Many people buying this game thinking they can play co - op, finding out they will have meta mcghee forced down their throat to the extent you cant relax and enjoy with a friend or family member. For that reason I give it a negative review. Hopefully bring care to those co - op players that are considering this plot.',\n",
              " 'Game constantly crashes on PC, no drive updates or disabling any window settings / gamebar will fasten information technology. Current specs: windows 11, EVGA GeForce RTX 3080 driver update 528. il (02 / 08 / 2023 ), Ryzen 9 5900x',\n",
              " 'dog shit pvp',\n",
              " \"Can ' t even sex kenneth haight 1 / 10 bc polo neck catholic pope\",\n",
              " 'this shit sop up a prat',\n",
              " 'the plot was to a fault easy',\n",
              " 'I was blab into buying this plot. This game is like Inception. You \\' re sang froid if you \" relish \" this. On top of that, graphics on the N64 looked better than this. This game is absolutely garbage and 1 would refund it if I could.',\n",
              " 'I like this game, but I can \\' t recommend information technology based on the design and balance. Quite simply lay: You must dump most of your points into Vigor, or suffer getting oneshot by most enemies and bosses with their normal attacks. Worst of all is the Crucible Knights. They are designed in the most thwarting way possible in that they are entirely built to counter any tactic a player can use against them. You can \\' t backstab them, you can \\' t status effect them. Their AI reacts to everything you do to prevent you from hurting them. They have way way too much health that you just deliver to whittle down for ages while they \\' re capable of one - hitting you unless you dumped all your points into Vigor, which makes them alone 2 - 3 hit you. Which isn \\' t fun. It \\' s not that it \\' s hard. I \\' ve 100% \\' d Sekiro, beating the Mortal Gauntlet and other challenges in it with little trouble. I \\' m planning on doing the same Charmless + Demon Bell at some point. Not to prove I \\' m \" gud. \" Not because it \\' s \" hard. \" It \\' s because it \\' s compelling to do so. Because I have FUN with it. Because I ENJOY MYSELF doing it. Elden Ring \\' s \" to heck with your \" build \" just dump all your points into health or die \" design isn \\' t enjoyable or fun or engaging for me. It \\' s frustrating. TL; DR: Please stop making small enemies who can start a grab animation during the middle of my attack animation and instantly kill me.',\n",
              " 'unfinished game. may be different on the consoles but for pc its basically an unfinished critter slasher game. story content is weak. no journal. no critter display upon selection (there \\' s a blank blue ikon top left with health bar but no info ). I did take several classes to approx lvl 50 to get a feel for how they were set up and had the most enjoyment from a wretch dex / int build or dex / religion. But at a certain point its just about running around for hours killing the same critters for coin to purchase your next level. managed to kill the first boss with a vagabond (knight) Iodine just put straight strength attribute into and it was very anti - climatic. Plus they throw all these ghost images of other players in \" former worlds \" (which i \\' \\' m sure is just them trying to reduce their server load ), that is very annoying. I can \\' t seem to turn it off but those images seem to be random and sometimes it gets in your view when battling groups of critters. oh and the targeting absolutely sux. you can have a target locked and just as you go to shoot it again the target lock breaks and moves to another critter not anywhere near you. I \\' ve had my character do a 360 in place trying to hit a new target lock on some critter 50 ft away. can not tell you how many times this has killed me. tried shutting it off in settings but it doesn \\' t seem to make a difference. still needs work, but i \\' m sure now that this has been selected as game of the year that won \\' t happen as the public has set their standards quite low. Also this isn \\' t a traditional MMORPG in the sense that you \\' ll be exploring with the other masses. basically you play on your own unless you want to join the PVP server, or you wish to have a few friends log in together with you, simply i havn \\' t tried that as it just does \\' nt \" feel \" right. . visually its very attractive, and probably what carried it through the voting process, but in terms of playing an online MMORPG I \\' d spend your money somewhere else. However. . It goes without saying the maps are wonderful. the castle have a ton of variety and theres loads of \" stuff \" for you obessive compusive folk. . but sadlky for me it scarcely wasn \\' t what I was expecting. there has been several times i get stopped and wondered what I was supposed to do next (other than run over to that same mob and slash em again ). .. I \\' ve only been playing about 2 weeks (now about a month) and already i \\' m at a point of deleting the program, or face hours of the same. .. the same. .. the same. .. the same. .. the same..',\n",
              " 'Designers of Malenia, hit maine upward, i wanna smoke some of that juicy stuff you guys were on when contrive her. (I testament change to convinced when i get the goods )',\n",
              " 'В дарк соуклс добавили прыжок, псевдоткрытый мир в котором ничего нет и паркур на лошади миядзаки гений революция в мире гейдева ну и фпс залочен на 60',\n",
              " \"Okay first, I will say I would recommend this game to others. I think its an incredibly made game and lived up to the hype it had for so long. The reason I ' m give it a negative review is to let people know why it hasn ' t grabbed me the way other fromsoft game have in the past. Two things: 1. The candid world is incredible but isn ' t my speed and 1 get lost and bored after awhile. The world is unbelievable, just open world isn ' t what I ' m looking for in a fromsoft game. 2. After playing this game I realized the reason I like bloodborne and sekiro so much be they have unique and addicting combat mechanics thataren ' t present in the souls series and elden ring. So if either of those things sound like they ' d be an issue I ' d hold off or wait for a sale, but if it really seems like a game you ' d like, get it cause it probably is and it ' s incredibly well made.\",\n",
              " 'Good secret plan. Disgusting pasted on Black Bar for anyone on a wide monitor. Game RENDERS FOR ULTRAWIDE, then add black bars for whatever reason. Anyways, perfectly disgustingly lazy.',\n",
              " \"I would recommend this game for most people, it is beautul and sad. Wellspring Done. The gameplay however is much to one - sided especially for an older player, such as myself (77) and not allowing a easy play manner really limits the people who can really play and most of all ENJOY this game. Balance is likewise important it ' s a little daunting to have everything thrown at you in tunnels but, mainly just an easy mode would be nice for some of us older people. So as is I would not recommend this game for myself, only would for younger adults, who can remember every party boss moves and abilities Thank You for appropriate me to express my opinion.\",\n",
              " 'As someone who has Dark Souls as their 2nd all time favorite franchise (Right behind The Elder Scrolls ), Single gotta say this one ain \\' t great. I don \\' t actually wanna ballot for not recommend the game, only it \\' s the only option besides the \" thumbs up \" button. Overall the game just feels hollow compared to it \\' s predecessors. Pun only slightly intended. The switch to open world seems to take away more than it adds. Seemingly just adding a longer travel time between areas that you would traverse in previous games. Everything is even more obscure, and that \\' s saying something for this series. Whereas the more \" metroid - vania \" structure of previous titles would make it easier to stumble across items and such, the open world aspect here basically makes hold a wiki tab open in the background a necessity if you hope to actually find anything, or even go the right direction for story progress. Actually, I can \\' t help but picture the Souls formula used here as an old and tired Bilbo Baggins: \" I feel all thin, sort of stretched, if you know what I mean: like butter that has been scraped over too much bread. \" Overall, if you \\' ve played the previous games, go ahead with this one. But maybe get it on sale instead of full price. Maybe around $ 30 max. But if you \\' re just starting with this series, go back and play Dark Souls 1 - 3 instead. Then come back to this later if you \\' re desperate for more punishment.',\n",
              " 'this secret plan is complete garbage. where dress i go? am one meant to wonder around aimlessly? no charge? no clues early than touching grace which tells you nothing. trey hour and 60 pearl buck wasted. ugh. ..',\n",
              " 'In my opinion the fib face of the game is bland and with deficiency of interaction with npcs gives an empty feeling to an open world game. Ridiculous hit boxes and obstruction / texture (solid walls, cliffs …) denying attacks (as in Dark Souls 1, 2, 3) due to poor design is also a problem. While Elden Ring promotes itself with online pvp and online conscientious objector - op, internet connection plays a huge role on both of these, there be no filter on latency therefore you will either join a session with huge lag or players who join your session volition have lag.',\n",
              " 'An first class game were it not likewise large and re - use to a fault many plus.',\n",
              " 'i screw it',\n",
              " 'biz TOO HARD YOU COULDNT metre information technology, I CAN THOUGH',\n",
              " 'Mid',\n",
              " 'it a cool plot but it fucking suck lol. no direction, any progression you make will comprise thanks to youtube, and overral just a waste of money. just an overcomplicated slow botw',\n",
              " \"this is by all means a 5 star game, sadly the fact that you can aim stuck in an infinite loading screen with corrupt save file you ' ve spent hours on makes me strongly deliberate never playing the game again. You will more than likely enjoy this game as it ' sulphur arguably one of the greatest games out thither, after the refund windowpane Fromsoftware will lock in you out though and waste all that time you put into your persona.\",\n",
              " \"I bought the game and booted it up. Well, tried to. The game crashed every. single. time. I tried to run it. Tried to fix it for ii hr with no luck, couldn ' t score it past the character creation sieve. I ' m sure its a good game, but its so terribly optimized for personal computer that I couldn ' t even run it. If you have a ps5 or xbox x just get information technology on there. I can ' t recommend the pc version though.\",\n",
              " 'Ngl This plot is super mid worse than ds2',\n",
              " 'I \\' ve never played a game all the way done with over a hundred hours, set down pat the controller and then tell myself \" 1 don \\' t think I had fun playing this \" before, but this unity did it. The gameplay was stale, the weapons, though many, never went beyond \" hit hard \" or \" hit harder \" the magic organization wasn \\' t creative, it was just different colors of \" shoot stuff \" and the story was utter nonsense. I shouldn \\' t have to pull up youtube videos and wiki article just to get the faintest grasp of what is being spewed at me. And don \\' t approach me and say \" you just have to read everything \" bullshit. If your narrative can \\' t support itself on its own, it \\' s bad writing. Bad game, regretted caving into the hype and buying it, rue have got wasted my time playing it.',\n",
              " 'clang',\n",
              " 'Not gratifying at all. Terrible instrumentalist progression, Enemies are scale extremely gamey. Risk of infection extremely high, reward extremely small. If you want a biz that bequeath make you want to shove along your brains out, this is it.',\n",
              " \"literally the worst drivel I ' ve ever so spent money on\",\n",
              " 'Honestly this game is incredibly overrated. Story is super vague and uninteresting, and combat is incredibly frustrating. It \\' s just memorizing movesets and not making a mistake. I can see why this is \" the best soulsborne \" but that doesn \\' t make it game of the year. What a waste of money. I \\' ll keep rage - playing this just so no one can say I didn \\' t give it a chance and I just need to git gud, but I swear I \\' ll update when I \\' ve beat the game that it \\' s still bad. The super punishing boss fights are fun because they \\' re bosses. I will give the game that. I like Monster Hunter, I like Remnant, I like bosses that are really hard. They \\' re incredibly cheap and purposefully designed so, but they \\' re right on the edge of punishing and too cheap, and they \\' re bosses so fine. But for miniboss types or exploring the story path, the basic design of this game is really annoying. If you die when you get to a new enemy type, which you will, CONSTANTLY, then you have to wade through a bunch of mooks who can kill you in three shots by stunlocking you with a buddy, and congrats, now you \\' ve lost all the runes you had on your fucking corpse retrieval. Who does cadaver retrievals still in 2022? So to get to the new enemy you have to play perfectly just to get another shot, but they are all designed with incredibly unpredictable movesets with halting, unnatural moves so you can \\' t predict when to block or dodge. The whole game concept feels like that mario almighty video where every time mario jumps an invisible hazard pops out as an F you. F you, you had no way of knowing this would happen, but now you do. So go back and if you successfully predict that move, awesome, he \\' s got branching paths off the same stance that have equally unpredictable moves. I don \\' t understand why people think dying a ton in holy order to learn a moveset is fun. And again, the moves are designed to be unpredictable. You can \\' t learn your skills and get good at the game and get better, you have to learn each individual enemy type. And it \\' s not just the mechanics of combat that has bad cues, the rest of the game does also. The giant tree knight at the beginning is way too hard to fight. Ok, I understand that after a try or two, but the tutorial, the dude you talk to at the beginning, the tip screens, no one says \" hey, you need to embody careful, don \\' t try to kill everything. \" There are no hints that the bigger something is, the more dangerous it is. There are no hints that if you get stuck, you should go screw around somewhere else and level up, then come back. ALL of that has to be learned through internet research (bad design) or banging your head against the wall so you \\' re frustrated and now have a sour taste in your mouth after owning the game for a few hours. Even like exploring, the game tells you explicitly to follow the glowing paths, but if you do so you \\' ll be incredibly underleveled. So not only do you need to explore the whole section of the map you uncover, you need to go off into gray unexplored sections as well. ALL of this is counter to standard game design and gamer instincts. That doesn \\' t make the game original and inventive, it makes information technology bad because it doesn \\' t tell you any of that. It \\' s a choose your ain adventure book that says \" make sure to read the story \" and doesn \\' t mention you can skip around. I legitimately don \\' t understand how this game has mass appeal. For fans of the genre, sure, absolutely. But a plot of the year should transcend genre. A truly amazing game is at least fun to play for a while even if you \\' re not a fan of the genre. I feel like I \\' m taking crazy pills when people talk about the wide appeal of this game.',\n",
              " \"I was about ten hours into the game and having a good time when I went into a cave and came across a group of about six or seven enemies that I couldn ' t take on because they all killed in two to three hits and there was no way to pull in them one or two at a time. 1 tried to fast travel a way to level up a little, but it was disabled for some reason. So now it is just an endless loop of die respawn without even the opertunity to get stronger. I can ' t understand wherefore the devs would let someone get softlocked like that, specially when fast travel have been functional everyplace else I ' ve been in the game. would refund if atomic number 53 could.\",\n",
              " 'im unskilled',\n",
              " \"It get a somewhat fun game once you invest time and start to understand the mechanics and how the world works. Like other FromSoftware games, the challenge of playing difficult political boss and beating them in and of itself is part of the rewarding experience. The scenery and some of the dungeons / locations can be stunning. My problem with this game is the open world aspect, the story subscriber line, and the characters. The domain is vast but empty. For the sizing of the world, NPCs are too few, most are simply silly and childish, and, like the bosses, they are unrelatable and there is no real depth to their story. What ' s more, your character, the overarching chronicle line and the side quests absolutely fail to captivate. Dungeons, mines, enemies, and boss fights are repeated over and over again in an attempt to populate the open world and weakly story line. The endings are a total let down. This game is just too much of a waste of time for what one gets out of it.\",\n",
              " \"This game be frightful. Redundant death. You mislay your health bar when you exit over and o'er just to reel for hours and tommyrot.\",\n",
              " 'secret plan is unadulterated utterly fucking domestic dog shit every boss is overpowerd dont buy it ur wasteing 60 bucks on a game ur gonna uninstall this secret plan takes countless hours its fucking terrible u cause to grind for everying i hope the develpers family slits there neck and i hope they bolt down themselfs stunned fags',\n",
              " 'No sexual practice mod: (',\n",
              " 'Go check out Malcolm Reynolds on Youtube first of all, cool guy. So this game has a problem, a big one. The devs are trying to stomp out all cheating, so the coding community has double downed and created multiple ways to bypass EAC WHILE ONLINE. Welcome to the old DS3 days of getting crashed, and softbanned without knowing your inventory was edited. The issue isn \\' t incredibly prevalent right now, but as a former CE coder for DS3 I can tell you quite easily where we are headed. Once the game drops in price, it \\' ll be overran. A lot of people now are just using whatever edits they can get away with, and some people are even buying multiple copies to ban evade. So right now it \\' s not a super invasive issue, but within a year it will be. The price drop will hit, hackers will buy up multiple copies, and the harassment will begin. Do you remember frame DCed? Do you remember the crashes so bad that you had to restart your PC? Do you remember being teleported into a room, with no way out, and all your bonfires disabled? We are heading that direction. It \\' s inevitable no matter what they do with the AC, but now the devs are trying to ban anyone, and everyone who uses any sort of edit of any kind. I don \\' t see harm in people editing their level for PvP, and I don \\' t see issues with people creating new builds via CE editing (changing bullet values so you can use boss spells, or spells that are hidden within the code) A lot of this is really cool, and we even made a community in DS3 to prevent blackhats from ruining our fightclubs. We \\' d have an omega hacker defending the fight club, crashing anyone he detected as a blackhat. Now? Nobody wants to defend anymore, and you can still be force invaded at any time. There \\' s no way to defend yourself unless you want to catch a ban. I personally ran countercheats to crash hackers if they messed with me. Now? Defending myself will net me a ban. Now let \\' s talk about the game. This is by far the hardest \" souls \" game to be released, the threads complaining about everything after you reach the point of no return, are numerous. The ultra super special boss, even popular streamers are saying shes boring, and the only way to win is to remember her combos perfectly. No variation to that fight, if you try to get some space, rush combo, if you try to position, rush combo. It \\' s just playing 100% defense and hoping you can land occasional hits. If she manages to hit you, she heals. So that \\' s fun. Outside the last 4 or 5 bosses, the game is great. Once you hit that endgame it \\' s like the Berlin wall, won \\' t come down for some time. The majority of players I talk to are gated after or right before Fire Giant. The game RAMPS incredibly hard during that period, where a fully kitted, max level, max stat character can still be 2 shotted. How do you suppose those fights go for anyone around 140? The recommended level. It doesn \\' t, seen too many people whine about difficulty, and quit. I personally agree, the late game ramps just a little too hard, and relies on mechanics that are just not fun. I \\' d rather play bloodborne, or DS3 any day. Most people who disagree with my opinion, also follow with \" GIT GUD LOL BAD SCRUB \" Yet, I \\' m not seeing as many as I act during DS3, maybe it \\' s because that game was actually average? Only 33% of players have beat that super hard boss that Iodin was talking about early on, and 19% of players have even beat the game. Some people say that the last two bosses of the story, are harder than anything else. I personally think that the secret boss is the hardest boss I \\' ve ever beat legit. This is coming from someone who soloed the bloodborne DLC with no deaths from the bosses. Soloed all the souls games except this one, there must be something wrong here right? Food for thought. Not really worth 60 $ for a game that you will probably quit near endgame.',\n",
              " \"Weird fight mechanics, can either move or defend, cannot defend while moving. No sprint option? If you clear out a section of map from enemies, and resources, they just spawn back. Overall an concluded hyped slow game, and the lore sounds alike it bum be generated by a online lyrics generator website. Re - spawnig is weird, for a game this messy, least developers could have done is have a decent save - mechanism. This game is an utter waste of time. Gonna deposit around for a bit because I paid for it, but this game ain ' t my thing.\",\n",
              " 'im too bad at information technology',\n",
              " 'this game boring and way too easy and way excessively ho hum. its a walking simulator where formerly you reach a certain level its all one hit kill still against players an bosses while also be on the heavy trouble',\n",
              " 'no:<',\n",
              " 'Whats with price stiletto heel lol',\n",
              " 'Capped 60FPS and No Ultrawide support: (',\n",
              " 'Fia died',\n",
              " 'Awesome secret plan sustain back by a poor larboard to pc. Stammer and meantime at the bad of times and should suffer been fixed by now.',\n",
              " \"I wish thither be a mixed option. I don ' t call up the plot is bad, merely I unquestionably opt the smaller to a greater extent condensed metroidvania character level design in Fromsoftwares previous games.\",\n",
              " 'game sux',\n",
              " 'amk bu oyunun',\n",
              " 'most overrated plot in being',\n",
              " 'not equally expert as ubi - - flaccid open worlds. ..',\n",
              " 'if youve never played a FROM game before you might like this one! if you are a longsighted time fan of dark souls expecting a new and exciting experience however. .. this game will not be satisfying. it has very few differences even in plot and tone with any of FROMs other games. i know people wanna believe the repeating themes serve some kind of purpose. it seems more like cope to me. even if it does mean something, its not any less played the fuck out! at this point its painfully formulaic. and i dont mean in the souls like genre. its for the most part the same team making the same game over and over. do the games keep taking place in empty post disaster worlds because its a stylistic choice or is it because its easy to design? after 7 different titles im thinking its the ladder. its gameplay is dark souls. no differences whatsoever. bloodborne was unique. sekiro was unique. this has almost no improvements compared to dark souls. instead of improving anything they decided to bloat the game with meaningless and lazily designed features. crafting is practically unused because the drop rates for ANYTHING is egregious! !! The Great runes are largely meaningless and their effects are abysmal for the effort of finding and climbing the right tower. 10% more max hp is as good as it gets. it feels like they quickly jammed this stuff in just to advertise it as a feature instead of actually making it a feature. the open world is the emptiest and loneliest world i have ever been in. NOTHING HAPPENS! EVER! it rains and fucks over your fire damage occasionally. THATS IT! ! the only things of any note are all right in the beginning. the giant dropping from the arch overhead. agheal swooping down. the carian rain of arrows. all the stuff youve already seen in trailers. it is somehow an open world game where every single run is the exact same. nothing different happens. the npcs are cardboard. they never move. and if they do its between resting at graces. they will say everything in cringy and cryptic ways and basically tell you to go somewhere without any directions. in later patches there is a marker automatically placed where you need to go. was it really so hard for blaidd to say WHERE the comet hit? i wouldve settled for simply \" where we first met. \" but nah. theres now an unmarked hole somewhere. go find it. i wouldnt complain about getting lost if the world were at all interesting. this game feels like im a dumb little kid again playing a roblox fan plot on an empty server. the enemies are pathetic and easy. its not even worth killing for how little runes anything drops besides bosses. its so boring. which reminds me. this biz of the year game has the Worst multiplayer in existence. how hard was it to do what the seamless co op mod does? if you want to progress the game with a friend you have to beat each area per player. while getting invaded by another player. why is there no option to AT LEAST prevent invasions? i dont care about this games roblox tier pvp leave me alone! if i could at least complete one area with another player without getting harassed by a pack of ego maniacal neckbeards playing dress up. this review whould be a touch more positive. but dear christ win or lose, you and your friends are getting hatemail. oh you thought league of legends was toxic and un fun? just wait till you make the mistake of winning against an invader. nothing is more persistant than a PvPer with a hurt ego. youll never see or hear the last of them till they invade again and win or have threatened and called you every insult and slur in existance. holy shit its bad. balance is downright nonsense. i had so much fun actually playing sorcerer for once. and then my whole world crumbled when i found the glintstone kris. .. the sorcery Comet is the single strongest projectile in the game fully charged it costs 24 fp to cast. glint stone kris is a dagger that just fires a STRONGER FASTER VERSION of Comet for 10 fucking fp! ?! ? that pretty much destroys any reason to use spells outside of specific uses. this isnt the only case of weapons arts blowing spells out of the game. lightning incantations are pretty good! but out damaged by weapon art versions of spells. its INSANITY how bad this design choice is. the only reason to use them is because it looks cool. thats IT! i try so hard finding a good fun way to be proud of a run. thats a problem with this games erratic difficulty. i wont argue that the game is to hard or easy because its neither. IT IS BROKEN! bosses are either impossible or trivial depending on your playstyle for instance. if your plan is to do the classic swing swing damage strat. you are sure to beleive that this game is hard. thats because boss IA is reading your inputs and even your queued inputs including rolling and flasks. even worse, bosses are able to cancel attacks or animations with eachother. this combination of mechanics basically creates bosses who truly NEVER STOP ATTACKING. if you keep rolling the boss will keep trying to quickly punish it by starting a new attack string. if you dodge that he will just do it againagain until it lands a hit thus actually letting it continue its intended attack string. every death in this game can be summed up with \" oh i thought they were done. \" some bosses are able to cancel their own hitstun! yeah thats insanely broken! theres another weird interaction where sometimes if you poise break a boss while its attacking it will suddenly be doing the attack when they recover. for instance. falling star beasts charge can be interupted by hitting it in the head. letting you get some hits in. just when it gets up it will suddenly resume the charge full speed with no warnings. commander niall has a massive Aoe attack that he has to charge up first. if you break his stance during the charge up and reposte him. after he gets back up he will suddenly be doing his massive Aoe with you stood right adjacent to him. there is no way this is intended game design! theres humiliated shit like this but also the player can just use any straight sword and spam square off the entire game. AND THAT WORKS! margit will have his poise broken after 2 uses. this game is such a fuckin mess! !! AND IT GOT GAME OF THE YEAR wtf! ? this only scratches the surface of shit thats wrong. this game is carried so hard by everyone \\' s hype. its really just a $ 60 roblox experience with somehow worse PvP. for the love of god start criticizing games again people! just because miyazaki and martin made it doesnt mean its automatically good. no game should be exempt from actual criticism in the way this game has been for the last year. like seriously guys. fanboys praise this game for shit done in the 90s. wowies it took over 10 years to program horses. is this just a big joke im not a part of or something?',\n",
              " 'information technology will haunt you dreams',\n",
              " '7 / 10 play ds3 instead. You testament be killed by stuns more than anything in this secret plan.',\n",
              " 'wut',\n",
              " 'be assay to recreate just too glitchy fir my crappy pc',\n",
              " 'My gripes with this game run deep. Start out with the console style gaming. I play PC for a reason. .. keyboard and mouse primarily. Being forced to play where a controller design is intended is very annoying to me. The game world is vast, and beautiful, and fun to explore. Enemies look interesting. The atmosphere is great. Those are the only pluses I would attribute to Elden Ring. Combat ruins the game however, in my opinion. The camera control is lousy and locked targets will switch mid - combat to targets you are not even engaged with. It is always fun fighting an enemy directly in front of you and having the camera rotate 180 degrees because it randomly locks some enemy behind you. At that point, you make up still facing and fighting the front enemy but with the camera spinning, missing all your attacks, and not even knowing which manner is upward or down after the vertigo the game puts you through. Every fight is painful and it is not because of how the enemy fights most of the time, but rather, it is because of how lousy the controls are with keyboard and mouse. I also believe in fair combat for games, with a decent AI. Elden Ring is anything but this. Once you start going into boss fights, all they do is stay on you with either their 10x speed movement, or jump onto you from the other side of the arena. Your character is very sluggish in comparison. Not only is enemy boss movement at super speed, merely they do not have status bars themselves, other than HP, so they spam boss abilities. To me, I find information technology to be a cheaty and lousy AI. It \\' s non really about tactics but more about learning the rotations and timings. The AI is just not good. A lot of people say \" git gud \" but I think that should be directed at these companies for not developing any kind of decent AI in these games and just going with the same old worn - out model every single time. This game feels like a step backwards. Rather of meaningful combat, this game is all about timing that dodge roll. I find it sad that games have not progressed beyond parkour and the dodge roll. >. >',\n",
              " 'WORST biz EVER DO NOT PLAY UNLESS YOU WANT TO PLAY FOR OVER 50 hours just to welcome a mistake than makes you lose $ 110 buying the biz.',\n",
              " \"eleven hours in. when is it supposed to catch fun? i know that the collection of this franchise is that the games are absolutely brutal towards the player, but at a certain point it just sustain straight up unfair. grinding for 10 hours just to beat the first story boss feels really demotivating, since that puts a thought in my thinker that i ' m going to have to do the same matter for all of the other bosses, or sit on my ass trying to beat it for v hours. the only bosses that should take that long are ones that are only there if the player wants that challenge. and the open world aspect is really overwhelming. its nigh impossible to tell where some dungeons, items and quests are without having to look at a guide. and even then, you don ' t yet know what you ' re supposed to be looking for half of the time.\",\n",
              " 'ive play through the game over 6 times now, i have 1200 60 minutes i cant get back. atomic number 53 love fromsoftware but these bosses get laid suck. i spend most of my time now messing around next to a site of goodwill only trying differnt armor and ashes. it was fun in the first half then went downhill rapidly. im happy fromsoft get a goty, but it shouldnt of been from this. this was the game my friends associated me with, you shouldve seen their faces when i told them not to buy it. the feeling of keeping my friends clear of this bullshit felt good. they watched me fight maliketh and unanimously swore off fromsoft. i wont be return, thanks friend hope this helps.',\n",
              " \"Though I enjoy the gameplay and the discovery of the experience on that point are far too many times where the game presents ' options ' that are unclear and purposefully obtuse. There are also several times where the game logic surrounding NPCs, death, and mechanical formula are inconsistent. Lastly, I dislike how many character stories are not explained, though much lore be obliterate behind duologue and items there are outcomes that are unexplained and even wikis seem to be lost as to why the outcome occurs. After multiple playthrus and 200hrs this has left a poor taste in my mouth.\",\n",
              " \"First time to not advocate a From Software Game and even though I had my fair share of fun in it I cannot simply give it a thumbs up. Elden Ring has proved itself to be a huge disappointment and in many areas still a shitshow, especially from the PVP side of things. here is a list of things that don ' t sit well with me: - too much unbalanced and broken stuff geared towards the casual players that can use that to insta - kill without any skill needed for execution. All thanks to the needy - greedy content creators on youtube the game is at all times infested by users of the same OP shit. - Implementing jumping along with jumping attacks was a huge mistake for pvp. They are way too safe with added i - frames, deal too much damage and don ’ t price much stamina. Especially terrible on dual curved sword users with bleed that hit 4 times in one jump. - Fighting system resolves around jump attacks, weapon art spam and whatever else broken mechanics the game currently has to offer to make a casual feel like a god without any skill requirement whatsoever. A nightmare when facing ganks. - Huge lack of variety in movesets between weapons. - Lots of movesets part are redundant. It was so nice to see additional moves and maneuvers, but you quickly notice after a while that a lot of them are pointless. I also really missed the heavy chain continuity pattern after a roll from DS3 in which you would actually do the second attack right away and not the first that you would do from neutral. - Invasions are incredibly host favored with them having all their flasks and on top of that at least one or two friends with them. Single hosts can only be invaded if they specifically> invite <invaders. .. - _ - - Invading near / far is good, but getting back your runes is a pull, especially since the marker on the map is easily overseeable. - Implementing sneaking was nice, but being able to spam it and hence teabag other people only promotes toxicity (some people are even so lazy that they use it for bowing smh ). - Shallow implementation. You can just run past everything. Nothing ever really stands in your way except very few gate keeper bosses. There is no reason to actually fight the creatures around you - none whatsoever. The world is empty and shallow. Exploring solitary sites seldomly bears anything as reward. - Late game areas are poorly designed and don ' t provide anything really worthwhile for exploring. - ng + and beyond is pointless unless you need a specific item that you missed in a quest or that you want to have a second time. - bosses represent ridiculously easy when fighting in a group. Since you can also summon spirits you can make it also incredibly easy offline. - Boss design is nowhere near DS3 level (which were challenging, fun and had incredible soundtrack ). Some bosses are lackluster and bring in unfair mechanics to raise the difficulty artificially. The final bosses are all terrible in that regard. Beatable sure, but no fun fight really. Other bosses are usually just copy pasta variants of what you have fought before. There are actually only quite a few unique bosses. The OSTs of the bosses is not really noteworthy. Radagon ’ s fight theme is the only memorable and great piece (as it is basically the main theme ). - Terrible camera that will get you killed. For instance when close to walls or when facing giant / gigantic foes (looking at you fire giant!) - Most players get items duped from the getgo which destroys any early game natural balances the game originally had. Nothing has been done on that front – ever so. - High level players with later game equipment are often summoned and act like guard dog on steroids. Downleveling does not work well in this game at all. Damage - wise they melt anything in their way. GG From Soft. .. - when you die to a night opponent you have to set the day time to night everytime AND sit at the site of grace again to them spawn again. So much wasted time. - Overall unfortunately the replayability of this game is scarce. Too much copy pasta content (lots of sekiro stuff including OSTs to a fault ), too many lackluster obstacles, too few actual rewards that give incentive to proceed to ng + This is the first From Software Game I am not sure whether or not I actually would want to buy the DLC if released.\",\n",
              " 'Frame rate free fall are miserable still on in high spirits end system. Testament hold off for an update before Iodin try to take on a secret plan this hard. Asked for refund and denied.',\n",
              " 'Horrifyingly bad. Abominable story, awful combat system, awful foe and awful weapon system. My least favourite plot of all clock time',\n",
              " 'The secret plan refuses to open, Atomic number 53 bear been trying for 2 hours reinstall the game and nothing works. Every metre I open up it my screen turns black and information technology crash.',\n",
              " 'One am the elden lord fuck uou atomic number 53 estimable ranaldi!',\n",
              " 'Meh Bosses.',\n",
              " \"I have played this game for about 150 hours and still am just trying to envision out how to make it work on mouse and keyboard. This game is only for controller players. Even if you play on controller, you bequeath stock still be locked at 60 fps. The graphics may look good on console, but if you close at anything the immersion factor will go out the window. Wherefore is there platforming in a game where my character dodge rolls every time I sprint? Why is there platforming in a game with the worst movement mechanics in all of history? ?? ? Oh no I walked to close to a wall and my camera had a seizure and made me jump off the edge for the 1000th time. This definitely feels like skyrim in the aspect of the modding community made the game rather than the actual named developers (With all the cheesing of the bosses and other glitches ). If you are on mouse and keyboard and find a way to make it non change targets with moving the mouse, please for the love of God let me know. The biggest challenge in this game isn ' t the enemies you face, it is battling the clunky mechanics the game forces on you. That enemy went behind a tree so we gonna lock you off of him and make u face some random direction. Oh you wanna lock back onto him? Boom, another random direction of the camera and not the direction of the enemy by any means. I could croak on and on, but there are just some examples.\",\n",
              " 'the annoying to satisfy / play ratio be about 70 / 30. wordy.',\n",
              " \"If your into PAIN, microcomputer wreck, keybind microcomputer incubus, computer graphic glitches and merely all around misery, then by all mean grease one's palms this POS. ...\",\n",
              " 'sekiro better',\n",
              " 'its aight',\n",
              " \"This is an overall respectable game, nice game play, great visuals, interesting progression system. I like the lack of being spoon - fed objectives and quest markers. But. . information technology ' s just bore. Once you ' ve played it for an hour, you ' ve basically played the hale biz. Everything else is but a derivation on that first bit. Doesn ' t really make you want to come back to it.\",\n",
              " 'margit op',\n",
              " 'Bruh every prompt on covert basically alt - tabs me, leave the shiner outside of the plot. No secret plan without mod',\n",
              " \"Elden Ring is a fantastic game for the right personality. If you are easily absorbed into your activities, then the first fifty hours of this game volition feel like a dream. The next fifty hours will feel like your career is now being a Tarnished. After the following 50 hours, you leave realize simply how early you are in the game with 150 hours played. At this point, you have discarded the ideals of family, friends, obligations, and are pursuing all activities to make you into the true Elden Noble. Alas, the game has now become life, and you are a shell of your quondam ego. Its for these reasons that I cant enjoy this game, and that i can ' t stop enjoying playing this game no matter what occurs in life. Thus, I am hanging up the controler for good, and will get my dose of dopamine in other productive means.\",\n",
              " \"1 honestly obtain the dominance to be rather janky, the camera represent clunky, the graphics are surprisingly disappointing. It sorting of just feels dull somehow, I don ' t know. Just my unbiased opinion function into the game knowing nothing early than it is well like.\",\n",
              " 'Biz sucks',\n",
              " 'control exist too shaky on mkb to vindicate purchasing this game. if they want people to spend 60 $ on their form of address, perhaps they should spend the twenty min required to actually list the mkb clit. ..',\n",
              " 'This is honestly the worst Soulsborne game. The biggest problem is the bosses. If you play without spirits, you often have to dodge the boss for 20 - 30 seconds before you finally get an opportunity to get a hit in and go back to dodging for 30 seconds. The bosses miss a serious back and forth aspect, and that makes the fights very unsatisfying. This is without mentioning that bosses will randomly add attacks to the end of combo strings that seem \" safe. \" Thus, the fight basically requires rote memorization through trial and error to understand which boss attacks are truly \" safe \" to respond to with an attack. If you act with spirits, the bosses become extremely easy and you essentially just abuse the enemy ai flaws. For a series known for its bosses, this biz has very few fun boss fights. The next biggest problem is the open world. While the worldly concern is somewhat fun to explore in your first playthrough, the loot often feels spread way too thin compared to past games because unlike past soulsborne games, Elden Ring is an open world game. You often find crap that is irrelevant to your build waiting to find something that may finally get you to change weapons / armor / spells. And in the end, the open world. makes replay a complete slog. The best part of the game end improving being the legacy dungeons that aren \\' t used enough. Overall, From Soft finally lost the ball on this one. I would not recommend the game over any other soulsborne plot.',\n",
              " 'Soooo finis to be descent. They graphics are pretty good. Large layout with quite a little to discover BUT the control and motion of the prayers are probably to worst I have seen in a game. You have forced unnatural movements that allow for bad play and fighting. I even tried every character in the game to see if one was descent to play with. x / ten regret this expensive purchase.',\n",
              " \"I bought this game when it first came out and information technology was awesome. I took quite a long break from it, and as well upgraded my computer quite a bit. .. but now that I ' ve redownloaded the biz and started playing again, my FPS has dropped significantly and I ' m experiencing stuttering that I didn ' t have before. My computer has only gotten much faster than the last build, so there ' s no reason for this other than update that have occurred in the interim. Give the sack ' t recommend a game that you can ' t play without frame chug on an i5 - 13600k and an RTX 3070 ti, both overclocked (conservatively and cooled appropriately ). SSD ' s, 32Gb RAM. .. .. there ' s no reason for this.\",\n",
              " 'it go crashed a looooot',\n",
              " \"I ' five hundred instead clear my toilet\",\n",
              " 'Elden Ring is one of, if not the most overrated and overhyped games I have ever played. This isn \\' t a \" skill issue \" and I don \\' t need to \" get good \". Pinning blame on the players is a way that I \\' ve seen Elden Ring fanboys obfuscate from actual problems the game has. Compared to nearly every other From Software game except maybe Demons Souls or Dark Souls 2, Elden Ring is outshone in nearly every conceivable way. The combat is just unsatisfying, the npcs are some of the worst in the series, and the open earth aspect just does not work in the context of a souls - like game. The visual design in this game in general, except for maybe a few specific examples, is just unlikable in a way that makes areas not as interesting as previous games. Elden Ring has discrepant design philosophies which make the game feel unnecessarily frustrating at times. The game is filled with gank fights and unnecessary annoyances. A distant ledge that looks to be part of a wall could lead to a secret or may be blocked by an invisible wall that causes you to fall to your death. The game feels like it was made by people who had no communication with each other. The game also suffers from copy and paste, cookie cutter, pre - fabbed dungeons which comprise of nearly all of the games side content. In these dungeons you may find an interesting boss, but it most certainly also appears in at least 3 other dungeons and the reward leave likely be not worth the effort you put into the dungeon. All of this could be excused, and I could accept this game as just being a subpar slip into From \\' s library, if not for the atrocious optimization that still hasn \\' t been fixed over a year after release. It is honestly some of the worst I have seen coming from a triple A studio in recent years. If anyone tells you that Elden Ring is their favorite soulsbourne game, either they haven \\' t played many soulsbourne games, or they \\' ve see something in the game that I just haven \\' t. If you are looking to see if this game is worth buying or not, save yourself $ 20 and buy Dark Souls Remastered instead.',\n",
              " \"awful multiplayer system, take in to use token to play together and the boniface is the lone one that can do or complete anything to incude talking to npc ' s. by far the worst as a solo game maybe its good but iodin did non buy it for that, i got it to play with friends and thats a flop\",\n",
              " 'rattling fun biz dont play it (･ ω ･) bacillus',\n",
              " 'cannot sexual activity the maiden',\n",
              " 'Did not give up any experience that was enjoyable',\n",
              " 'لعبه جميله',\n",
              " 'seat i give this production please, thank you',\n",
              " \"A game that could have be. One of the greatest disappointments I ' ve played recently. It ' s a fine game 7 / 10 but it lack any development of foundation mechanics and is terribly unbalanced. Too farsighted and as well bountiful for its own goodness.\",\n",
              " 'Malenia',\n",
              " 'It is not bad, only after encounter Dark Souls, this is all the same and even come not feel better than previous ones. Knob are unbeatable when non playing coop. I uninstalled this plot. It is tire to me.',\n",
              " 'much uncollectible',\n",
              " 'Notwithstanding stuttering like nothing else. Kill the fighting completely',\n",
              " 'arrant crap!',\n",
              " 'pawl shit',\n",
              " 'dumb game and forged',\n",
              " \"I ' d erotic love to play more, but I can ' t recommend it all the same because I ' m one of the PC players that is experiencing constant, annoying slow down / speed up stuttering, and to me it is maddening. I ' ve played gobs of games, including recent graphics - intensive game, and don ' t have any problems with any of them (so I don ' thymine really believe it ' s a problem with my computer ). Anyways, I ' ve tried every solution I can find to no avail - - to the point where I ' ve decided Iodine ' ll just wait to see if there ' s ever a patch, etc. Anyways, the game world is captivating and real fun to explore. I hope I get the chance to experience it with the buttery - smooth good I so deeply deserve. : )\",\n",
              " 'Simply gross out musical accompaniment Dualsense accountant. The vibration still does non make for. For one of the gravid titles, please just devote i hour into fixing this. Tiring and frustrating.',\n",
              " \"- can ' t play 2 min dialect without the game crash - capped at threescore federal protective service\",\n",
              " 'my original review of this game was negative it still is mostly is negative for early game but first basically everything about the games Graphics & Audio are outstanding like most AAA titles but where we fall flat is game free rein and grind theirs SO MUCH GRIND and game play is a lot of being perfect theirs no room for you to make a mistake shit theirs basically no room to even hit when you do everything perfectly as you get latter into the game aka almost all the way threw it it starts getting better but it still is do everything perfect and get i hit off before needing to doge an entire 10 hit combo just for them to non let you attack after this game thrives off of multiplayer and having a tanky overlevled friend help you out by drawing agro like i said games worth but exclusively if you REALLY injoy the series of darksouls like games i would never recomend this game to a person of a more casual status even if they were super competive usuly if your considering getting eldenring and its your first soulslike maybe consider darksouls 3',\n",
              " '60fps on title screen 15fps ingame 👍',\n",
              " \"Very disappointing. Clear lack of purpose of what ' atomic number 16 going on, controls non visceral, ineffective to pause game. Steep learning curve, unsure of what the grapheme is even supposed to be doing in the game. Lack of story.\",\n",
              " 'game got game of the year for no reason information technology sucks recycled enemies the whole time was fun for maybe an hour then 1 had basically seen all the enemies n bosses. No power point in playing the rest they just recycle every single enemy and boss. Plus most of the fights are straight boring just have the boss spamming the same move ended n over doing the same voice lines over n over. Wasted way to much time of my life hop it would get better just to see why it won game of the year but guess what it never got better. Never got fun. never left limgrave basically',\n",
              " \"For such an amazingly breathtaking game, it sucks ass. the fall equipment casualty and mob damage are so inconsistent you would think this game was made 15 twelvemonth ago if it werent for the graphics. FromSoft is notorious for making an amazing game, then not fixing anything important. You wanna use your magical, gravity defying horse to jump down 5 feet? Death awaits you, you wanna jump down a 100ft drop with no magical double jump horse? You ' ll prob live bc fuck it, if you like other fromsoft games I would get it but holy hell be ready to suffer your sanity over the about mind - boggle dumb shit.\",\n",
              " \"This game is a massive slog to play, boring & uninteresting especially towards the end biz which has to be one of the worst things I ' ve ever experienced in a game. Every mechanic feels like you ' re slogging through liquid shit, you never make out enough scathe ever, enemies are exactly the same battle image this fuck huge knight? ye expect to battle him fifty times throughout the game because he ' s a idly copy pasted bastard like every single thing in this fucking game. Every weapon feels the same, armor does next to nothing, enemies just develop increased hitpoints & poise nothing else because fuck you baka gaijin. The reason this garbage won GOTY is because the bar was so fucking down in the mouth it didn ' t exist. If you must play this game buy it once it has the definitive variant with all the DLC ' s & patches because as it stands it isn ' t a complete game it ' s a half - ass rushed game made in less than a year like Dark Souls 3 and my goodness it shows but it ' s even more ridiculous appealing to people who if you invited to your house would break all your diddlyshit for fun because they are that asinine.\",\n",
              " 'Bloodborne for PC when?',\n",
              " 'Biz lacks guidance and a middle ground between being too analog / easy and needing XX hr to learn the moveset of a bos. I spend more time googling what to search because you dont learn enough from your random deaths besides movesets.',\n",
              " 'Great clear world, infrangible trash gaffer and enemy design. If you enjoyed any previous FromSoft game for their expert conception of enemies and areas, DO NOT play this game. This game is clear evidence that whoever at FromSoft world health organization designs enemies is running out of ideas and is resorting to cheap design and unfair gank fights. Play any of the Dark Souls game before this trash.',\n",
              " 'its just not for maine its really directionless',\n",
              " 'If you hate your biography and your microcomputer then play this game',\n",
              " 'Badness game',\n",
              " \"Couldn ' liothyronine have rough sex with Alexander, Blaidd or Rykard.\",\n",
              " 'diddly squat',\n",
              " 'This game is an exemple of what internet 🍆 rider throne do for a game, i mean this game is just Dark Mortal 4: - Boring world (only caelid follow some what cool i guess) - Boring dungeon with trash boss who are either bosses that you already beat or normal enemies but with a bigger wellness bar - Same boring loop gameplay from 2009 (R1 spam, 8 frame bowl, estus ingestion) - Completly inferior to all from software souls game in terms of OST, i don \\' t remember a song except the main theme - An aboslute folderol map, there \\' s no wonder why it \\' s the first thing they try to patch even tho the FS cult try to defend this stupidity - A goddamn PowerPoint at the start to explain the \" lore \" of the game like. .. really? - Reuse of assets from their older game, other game don \\' t escape critiscim for it and ER was supposed to be a new game not another souls - Anoying fans, you \\' re not what you think are from thinking this game is revolutionary (it \\' s not) From Software is not a good video game developer, they just have a LOT of stupid fans.',\n",
              " \"Scarcely non for maine, seems fun but 1 ' m not a rooter\",\n",
              " 'Imagine lock your game at 60fps and 60hz, even in 2022 when this was release. LUL',\n",
              " \"I find this game over hyped, for me i find this plot bore i do not see the hype in this game as others see it. i personally don ' t like it as there are games that are just or better like The Witcher 3 as it actually accept a interesting tale line is really enjoyable, making me want to play it even when the storyline has finished, not to mention better graphics from a older game. Elden ring just make out not have the vibration for me.\",\n",
              " \"The game has an interesting story, graphics and gameplay, but the fights are get it on ridiculous. As a Dark Souls veteran I thought we were passed this fast paced Sekiro red cent. I hit them twice if Atomic number 53 ' m lucky so set out my carapace ripped away with unmatchable shot and kick by the back of the horse. Fucking ridiculous difficulty.\",\n",
              " 'wtf game still has basilisk',\n",
              " 'L secret plan ngl',\n",
              " 'best game ive always roleplay in my life',\n",
              " 'very unfit game',\n",
              " 'im simply ass tbh',\n",
              " 'no annulus',\n",
              " 'defective combat design in the serial',\n",
              " \"Really assume ' t understand why is this game thence special? Story is, well not existing. Gameplay represent insistent. And you tush simply non enjoy the biz. It ' s all about finding some patterns among the bosses and exploit that. ..\",\n",
              " 'get called bitchless',\n",
              " 'No Ultra Wide Support? It will let you take 3440x1440 full screen information technology but it sure as heck isnt supported because information technology but crops my game down to a 16: niner',\n",
              " 'did the entire ranni questline and it didnt let me fuck her, horrific plot DO NOT RECCOMEND',\n",
              " 'crappiest psyche game after ds2',\n",
              " 'non hard enough',\n",
              " 'motherfucker',\n",
              " 'TL; DR: Decent game, but nothing groundbreaking or innovative in Soulsformula nor in Openworld games really to warrant goty. Just to make clear, I do like and enjoy FromSoftware \\' s works. So all respect for Miyazaki and his team. And I like the secret plan, even though to me it is more or less just Dark Souls 4. Will most likely still play more and finish ER at somepoint. But since there be no \" Mixed \" review I \\' ll afford a thumbs down. If you liked previous soulsgames and are fan of the genre, then most likely you \\' ll find something to enjoy from here too. If you are new to soulslikes, then this might not be your cup of tea. (To add that I wasn \\' t really on the hype train waiting for ER, was more less \" might as well buy for shits and giggles \" and for me it has paid itself back.) FS has proven time and time again that they can make great worlds with interesting areas, but on Elden Ring, I personally feel that some of the magic was lost due to the shift of open world. I think that From is more strong when building interconnected labyrinths like the ones in Bloodborne and Dark Souls 1 to compare. In ER they \\' ve managed to do this the Legacy set pieces very nicely. They are straight up comparable to previous works of FS. The world is pretty, but pretty alone doesn \\' t make it good. Even with all the vistas and PoI \\' s the world at times feels empty and recycled (Though recycling in ER is a problem in itself at times) and after a while you won \\' t be spending that much time on the map itself anymore since fast travel makes travelling on Torrent obsolete. I think that ER provides a fair challenge when compared to other soulsborne games, the difficulty is on par and the option of being able to do something else when facing a wall is a nice addition even though you \\' ve always had the ability to go back and grind (if one chooses so) unless you wanted to throw yourself against that wall till it breaks.',\n",
              " \"I ' ve never think Unity would miss Dark Soul 2.\",\n",
              " 'I have been playing FROM Software games since DS1 came out on the 360. I have tried to like these games over and over. I have played DS1 from many different angles and many different classes, but have never seen the appeal. To me, playing these games just feels like training yourself to be really good at executing a half - baked feedback loop process with extremely broken tools, and Elden Ring is no exception. Not only does this game exemplify everything wrong with the design of FROM games, but it doesn \\' t even do it in an original or groundbreaking way like lots of people would have you believe. The combat is almost exactly like DS1, and the bosses are an odd loan blend of styles and presentation from Soul, Bloodborne, and Sekiro. The open world is lifeless and dull, and the game dumps needlessly obtuse exposition with no explanation of other parts of the lore or why you as the player should care. It \\' s just \" go on a great quest, oh chosen Undead! \" Yeah, I haven \\' t seen that anywhere else. .. except it \\' s the premise for every FROM game since Dark Souls. Truly I am absolutely baffled as to how this game won any awards, much less Game of the Year. If you want a video game that you can install, have fun with, and put down until you wanna play again, this is NOT the game for you. If you like games where you have to sink an extreme amount of time and research into the world \\' s lore, the broken combat system, and the general obtuse and bloated design of the game in hopes that you MIGHT be capable of squeezing out even the smallest crumbs of fun from it, then be my guest here. Hopefully I can at least get a refund so I can say I spent my money on a game I will actually play instead of a game that I boot up, play for 5 minutes, be reminded why I didn \\' t buy at launch, die due to broken hit detection, and turn off again for 3 or 4 more weeks. Maybe I \\' m old school, but I think video games should be fun right out of the box. Part of the reason I love PC gaming specifically is because there is so much variety to be had in terms of game experiences, whether in terms of \" pick up and play \" or \" big time sink \" type games like this one. And that is definitely not to say that all games that require you to put time and research into them are bad; some of my favorite games are Stalker, Silent Hill, and Disco Elysian fields, all games that require you to retain and put effort into the world and just being in the game. But this game, to me, epitomizes the soulless AAA product machine that gaming has become. \" Explore the open world! \" Why? Is there anything worth seeing there? Is there a good story? Or does everything in this game ultimately serve as but fluff in between hours of grinding that you \\' re expected to just enjoy without any clear motivation as to why you should be enjoying it? And even then, when the story DOES show up, it \\' s the exact same pseudo - verbose fake Tolkien crap FROM have been spoon - feeding their blood - loyal fans since Dark Souls. Seriously, if you want to waste your time \" getting gud \" at a broken ass game, at least do it with Bloodborne. You \\' d be doing yourself a service to save up the money to buy a PS4 just to buy Bloodborne over playing this one. I \\' m probably SOL on getting a refund, so if you see I have higher hours now than when I wrote this review, it is because I am simply trying to complete the game to get my money \\' s worth and uninstall it so I can go back to playing something else.',\n",
              " 'This game just isn ’ t made for me but If you \\' re a soul - gamer fanboy or a masochist, this game is juuuuust for you; This secret plan hide behind \" show don ’ t william tell \" / \" open - man \" / \" Soul game \" as an excuse for poor storytelling and no personality. Overall the game is tedious, boring and random, with brief conversations and minimum NPC interaction (even when you confront important characters ), just kill everything and get the loot. .. because everything desire to kill you. .. because. Quests are all over the place with no way of tracking and by the time you find another NPC or a hint you assume \\' t even remember what you were working towards and you don \\' t care. you can fight a boss or jump through hoops to complete an area just to get an item that is useless. main items are hidden away in places you overlooked with no good reason and no way of you fuck that. On the bright side. .. the game is visually beautiful and the models and combat mechanics are amaze.',\n",
              " 'Fearful end game',\n",
              " 'Cubic decimeter game',\n",
              " '112 min played comprise the time ane expend trying to get this shit game to unfold coz somthing dosent let it and i have tryed EVRYTHING and wont study ur suport is shit aswell tryed evrything there nothing works. .. i detest this biz sustem wohever piss this i need a refund i act evrything fine cuberpunk aswell this game no. ..',\n",
              " 'save corrupted, recede my 130 hours save right before [spoiler] ashen capital [/ spoiler] Equally much as i like it, i wont comprise relate the game always again. if you end improving buying it recollect to back up your files frequently.',\n",
              " 'spellcaster paradise',\n",
              " '\" multiplayer \" essentially mistaken advertising with this shit rear shit fix the online part of the plot and would comprise 20 / tenner',\n",
              " 'No ultrawide monitor livelihood.',\n",
              " 'i detest it',\n",
              " 'ehh sodium',\n",
              " 'speculative',\n",
              " \"Non at all what Atomic number 53 expected from the hoopla. This seems similar an unfinished game. The gameplay hasn ' t be properly comprise make to work with a keyboard and mouse.\",\n",
              " \"First off, let maine be clear by saying this game is absolutely phenomenal. If you have a really beefy computer. I can tell this is a game that would be one of my favorites of all fourth dimension, due to some areas being less demanding and running well. If you ' re like me and you have a computer only slightly above minimum requirements listed on steam, do not expect to have a good time. If there was a mixed option, I ' five hundred pick it, but there isn ' t so I can ' t. This plot barely runs at 720p on the lowest settings at an acceptable FPS, and often it will decide to stutter like crazy in some areas, many of those areas coming after you ' re likely to be eligible for a refund. There are many areas where the instant I walk into it my FPS dips below 10 and stays there, which makes the game run in slow motion. I have tried to the best of my ability to play through it, but I just can ' t in good faith recommend this to anyone on the fence about if their computer can handle it. I have non had performance nearly this bad in any other Fromsoft game. The minimum performance specs list below are a lie and in reality you want a computer much better than that for it to run acceptably. They really need to do better on these ports or at least list their specs more accurately. EDIT: I managed to get more reliable and acceptable performance by editing my registry to boost the game ' s CPU priority. This is still a negative review since you should not have to mess with your registry to change CPU priority. Lmao. After having beaten the game due to being able to not play in a world of slowed time, I can really say this game is incredible, though, so take this review as a recommendation if your computer is significantly better than minimum specs. That being said, I really hope PC ports of this quality aren ' t reoccurring trends for Fromsoft.\",\n",
              " 'Not worth the defeat. Devs are way too reliant on stun locking as \" difficulty \", enemies always scale to kill you in 2 - 3 attacks in each new zone and fundamentally cheat, i. e. attacks going through terrain / walls, attacks that have large arcs or invisible areas of effect that don \\' t require actual contact with your framework, crappy camera and targeting exploited with cheap one shot, attacks that can \\' t be blocked / parried, etc. . For all the people talking about how this game needs so much skill, they sure seem to drop the point where you don \\' t need skill, it \\' s 100% pattern recognition, and most of the videos you see about this game are meme builds or feat that avoid the combat the game is somehow praised for. So many assets are re - used that if you can clear the first zone, you \\' ll be set for 95% of the rest of the game. I \\' m so sick of fighting dragons I just roll my eyes when I see them now. And then there are bugs. Quest lines can break because you teleported into a place, some NPCs father \\' t appear because you * didn \\' t * teleport into a place, quests that don \\' t begin until you talk to a random NPC on the other side of a mathematical function with no indication they would know anything about it. Without the wiki you wouldn \\' t know even half of what \\' s in this game, and with it you just get frustrated by how half assed everything is. Quality of life is a completely foreign concept to these devs.',\n",
              " 'Elden pack',\n",
              " 'I \\' ve been playing HARD games since the Atari 2600, and did enjoy my time with Demon Soul and Dark Souls 1 / 2. (If you follow a walk - through, disregard my review as you might like the game, being told how to get OP at the start and cruise through the confusing sight that this game suggests you follow and go to completely random points that someone without a guide has no idea about. But, me, myself buy games to play and explore, I like to complete games myself which is the complete opposite of what Elden Ring REQUIRES) Elden ring is a joyless exercise in seeing how much you can take before just giving up. I \\' m not talking about the combat, I \\' m talking about the \\' apparent \\' GOLDEN PATH with misleads you into thinking that \\' s what you should be doing. In - fact, you \\' re better of riding your horse all around this depressing wasteland and collecting random items to make sure you don \\' t go to the first GOLDEN PATH area and just get 1 shot over and over. Even if you love Demon / Dark Souls, please I beg you, read some proper reviews and even look at the guides showing what a mess this game follow. This is worse than what we \\' d call a \" Nintendo Power Guide \" game back in the day. .. So much of this secret plan is just there to devastate your time, or outright f * * k you over, its not worth it. I \\' ll give one example; You come to a Castle that is a complete abstraction of what a castle is, makes no sense, and multiple pathes require leaps of faith, lead nowhere, or you have to jump frokm ledge to ledge to get to different parts, But you are getting through it thinking, its confusing as crap and you have no idea where you are and its been a while since a reset point (Lost Grace or some dumb crap ). You walk through a walled area, and you see a Knight you need to fight and know it \\' ll be difficult, but then you swing the camera around and hidden behind a purposely obscured bulwark is ANOTHER KNIGHT waiting to blast you in the dorsum. .. This is a Soul - less game, its designed to be a Youtuber / Steamer / Follow our guide game. .. Its not hard, its purposefully wasting your time.',\n",
              " '[ h1] daily [/ h1 ]',\n",
              " '1 wish its centennial state op and pvp comprise simplier. i cant find anyone around since information technology been a while that game came out there are non much players like it use to be.',\n",
              " 'This game has no sense of where to pass or what to come. You can either follow the provided information to a dead end or you wander into an area where you are not strong enough to fight anything. Just a general sentience of non merriment and being lost.',\n",
              " \"I don ' t recommend this game to casual players especially those who like to play with friends. Like all souls games, unless you have hundreds of hours to dedicate to get good at this game it will only frustrate casual histrion who only have a couple hours a week of gaming time because, you know. .. life. .. additionally, though there is a large amount of lure in the game it does a horrific job at telling the story, finding quest givers and littered with translation errors that makes the lure even harder to understand. script was written in japanese and translated to english. .. very poorly. even Youtube creators will comment how difficult piecing the story together equal. Furthermore, the game punishes you for playing multiplayer. the moment you enter or welcome a player to your game you are immediately open to invasions forcing you into unwanted pvp. LOTS of griefers in the starting area. don ' t play with friends if you ' re just a casual player or get the multiplayer mod (seemlesscoop) where you can play with friends and not deal with stupid unwanted pvp. some players are not into that and shouldn ' t be forced into it. the game has an arena for pvp, that should be enough. .. there is a play offline option but then you can ' t play co - op. Thank god for modders fixing bad developer decisions. games same these are always funner playing with friends, why the devs decided to punish you for it is something I will never understand. another issue is that if you ' ve never played a souls game before be prepared for extreme lack of instruction. there is a small tutorial that shows you how to swing your weapon and propel around. .. aside from that, good luck, figure it out, you ' re on your own. .. long story dead. although I bequeath continue playing the game I cannot in good conscious give this game a good review with all the poor development decisions made. ..\",\n",
              " 'Stunlock central',\n",
              " \"The premier features of this secret plan not only detract from but directly interfere with what lay down souls series games good. Fromsoft have barely introduce in 4 game and I ' d suggest you steer clear of the bad entry in the souls series. This is a phenomenal game if you thought Skyrim personify interesting. A sad step in the amiss direction.\",\n",
              " \"Difficult to recommend this game. I redact in maybe 30 hours and gave up. Wa not astir all that grinding. Hours of grinding just didn ' t seem to help oneself my stats or my skills. I ' m probably just good lol. After a spell, the grinding seemed wearisome and boring. Very immersive and beautiful open world, though.\",\n",
              " 'oil production',\n",
              " 'Disappointment of the year 2022',\n",
              " \"Game difficulty is set to lethal from the start which makes it hard and frustrating to learn, being one shot in the tutorial by a psuedo - boss at the end is saying something. The game ' s design is very unusual as it shows a level of focus on killing the player that I have not experienced in other games, something that is manifest with the very high death count I ' ve accrued. I quantify my appreciation for this game in comparing it to Witcher 3, a game I played up to the severe setting ' Death March ' and logged over 1000 hrs. In the first 30 minutes of Witcher 3 I found the game to be fun, interesting, and wishing to play more. In the first 30 minutes of Elden Closed chain I found myself asking how is it I avoid dying in combat to exact parry timers, advanced foe AI, and vague scaling in enemy strength. At this point I ' ve cleared the Tree Sentinel and three minor bosses in caves, in lieu of satisfaction of achievement it ' s just the relief of one less thing trying to chase me down and kill me. The encumbering system of relying on potions to recover and hoping to find the next respawn point mirrors the relief as treading water is a reality because everything respawns if you rest to refill the potions which can place a drag on progress. I am skeptical that I will finish the game with the trend it carries on with. I would say this game appeals to people who enjoy balancing on the edge of a knife, because it doesn ' t seem meant for the average gamer. I had wondered why there were rage videos on Youtube for the game, while I can ' t say a game can incline me to such a response now I can feel sympathy for their irritation.\",\n",
              " 'this live a memorable and intensely large game with a lot of the correct choices in assailable world gaming. .. and the interface is like a burnt corpse. Catch in on console unless you need to wreak offline with the anti tare disabled.',\n",
              " 'too promiscuous',\n",
              " \"Sekiro was fun af but the dark souls community hated it because it wasn ' t dark souls, so they removed everything that made Sekiro playfulness. If you care black souls you will probably similar this, not really my cup of tea leaf. ALSO HOLY SHIT FIGURE OUT HOW TO FUCKING PORT Axerophthol GAME ALREADY JESUS CHRIST\",\n",
              " 'this plot is unintelligent hard and there is no way. .. rudderless wondering with naught to accomplish',\n",
              " 'Atomic number 53 beat the game and One think its fair to enunciate that this bullshit is ass. I do non commend at all. Mid / x',\n",
              " \"The first entry into the game was simply unsurpassed - something new, open the world and go wherever you want. Only it quickly ended, when the bosses introduce themselves as bosses from Sekiro, in which sequence it takes place, a stuffy empty world, and I even then tried to ride a horse in search of something interesting. - 10 out of 10. This is dark soul impotence when you fight back opponents from other game series. Demon Souls, Bloodborne, Sekiro games will probably be iconic because they are unique. All the rest of the games are copy paste on the like place. And what kind of Tanimura - style bullshit: a bunch of mobs in one place, an unclear plot and dishonest bosses similar to Sekiro. While it may not be to blame for the bosses, there be many aspects I hate about Dark Souls 2. I guess I have a small question for the game: you didn ' t explain anything at the beginning and didn ' t give a normal introduction, but wherefore is the game called Elden ring if we are constantly going to the tree? Perhaps Elden Tree is a better name, although not pathetic.\",\n",
              " 'i could make spend this money on an o - ring',\n",
              " \"I walked about 1. 5km in game. Everything was going peachy, was picking flowers and enjoying the vistas. I decided to take the air down to the beach. It was beautiful, everything was peaceful and I felt secure. That ' s when I saw 2 goblins about ccc meters ahead. I hid behind a cliff wall, and discovered the entrance to a cave. I entered the cave. And never receive out live. Turns out it was a goblin cave, in trying to fend off 2 goblins on the beach I fell on an army of goblins in the cave. I was not ready for this.\",\n",
              " 'Grind your way through dozens of reskinned enemy to spongy bosses that one - shot killing you at a glance',\n",
              " 'ane dont urge this game because i beat it and its drilling now and i dont like information technology and then you shouldnt buy it',\n",
              " 'bad biz',\n",
              " \"As with any game with a dodge - roll, there ' s only two ways to make it difficult; adding jank or forcing the player to avoid multiple attacks at erst. Elden Ring goes for the former, adding showtime - up frames to your dodge roll and large, lingering hitboxes for enemy attacks. There ' s a large amount of recycled content, hitbox issues when using small weapons, and rather linear progression despite trying to be an open - world. My final issue is that because FromSoftware is always try to one - up the difficulty of the game, bosses end up having infinitely extendable combos, punishing you for trying to learn a boss and squeeze as many hits out as possible. This issue is but exacerbated by sure near - undodgeable attacks, such as Margit ' second / Morgott ' s triple swing, Godrick ' s wind gust start - up, and Radagon ' s elden shattering.\",\n",
              " 'Shitty anti rig system',\n",
              " 'i bed this plot',\n",
              " \"If your a PC gamer and expecting an easy to use UI Don ' t get this game. IMO this game was made for console and as such for game pad. I should be able to have a key binding for every action in game and yet this UI forces you to utilise a game launch area idea (Press X button to scroll to Y selection) It is an horrendously clunky at best Broken at worst when you can ' t select what you need in a single button press in the heat of a fight. If I could refund this console designed rubbish I would. Merely as such I leave this down vote review as a warning to all shiner and keyboard users.\",\n",
              " 'After all the hype and retrospect I recall I would like Elden Ring, but it just isnt for maine. Information technology seems as well account promiscuous while graphically amazing. Im just non into random hack and slash, and this what the game feels like',\n",
              " 'Elden Ring is the first first souls / souls - like game I have ever played and it does not leave a good impression on the genre and the team at From Software. For a game released in 2022 It is about 10 years behind what would be expected for this era of gaming. Firstly this game is capped at 60 fps which is a sheer let down, even new gen consoles can run at 120 + fps so they had literally no excuse. Even the PC community was capable to bushel this within a few days of release so information technology cant of been that hard for a AAA gaming studio. (using the communities fix removes all online features which is why I did not use it ). Furthermore the PC port for Elden Ring is terrible, controls are clunky and clearly designed for controllers, fortunately you can rebind right, well yes you can but From Software managed to fuck this up as well leaving PC actor with minimal option compared to other games. If any other AAA game was released in this state they would be ridiculed beyond belief by the community. In conclusion the technical aspects of this game are severely date for this generation of gaming and there is no one else to blame but the team at From Software and their incompetence to bring out a plot even mildly up to standard with the times.',\n",
              " \"If you are a keyboard + mouse gamer like Single represent, I very much serve NOT recommend this game. The controls are absolutely fricking atrocious! I literally cannot stress enough just how god damn terrible they are and From Software really did not even so much as * TRY * to make them reasonable. 1 got the game as a gift and I will attempt to finish playing done with it with the coop - mod, but if I had bought it with my own money, I would ' ve refund the game already.\",\n",
              " 'fuck this peace of shit game I got banned for what? IDK! 180 days, o.k. ok I wait one hundred eighty day Iodine log backwards in, hello hello welcome back 180 day ban to you once more. I uninstalled the game I deleted my save fuck this game.',\n",
              " 'merriment until ane got to the flame giant',\n",
              " \"BEAUTIFUL! The devs really outdid themselves in world crafting. Unfortunately, the devs also want you to have a terrible experience in exploring this amazing world. They stuffed ambush, miniskirt - boss fights, and all sorts of shenangians in every corner of the map. Whenever you feel like exploring, you just end up dying from unnecessary surprises. The devs want you to die every five minutes or so. Oh, look what a nice view over there, let ' s go check it out. Whoops, a crucible knight jumps out of nowhere and obliterates you. As soon as you die, the game respawns all enemies and you lose your progress. The bosses are ludicrously aggressive and don ' t play by the same rules as you do. I embody not whining because I couldn ' t beat them. Iodin destroyed every one of them, even the disgustingly crazy Goddess of Rot fight. Check my achievements if you don ' t believe me. Those fights aren ' metric ton enjoyable and you just want to get it over worth as soon as possible. The devs built such a beautiful world. Unfortunately, they only want you to have PTSD rather than an enjoyable experience.\",\n",
              " \"Single tried and Ane tried. I even habituate a couple of mods to try and get into this game. Unfortunately, this style of game, yet though it ' s a Game of the Year game I personally do not like jade - and - slash games but wanted to see what totally the squabble was about. I wish there was a way to gift a secret plan you own to someone else, as I would.\",\n",
              " 'I kill Kenny Haight stroke revive pls',\n",
              " 'Not fun to deal with this very much difficulty',\n",
              " 'Way to hard. The Tower Knight in Gold at the really beginning is so hard if this slog is what I am in for then no thank you. It worse then dark souls. 25 min in the game became so difficult information technology was not fun anymore. What be I suppose to kill sheep in this limited area until I can take this Gold Knight on? He kills me in three collision and One have to land at - least xxx to twoscore on him, how be that even fair this early in the game? !? !? I refunded this trash and you guys are nuts.',\n",
              " 'most disappointing game ive ever make for and i play anthem',\n",
              " 'why no gas',\n",
              " 'The parts where you explore the open mankind, the underground area, and all that be very fun, but its fill to the brim with misery mechanics and annoying boss. Play Wickedness Mortal 2 instead.',\n",
              " 'Game file profane after 64 60 minutes, and no backup made by the game (and only one save is allowed per fiber ).',\n",
              " 'biz sucks lowkey mother bored first few hours',\n",
              " 'Shitty story. Lousy game mechanics. No direction on what to do. Waste of time and money.',\n",
              " 'iodine would dally it if it supported ultra spacious screen such a waste',\n",
              " \"shit ' reciprocal ohm hardly not fun\",\n",
              " 'the command on keyboard are so flaming trash',\n",
              " 'didnt get achievement for terminate bad plot',\n",
              " 'i corruped salve + 108 hours and i finished melanie and elden animate being. im too casual for this bastard.',\n",
              " \"Played for around 20 hours on my maiden playthrough. Left the game for a little while for no particular reason. Came back to it and started a new character. Was having a genuinely great time. Then the game crashed my computer and upon restarting I was told that my save data was corrupted, with no way to pick up where I left off. I ' ve spent a few hours trying to find a fix with no success. I hope I can feel a way to fix it, make like I said, I was having a lot of fun. To have this taken away from me is very upsetting, and right today I ' m not willing to start a new character just to do the same flesh and get back to where Iodin was. I wish I could be giving this game a good review, but this issue is one I can ' t overlook.\",\n",
              " \"i don ' deoxythymidine monophosphate know what to execute?\",\n",
              " 'This plot make maine want to die',\n",
              " 'It is a cracking game but because of all those clash i prefer to not play it again. This error have almost one class and the fellowship make out not give a damn to fix it. I am not recommending this game, in peculiarly when you see that you have an remainder tier pc and you still have those crashes. Per total 1 kayoed of 10!',\n",
              " \"Kinda scarce seems like a huge waste of time and money. All you do is guide around and vote out stuff, with no real goals early than levelling up to kill bigger stuff. The game gives dead ZERO guidance on what to do and is just a complete bore. Feel like you ' re making progress? Along number a big guy with a big blade that kills you in 1 hit and you start totally the path from the beginning! What fun!\",\n",
              " \"Roll is poorly optimized and you get caught frequently mid roll. roll also takes a couple seconds before actually coming out. Ds3 is better still. I like the graphics and quest and world function and items of elden ring. but not the actual combat of bosses and such. horribly balanced. poorly optimized all of the work went into the graphics and map invention. Which is fair because people want to see a good looking game, but you should at some measure put more effort into the balancing of weapons and skills, etc. It makes a real big difference when you have a good game and good mechanics and a good game with bad mechanics. At least in ds3 when I stray I actually negate equipment casualty because of the invincibility frames actually existing. This game isn ' t challenging. Its forced difficulty. Don ' t let my negative review stop you though, it overall a good game. It just doesn ' t have a polished combat system like ds3, I enjoy the ds3 mechanics because I played a lot of ds3 on Xbox so this is my biased opinion.\",\n",
              " \"If you require to spiel multiplayer don ' tonne pain, Single didn ' t know Cobalt - op prescribe only fighting bosses, which I could return this piece of crap.\",\n",
              " \"Fire ' t launch game anymore. No anti - bromus secalinus forbiddance or anything. idk whats induce this\",\n",
              " 'game is bullshit honestly so bloody darn even after grinding for bang hours u grow one injection by a roll in the hay walking tree with herpes virus',\n",
              " 'Еле домучил. В душе добротная, но в действительности на каждую бочку мёда тут приходится ложна говна, что даже в такой пропорции даёт известный результат.',\n",
              " \"Don ' t quite understand the hype for this, the account micturate no mother wit and provides zero motivation to progress. For a narrative - free game of pattern recognition allow me to recommend Simon the canaanite, rather.\",\n",
              " 'Bore grind. It looks prissy and story seems interesting but it gets ho hum and repetetive in a patch.',\n",
              " 'Never swordplay',\n",
              " \"If you plan on buying this for personal computer, I don ' t advocate information technology. Runs rattling poorly unless you have a top - of - the - crinkle back PC.\",\n",
              " 'its oklahoma, feels a act outdated mechanically, would only purchase on braggy sale',\n",
              " 'Iodine want to hurt myself when I play this game',\n",
              " 'this secret plan constitute buggy as hell, capital at 60fps, and is madly inaccessible. dogshit.',\n",
              " \"Awesome plot, I ' m quite in love with it. I ' m editing this review later on into a proper one, simply I ' m leaving a negative follow up because Bandai is at it again trying to straight up rob people with their prices in south america. There ' s no excuse for these prices, since they can still load their pocket from people who can actually pay for them in first world countries, so I ' m putting negatives on every game that updates prices to unreasonable amounts in a market that actually allows for regionalization. And for all my south american friends out there who can ' t pay for it: Just play the Jack Sparrow version, don ' t let them get away with it; )\",\n",
              " 'KILL YOUSELVES FROMSOFT PUTAAS WWHY doh YOU HATE MAKING A FUN GGAME',\n",
              " \"It does work amazing, but for whatever reason it just crashing and crashing on maine after fixing my pc, and it start getting bad for me to not play it at all. I trust you can fix this issue and such. it ' s making the game unplayable for me. so yeah, it ' s scarcely non serious issue report, Ane only want the game to be fix\",\n",
              " \"111 hours and I ' m not recommending it. Good God. Pros: Level design, character design, environment art, music: all of these are top - tier and will keep you going throughout a very long journey. Cons: People confuse obfuscation with mystery and bad UX with challenge. To complete this game, you will have to consult a wiki. Not because it is hard (which it is) but because they do very little to tell you where your objectives are. Perhaps they expect you to endlessly wander around the world in hopes you bump into that NPC again. If they put them on the critical path line, maybe that would happen but it is often only in a random spot. That isn ' t serendipity; it ' s just being opaque. Maybe the nonsense story would make a bit of good sense if information was organized or if there was a basic quest tracker. I don ' t need a bunch of UI elements to tell me exactly where something is, precisely try and respect the player a little bit. Did you know that you essentially have to upgrade HP more than any other stat or you will be one - shotted by nearly everything in the game? Would be nice to know, especially since you can only recast your stats halfway - ish through with the game. Speaking of respecting the player, if you are going to be tough as nails, you have to be spotlessly bug free. Unfortunately, attacks go through solid objects at random and frame drops will eat your tiffin at the worst possible times. There ' s little joy when you eventually succeed; just relief that an annoying element is done. Luckily, you can often scramble bosses by tricking the AI or leveraging a bug in the environment so I guess two can play at that game. And who decided that this game where the character rightly feels like he is wearing forty pounds of armor should be a platformer? I ' m happy I roughed my way through it, but I can ' t see myself recommending it to anyone. It ' s an interesting game, but not what the incredibly toxic community exalts it as. It ' s a bleak game with a few truly exquisite moments outweighed by a preponderance of slog. And now I ' m finally free of it.\",\n",
              " \"No Jargon ' destroyt\",\n",
              " 'game is good only it makes me irrationally wild so im give it a thumbs dispirited in any event',\n",
              " \"This is the worst FromSoft game I have ever played, and the second worst Soulslike behind Salt and Sanctuary. I am so disappointed. Affect to an open world has absolutely killed all joy, all tension, all skill and hardship that defined the Souls series. I am completely exclusively in a bland, empty world with no noteworthy npcs, copy paste dungeons, the ability to completely invalidate entire sections of the map by accidentally leveling up (you know, playing the game) or just spawning a summon that dumpsters any boss. Open world worked in the Witcher because it had a story, and characters to do the world feel alive or at least give you a purpose for what you are doing. Not to mention that it looked and played far better with better quality of life inclusions. Riding a horse sucks, scanning the map so you don ' t miss important items or entire NPC questlines sucks. Foe design is a joke where they will literally have a seizure if you hit them too much. You can ' t compare shop items to ones equipped because this game was apparently designed in 1997. FromSoft tried to shove a square peg into a triangular hole and failed miserably. If the next game is this sloppy I don ' t see a future for FromSoft other than a dead society or an Activisionesque shit pusher.\",\n",
              " \"Was maidenless and couldn ' t try tongue only unhurt\",\n",
              " 'Worst gaem ever.',\n",
              " 'It \\' s an OK game but alas I found it EXTREMELY grindy. As a relative newbie to the souls games, having only played some early stages of Sekiro when visiting a friend, I didn \\' t quite know what to expect. The online debate didn \\' t miss me so the mantra of \" tough only fair \" was definitely familiar. Bulletpoints: - the combat is entertaining but unfortunately my reflexes aren \\' t as sharp as they used to be so I can \\' t say I found it particularly enjoyable. It ultimately relies way also much on grind to compensate for slower than average response times. While I understand the logic of git gud and I did invest a lot of time into the game in the end the mechanic of farming plebs for level up points un - engaging. Even if I ultimately bailed, the purist are right about no difficulty slider, and the amount of time i sunk into it shows that the gameplay loop is more than good plenty. - the story is meh, pretentious drivel or maybe it \\' s just not for pine tree state. - the atmosphere works but not really something to write home about. It wasn \\' t one of those things that had me giddy to open the game again, but maybe it \\' s just that dreary isn \\' t something I search for in my free time. By the time I realized killing dragons wasn \\' t triggering a spark of emotion I had to accept that it was clip to stop. Not recommending the game only because sixty $ for a game not worth finishing that also relies a lot on fast reflexes and persistence seems a bit steep. Felt the same with Sekiro when I had to kill 10 mobs covertly before I could attempt the larger boss, Doing it once was exciting, but by the time I beat the boss, it was like a 3 - 4 minute chore I have to do before I was allowed to actually enjoy the game.',\n",
              " 'I will sneak behind foe lock on so use a clear attack and miss this plot be trash',\n",
              " \"I dont understand the hype on this unfinished product. The only way you can play with friends is though a wacky mod bc the devs wanted you to spend days building a character and have the chance for no one to see your hard work. There ' s no diversity in the weapons you unlock. No god rolls or anything, just the basic same crap as the next guy. The game feels lazy and cheap, but is heavily glorified by ppl for some reason. I ' d rather play path of exiles than this and POE is free. Elder Scroll Online is way best than Elden Ring imo. Wish I could return it. Beat the story with the bosses and you don ' t unlock anything cool to expand the depth of the game. You scarcely start over and get more materials from your kills and finally the stronger you become, just you possess to play through the same crap to get there. Not a fan at all.\",\n",
              " \"I get that a lot of people like this game, and there are many likable things about it. It ' s certainly a complete and high quality game (unlike most games released these days ). The early sequence with the castle is great, exploring was fun. .. sometimes. But unfortunately this is a wiki - game. I ' m gonna compare this a lot to BotW because that was a good open world game. If you ' re not playing a basic strength build or know how to find the overpowered weapons you ' re guaranteed to have a bad time. The rpg mechanics are fundamentally unfun here. If you put points in multiple stats to use cool new items you will just have an incredibly weak character. Instead focus on only one stat and use almost no items. Great thanks, love that. Imagine if that happened in BotW? I guess the idea is to make more than one character. But nah. I ' m good. But then the real fail is still coming. So far, these issues existed in DS3 & DS1, but those game are still incredible. So why is this one particularly awful? * This is such a wiki - game it injure. The summoning bell is given randomly at night time at the first bonfire. What an incredibly dumb decision. Why does it feel like this game was designed to randomly make some people have a good time and for some people the game will be unplayable? This didn ' t happen to me, I was able to buy the bell at firelink shrine for some reason. There are many more examples of dumb shit like this. * Open world does us no favors here. Randomly stuck in crystal cave with only enemies that one shot me? Why? Copy library paste dungeons with weak rewards. I snooze. Breath of the wild shrines were always unique and interesting. An endless array of locked doors to which I must randomly find keys? Why? Okay so you want me to explore. I ' ll try that. Crossed a bridge, fought some giants. That was pretty fun, cool stuff. Now what, it seems to be a dead end. Do I need to go inside the bridge? Saltation at a certain angle? There must be a secret I missed somewhere. No, it turns out this is a place you can hold up to after you beat Godrick. Otherwise it ' s a barren of time. How twisted is this. You want me to explore an ' open world ' but in reality you want me to randomly stumble to find the intended linear path. Just take assets and give me DS4 instead. I thought I might just follow a walkthrough so I could experience it without the tedious metroidvania openworld dogshit. But it just feels like a chore to be honest. A wiki - game will always be a wiki - game. Can put this one in the same bucket as dwarf fortress. It really pains me to bash Elden Ring since so many other people seem to like it. I liked DS1 & DS3 so I thought I would be similar them. But alas, I am not.\",\n",
              " 'In effect but I want Vare to be my maid beaver state an choice to be maidenless. Also more co - op options would be prissy.',\n",
              " 'This game can be fun if you have no life and live in your parents cellar. Not attain for casual gamers operating room really anyone who wants to experience fun while playing video games. if you are uncoerced to dedicate hours of your life you will probably enjoy information technology, but I detest and its too hard for me.',\n",
              " 'darkness soul 1 + 3> ELDEN mob',\n",
              " '1 hate this game merely i have foolish ambition',\n",
              " 'no',\n",
              " \"Meh at best. I actually don ' t get why is this game special. Just another Dark Soul game. Everything be clumsy in this game, from combat, to camera rotation and following. Iodin have a feeling that they made it intentionally unfit, to spice gameplay experience. I see a lot of people playing Elden Ring, and to be honest, you would have to constitute big mazohist to play this.\",\n",
              " 'this biz sucks pecker',\n",
              " \"One was very glad that elden ring won goty 2022, but now I want all games from software to lose, even if the game is beneficial, information technology ' s abusive what they did with the price of other games, it ' s even worth report information technology yes, games from years ago. ..\",\n",
              " 'Get God of war instead. Hands down. Mayhap what I am describing below is what mainly or partly explains the Elden pack award of \" BEST GAME YOU SUCK AT AWARD \". The character control in this game is not as natural as any other RPG game One ´ ve played before when using keyboard and mouse. During fights, it ´ s almost like your mouse & keyboard turns into a D - pad. That ´ s the best way of describing it. The precision of that is apparently useless when trying to hit your enemies. During a fight you ´ ll basically be swinging your weapon front, right, left or rear. Not by the aim of your mouse. I think most people who ´ ve played god of war know ´ s what I am saying here. Iodine am glad I got information technology for 50% but if I knew this I would not have bought this game.',\n",
              " 'no',\n",
              " '6. nine / x',\n",
              " 'PLEASE FOR THE LOVE OF GOD INCREASE THE scoop MOUSE SENSITIVITY PLEASE FOR THE LOVE OF GOD INCREASE THE MAX MOUSE sensitiveness PLEASE FOR THE honey OF GOD INCREASE THE MAX MOUSE SENSITIVITY PLEASE FOR THE LOVE OF GOD INCREASE THE MAX MOUSE SENSITIVITY PLEASE FOR THE LOVE OF GOD INCREASE THE MAX MOUSE SENSITIVITY PLEASE FOR THE LOVE OF GOD INCREASE THE MAX MOUSE SENSITIVITY PLEASE FOR THE LOVE OF GOD INCREASE THE MAX MOUSE SENSITIVITY PLEASE FOR THE LOVE OF GOD INCREASE THE MAX MOUSE SENSITIVITY PLEASE FOR THE LOVE OF GOD INCREASE THE MAX MOUSE SENSITIVITY PLEASE FOR THE LOVE OF GOD growth THE MAX MOUSE SENSITIVITY PLEASE FOR THE LOVE OF GOD INCREASE THE MAX MOUSE SENSITIVITY',\n",
              " 'This plot doesnt deserve game of the year it dogshit',\n",
              " 'Game be aids no s * x scenes i punt my infant daughter because of the b that is make by this game 10 / ten coiffure not commend if you take a infant girl Update: she died',\n",
              " 'Bok gibi oyun.',\n",
              " '把你他妈的闪退修修好 ！ Fix your goddamn crashes! !! あなたのひどいクラッシュを修正してください! !! AND STOP victimisation EASYCHEAT! !! information technology ANTI NOTHING BUT MY microcomputer! ! EASY ANTI - CHEAT使用を中止する! ! それは私のPC以外は何も停止しません!!',\n",
              " \"If you value your time when playing games then don ' t play this. The developers hate you and don ' t respect your time by forcing you to lose all runes (cash) upon death you will grind the same thing over and over again for no real reason former than you need runes to level up and they penalise you every time you level by charging more than each time and every time you level it ' s a case diminishing returns the increments get small and smaller each time. The target lock - on scheme is broken you can be looking straight at an enemy and it won ' t lock on when you press right stick. I still haven ' t finished the game yet after 200 + hours. Just found out that there are 713 levels to get to max wtf that ' s a lot of rune farming to do how do they expect I to get to max before the end I presume cause there is some npc and bosses that I just can ' t vote out no matter what I do. Does not support UWQHD monitors despite it being an choice in settings what the point of having it if they don ' t support it.\",\n",
              " 'crucible knight.',\n",
              " 'Make non support 3440 x 1440p Ultrawide Proctor. Sad: (',\n",
              " 'Dark Souls 3. 05 with an opened, empty human beings. Fromsoft is getting otiose and complacent thanks to their hardcore niche fanbase world health organization harbor them to no standards.',\n",
              " 'Reuse bosses',\n",
              " 'let pine tree state turn off gage.',\n",
              " 'this game is the grand delusion that youll enjoy this trash keep, youve played ds3, cool fuck turned, you played ds1 and 2 nerveless fuck away, i love rolling with perfect timing for the secret plan to fuck you concluded. wherefore is this game on my library i was forced to play it do i want to, no i would rather put a shotgun barrel in my mouth rather than play this doodly squat.',\n",
              " 'IT IS FOOKEN MINGING',\n",
              " 'This game is beautiful, but once I got to the Mountaintops, I stopped represent able to appreciate it. Elden Ring \\' s - - like the Dark Souls series before it - - is a combat system built on limitations. Every offensive and defensive option is carry out with either stamina or focus (that is, if you \\' re using magic or ashes of war.) You \\' ve also got input buffering to deal with, where button presses have a noticeable delay, and the game registers every input, which WILL lead to accidental panic rolls, drinking flasks one too many times, and doing a mistaken follow - up R2 after doing a jump attack. It \\' s a feature endlessly at odds with the committal controls. You can \\' t cancel your animations, so a good handful of player deaths are a result of people failing to account for an enemy \\' s unavoidable punisher (s) while they \\' re stuck in some animation. This wouldn \\' t be such an issue if enemies didn \\' t all have uniquely rapid combos they can chain together endlessly, and that \\' s on top of everything being way too fast and two - shotting you in the endgame. Not even just bosses, but regular enemies. Many bosses and enemies are simply designed with movesets meant to counter the \" few \" combat mechanics you have at your administration. However, I have to say \" few \" in quotes because there is a wide variety of spells in the game, along with many special attacks you can add to weapons in the form of ashes of war. If you \\' re able to find an effective combination of these things, you can trivialize a lot of the fights, but this solution highlights my principal grievance with this game. If something isn \\' t working, you \\' re not meant to adapt to an enemy until it does. You \\' re meant to trivialize the shit by min - maxing. That kind of stuff may be fun for PVP, but, unless they \\' re an invader, enemies don \\' t play by the same rules you do. All of this wouldn \\' t be such a problem if there were another angle to the gameplay, but fighting your way through the world is the only thing your character is good for, sadly. And that \\' s a real shame when you have such cool a setting with so many major characters. Imagine pledge fealty to a Shardbearer with a kneel emote in the middle of battle or something, and then you get to join their faction instead of just killing every single one of them. That \\' s the kind of shit I play RPGs for, but all you get here are fragmented questlines you need spoiler just to complete, and omniscient item descriptions. My final note: I know nothing of the game \\' s community or meta or what - have - you, but if the only way I can enjoy or beat a game is by looking up everything and playing it someone else \\' s way, then the game just ain \\' t for me. And on the off - chance you \\' re anything like me, then it probably ain \\' t for you either.',\n",
              " 'a lot of the bosses are just normal enemies with bigger numbers, absolutely worst boss design out of any soulsborne game that fromsoft made, enemies hitting done walls, wonky hitboxes (attacks that should hit me dont and vice versa ), you look at the big map and find out that the end game area is not even xxv% explorable, too many gank bosses and dont get me started on the mess that malenia is, dark souls player combat mechanics but enemies have sekiro / bloodborne movesets, open world is empty and there is just anything to do and if you explore too much you WILL miss out on 70% of the quest if you dont have online guide open',\n",
              " 'Game toilsome I convey carried to acquire',\n",
              " 'Besides many freezes on very in high spirits end simple machine. Have it off bug they precisely ignore. Couldnt enjoy the game since on stutter is expiry on every class.',\n",
              " 'Do not have this if you have a low down death PC. Mayhap a medium - gamy end microcomputer ass work.',\n",
              " \"Ace ' m an greedy Fromsoftware fan, but everything in elden ring feels like a step back. It has some of the worst boss design in recent memory and the open world widget be frustrating and bore. I bask good fight more than anything else in a soulslike, not the constant feeling of getting lost. Elden band traded good combat for even more navigation frustration. Better than DS2, but it ' s the second worst in the series.\",\n",
              " 'Bad plot if you slant own information technology to die 12135098765329485 times dont buy information technology + if you alt tab or unfocus the game will crash instant. : )',\n",
              " \"plot in 2022 doesn ' t support twenty one: ix\",\n",
              " 'elden rings themes are of duality so much so that information technology accept trancended the lore to the very game design. the first half of the game be beautiful one of the best games i have ever play, the last half of the biz is one of if not the biggest dumpster fire i have ever played. i really want to wish this game the lore is abstruse the visuals are stunning merely the gameplay by the end is god aweful.',\n",
              " 'The only other game from From Software that I played was Dark Souls II: Schoolar Of The First Sin (DS2: SOF) wich I enjoyed a lot but I noticed that it was a really hated game from From Software and that Elden Ring was receiving a lot of praises and also won a GOTY so I tought \" If their most hated game is this good then their most loved game must be extremely good! \" but I ended up hating it ¿ What \\' s my problem? - Attacks often have ridiculous delays. The problem with the delays is not that they take too long it \\' s that the enemy simply stands there with their weapon up with little to no animation so you fundamentally have to see them suffice the animation and start counting, get hit and remember to how much you counted everytime they do that attack again to properly dodge information technology. This happens for the whole game, even the final boss does it. - Chain attacks are too fast sometimes. Sometimes the enemy follows an attack with another so fast that you still are on the roll animation you used to dodge the first attack, this doesn \\' t happen very often but it \\' s very frustrating when it does specially when it stunlocks you to death. - The open world is too open. This one is more personal, probably most people will love this but I can \\' t leave a geographical zone peacefully without feeling like I missed half of the things it has to put up, and this does happen, unless you use a wiki to see where everything the zone has to offer is then you will leave out dungeons, legendary armaments / magics and even NPCs with questlines. This probably helps make every person \\' s walkthrough more unique when not using the wiki. - Plenty of reused bosses. There are both reused bosses behind fog walls and on the overworld and because of the delayed attacks and the fast chain attacks finding a reused boss on the overworld as a normal foeman, respawning and all is painfull.',\n",
              " 'Secret plan is fine, the hoopla and be biz of year leash to think was going to be much better. Combat is pretty meh, camera cost terrible and physics represent comic. The domain is amazing looking though.',\n",
              " 'two of my saves got corrupted for no reson and iodin have to start over once again',\n",
              " \"So lets review + good music + nice viz + game length is about 20 - 25 hours of content, good compared to AAA tetrad hrs (see GoW, MW etc) - No support for Keyboard and computer mouse (why port to PC and have no improvement on your DS BS ). Tell me wherefore i can ' t bind heal to one of the other 78 keys - No map features or waypoints (waste 30 hours) - No journals (waste 10 hours) - Scrubs reeing about ' no diary is good ' when it ' s just a waste of time - Give enemies 4x the amount of health they need and call it ' challange ' (sic) - really slow ass rogue lite. In that light, rogue Legacy 2 was way better. - don ' t give an F * * about your character, it ' s a mindless blob with no conscience (same for all JRPGs tbh) - no idea what ' s going on because the writers are lazy - oh wait guys you can ' t indite a journal but magically can see enemy HP lul + only bought it because it was on sales event + George Martin got a lot of hookers and blow because of this game.\",\n",
              " 'Purchase it Played for an Hour Horrible and boring game',\n",
              " 'bank have sex the roll in the hay',\n",
              " \"This has to equal the worst game ever made. Information technology ' s broken, crime syndicate literally smack you done brick walls. There is no way to find your way around, no help from the game to even get started, on that point is nothing. My graven image I wish I ne'er bought this rubbish. How did it win GOTY? ? Absolutely the worst game I have ever played.\",\n",
              " 'sooner state therefore the game constitute well made but the lack of direction and substance prepare it sense hollow and aimless',\n",
              " 'This plot does not deserve plot of the year. It \\' s shut away at 60 FPS (disgusting and bad biz pattern ), the graphics are alright (not game of the year worthy ), the voice - acting sounds like it was done by a Fiverr VA, the photographic camera controls are annoying, and did I mention that it \\' s locked at 60 FPS? I can \\' t say anything to the existent content of the game, since I only act as 48 minutes of it, but the issues earlier in this \" review \" are dealbreakers. I \\' m refunding it.',\n",
              " \"I only play these games because my friend loves them. If the multiplayer wasn ' t so dysfunctional, and the net code so bad and if you could turn off invasions then there would follow a shot this game wouldn ' t to me suck so much. The game makers goal and ambitions are good, but the technology they use to implement is atrocious. Random disconnects, Unable to join games together, Client side manipulation by invaders, Last code for invaders or just co - op, Having to constantly summon after fights, n Non being able to go back and explore together after you clear a boss, These are just all piss poor implementation. Even in single player there are too many thwarting interactions with how the environment impacts you the player but not the opposition. There are no way to grind past difficult parts of the game by out matching it with levels after a certain point. Maybe one day the game makers will have the technology to make their back end systems and code match the peach that is the visuals of the game. But until it does it you could just stair at a gorgeous landscape and punch yourself in the genitals to get the same experience or just get good.\",\n",
              " \"the final boss looks like a childrens draught of an ethereal dildo dragon. fights like one too. play any of the other soulsborne games, even ds2, and you ' ll birth a a lot more fun time.\",\n",
              " 'bad plot no merriment',\n",
              " 'also buggy and shitty mechanics',\n",
              " '78u',\n",
              " 'eh ¯ \\\\ _ (ツ) _ / ¯',\n",
              " 'The plot is a console port and suction',\n",
              " 'Terrible biz. Unresponsive controls, poor multiplayer, bad lock on mechanic. Worst $ lx dollar bill Ace ever expend.',\n",
              " 'Oh it \\' s on PC, alright, main menu, \" press any key \" okay, let \\' s press enter. So I press enter and the options come up to select new game or settings, so i try W for up and S for down, nope, fair, i try arrow keys, yeah okay, works, so i press enter to select options, nothing. .. its E. you press E. so whatever 1 think right, i press E. .. so i think okay maybe wasd works now? no. no no. arrow keys, which fair, now i got it, menu = arrow keys and enter = nothing, enter does not exist. never did, its all a psyop. so i want to exit the options, i press escape. . NOPE. .. .. . you press. .. .. Q. . whatever, arrow keys, Q and E, got it. .. you load into the game, to skip the cutscene you use ESCAPE, interesting. .. i got this now, arrow keys and E to select and Q to exit, got it. .. got into the game, arrow key apply items now. .. .. OK. .. . now its wasd to move, got it. then wait, i want to open menu, I think it was ESCAPE to open the in plot menu, and which from there you use arrow key to move. .. oh and its F to jump. game itself is fine though. fromsoftware pc ports / 10',\n",
              " 'I want to first say that I don \\' t want to recommend, or not recommend this game. For some it will be phenomenal, while for others it will be terrible, and that is just a fact. It \\' s a shame I am forced to select one or the other. Since the game exist so hyped in one direction, recommended, I guess I will do the opposite in the spirit of balance. I don \\' t get the appeal of games like this. They are TOO hard to enjoy. If you want the exploration that is expected in an RPG, you will find it here, but every chiropteran can kill you unless you also enjoy mastering combat. I don \\' t want to do anything more than press a button to swing a sword, or cast a spell, and perhaps dodge or block like you do in GW2. If you are like me then I recommend you avoid this game regardless of the rave reviews. I played this game much longer than I expected because I spent $ 60 on it, but here are the issues as I see them: Pros: 1. Exploration of the open world is really second to none. This is a fantastic open world with a mystery and excitement to it akin to Everquest 1 when it first released. 2. The variety of mobs is fairly high 3. The graphics and ambient sounds are well done 4. The first act of the game, when mobs are not ridiculous and everything is new, is simply the best experience I have had in years. Most reviews go on and on about this same thing so I won \\' t reiterate it here. What most reviews don \\' t mention are the negatives, and there are negatives for many types of players despite the thousands of positive reviews. Cons: 1. Tedious: if you die you lose all runes which are collected like gold would be in most games, but are also the only way to level; you get one shot to pick them up again, but if you die they are gone for good along with every single bit of progress you have made in earning them. Also, when you die ALL previously killed mobs respawn and you have to fight your way back through them. I despise repeating things, and this game is designed to kill you over and over so you will spend a lot of time repeating stuff. 2. There is no real sense of getting more powerful. Sure there are mobs you eventually become unattackable than, but you are always just a few unfortunate hits and stuns away from death no matter your level, experience, or gear. 3. There is no way to adjust difficulty, so if you become mentally weary of the competitiveness and just want to explore the world and story on a slighty lower intensity, you can forget it. 4. After reaching the capital you will notice that mobs move beyond challenging into the realm of being unfair. They have stuns, endless combos, ridiculous jumps, unblockable hits, and are so expectant and fast you cannot outrun them; nevermind the encounters in quests or dungeons which occur in cramped quarters where you have to master combat to have a chance. You may like to master combat, but the truth is there is luck involved in many of the boss fights, and not everyone likes the combat as much as the exploration or other things. 5. There is no quest journal to track steps completed, or even repeat goals or remind you of NPC names, or locations where you found them. That isn \\' t just not holding your hand, that is stupid and not respecting your time. 6. The story really isn \\' t very good at all. I understand that is subjective, but many players couldn \\' t tell you the story if you asked them, unless they had read it from a third party site. Even if you do know it, it is boring, and RPGs are supposed to be story - driven, so a weak or non - compelling story - line is a problem. 7. You will experience burnout if you are like many others who have stated they eventually just skip fights and run straight through zones in the endgame, just wanting to say they completed the game, and for it to be over. In fact, I \\' ve read that many, myself included, have settle to not complete the game because it has become a chore. 8. There are hidden features like using gestures to unlock hidden areas supposedly. Well, you first have to find the gestures, then find the areas to use them, and then figure verboten which one to use. I would normally like such a feature, but I find it annoying in this game. If you try the game you will see what I mean. 9. The game implements soft caps on stats to force you to diversify your build and try different things. Look, if I want to max a stat and use the same weapon the whole game, then that is my business. Stop artificially forcing me to try play - styles I don \\' t like. There is more to say, but there isn \\' t much point when a game is so highly rated. The game has real issues for certain gamers that will continue to be dismissed by the fans who say that I need to get better at the game. But you see, I don \\' t WANT to get better. I just want to enjoy the Elden Ring world using MY playstyle, not yours. This is one of the only developers that has decided they absolutely will not do that; it is their MO. I am all about developers deciding what type of game they want to make, and sticking to it. Elden Ring does that and I say good for them, but the result is a gamer like me is eventually driven away. Fans of this series are happy about that, because they are so scared the things they like will be changed, or that their bragging rights will become meaningless as more people can kill the bosses they do, but I think this is silly. There is some multiplayer functionality, but in the end this is a single player RPG and one gamer \\' s sense of accomplishment shouldn \\' t hinge on another gamer being shutout of the experience of the game to protect fragile egos and placate irrational fears. Let as many people as possible experience and enjoy the fantasy world created I say. For the reasons just stated, the game is so hyped that I believe the reviews never give you a fair assessment of the negatives, or at least the full picture. This game isn \\' t just \" not for everyone because it \\' s hard. \" This game isn \\' t for everyone because it has problems like any other. It doesn \\' t have the best gaffer fights that exist, even if that is your thing. It is a challenge, and it is well done, but there is a HUGE segment of gamers that are also wasting their time with this game because it makes ZERO allowances for them in the end. I find myself wanting to explore every nook and cranny because the world is that good, but I cannot stand the stupid boss fights and respawning of mobs anymore. It has become tiring. I cannot stand that I can \\' t turn the difficulty down if I want to. I cannot stand that the game is designed to make you repeat stuff because it wants you to die to experience a sense of accomplishment. Hey, if that \\' s you then great, but it isn \\' t me, and this game doesn \\' t take a player like me into account. I wish it did.',\n",
              " \"Complicated, ugly and over hyped. Like most fromsoft games this game is pretty difficult. This is not something that I savour or care for at this point in my life. Good luck having any sort of success in this game without constantly having to look up guides for bosses, weapons, where to go next, etc. For some reason there is nothing to aid the player with where to go next. No log or quest tracker. Also the game is very ugly and dull to look at (compare with the vibrant and colorful environment of Ghost of Tsushima for instance ). But perhaps this is not a surprise given how dull and ugly Sekiro is as well. Personal opinion, but the game is overhyped. I purchased it on day 1 for PS5 and it never pull me in. I played it for 30 minutes, put it down until a few days later. Then I did it a couple of more times before I decided to sell the game. I adjudicate to give it another try on steam deck and I ' ll admit I scram much farther this time than I thought I ever would, but that is because I had the help of an experienced friend. A positive is that it does a great job at making the player experience small in an over the top world. Every time I start the game up I just want to uninstall. At this point in my life I do not find joy in games like this that require focusing and patience. If you do not like to try toilsome then you will non like this game. Maybe if you have an experienced friend with this game you will have fun. I did not enjoy this game and I do not recommend it if you do not corresponding a struggle. come at me elden ring fang @ ys.\",\n",
              " 'very fun biz would recomend',\n",
              " \"Enemies with attacks cooler than your own. Over the top bosses that make your character feel shit. Slow lumbering combat, against enemies with lightning fast attacks. Terrible level upward system with stats that make little difference. Terrible loot, I mean what loot? Open world that feels empty, with vague quests littered sparsely throughout. Npcs with no emotions and vague dialogue. Very basic enemy AI. This feels like a secret plan that was made decades ago and cause a remake to look better. The solitary positives live that the game looks gorgeous, and the areas and dungeons are really well made. Even though the bosses are way concluded the top to your normal character they be also really cool. The difficulty is all terminated the p [lace, some normal enemies will kill you instantly and the some do hardly anything, some small enemies are sometimes harder than the bosses. I think bottom line, people like the difficulty, and it ' s created a cult like following. But remove the difficulty and you will see how basic and boring these games actually are, and difficulty does not make a game better, a game has to be good even if its easy.\",\n",
              " \"It ' s like they gave Ubisoft a soulslike engine and told them to make an open world plot. Weakest story out of all the From titles I ' ve played yet, vague with little substance below the surface. By far the most unbalanced and unfun gameplay, accidentally made an OP bleed build and destroyed the entire first 80% of the game and then had to spend overly difficult hours on the last few bosses, notably excluding Miquella and Mohg as I had accidentally cheese them both with overpowered weapon humanistic discipline and flavor ashes. (Bloody slash allowed me to kill Mohg without him reaching his second phase.) A terrible symbol of the nature of broad and expansive open world game, which innovates in the first 20 to 30 hours with Liurnia being a great area, representing good world intention with great encouragement of curiousity, and then the rest of the open world areas being largely bland and classic Ubisoft - y. An overall extremely disappointing game, largely helped by the INSANE hype. Geoff Keighley RUINED ELDEN RING!\",\n",
              " 'Imma name my eldest Elden Ring',\n",
              " \"pros: honest artistry style Cons: recycled dungeons boss reuse bosses are sponges, fight feels like a task 2D water in 2022 Bland undecided world No actual story telling atrocious quest design Lego almighty of the rings has ultra - wide support and a uncapped frame rate but a game released in 2022 doesn ' t lol\",\n",
              " \"This game sucks. Ane ' m not indisputable wherefore multitude like this refuse.\",\n",
              " \"I do recommend purchasing when it ' s on sale for it ' s astonishing artwork, environments, and clear world. But it being the year 2022 - 23, there ' s no excuse for the 8 bit vectoring / motion control, and sado difficulty. Perhaps amplify Margit ' s Shackle use for mobs that are no longer level locked, yet due to controller / keyboard limitation from varieties, are unattainable. Messages and player blood pools do grief musician experience – they will effect open world battles, ledger entry ways, and portals. The differences between PC and console exploitation make a keyboard and mouse play through even more difficult. This being game of the year (it will be) speaks strides to the state of the gaming industry. Most would rather play a somewhat abusive (and yet visually stunning) game than the early titles out on that point; on account that so many developers would rather lazily skimp on their products than put something out that works and plays as expected.\",\n",
              " \"Edit: i played more and my stance hasnt changed. fuck elden ring. i want my money back. iodine hate this game because information technology gave me hope i ' d revel it and then it took that hope from me. i want to fucking dice and i can ' t get a refund because someone tell me to establish it a 2d chance. i am not friend with this someone anymore.\",\n",
              " 'The plot looked really good and game turn is ok. The forced pvp when you try multi - player really sucks since iodin dont pvp. Wish i could stick my money rearward!!',\n",
              " \"I don ' t aid to represent killed by a NPC just One ' ll just drop your game rating if you put on ' t put an option to refuse to follow invade.\",\n",
              " \"Don river ' triiodothyronine bribe if you have an ultra wide monitor. Even though there is a setting for 5120x1440 the game doesnt ladder at that. They even had an update to restrain Flawless Widescreen from working.\",\n",
              " 'Be just not rattling fun. Not sure why the great unwashed mean it the plot of the year.',\n",
              " 'This is seriously the unsound game I have ever played. Comfortably graphics does non mean better plot. Selling this console shabu for personal computer be just slip money.',\n",
              " 'I apologize for my ineloquency - I usually don \\' t write \" reviews \" but I just need to get this out of my system, so to speak. First things first, if you \\' re planning to play Elden Ring as your first \" souls - like \" - please, try Dark Souls 1 instead. It \\' s an all around better game. As for this game, I can \\' t for the [i] life [/ i] of me fathom why it was so praised. Maybe I \\' m just tired of the generic \" souls \" formula, or maybe it \\' s just my MDD that keeps gets bad. But Elden Ring - in my sentiment - is by far the worst, so to say, \" souls - like \" developed by FromSoftware - Dark Souls 2 included. Now, I think the developers / designers responsible for creating the \" overworld \" map indeed did a fantastic job, and the beginning of this game was somewhat promising. Withal, other than that - Elden Ring is a creatively bankrupt, tedious, unbalanced, at some points borderline broken and worst of all - simply boring - mess. Balancing issues aside - the game \\' s main problem, I think, is that it \\' s obscenely bloated with copypasted content: - Copypasted locations - which ruined any kind of atmosphere / immersion and disincentivized any point in exploration - the strongest, so say, aspect of previous From \\' s \" souls - clones \". Even the major late - game locations are hard, if I \\' m not mistaken, the correct term is - \" asset - flipped \" versions of previous locations - and there \\' s only ~ 7 of them in the entire game. The other ~ 52 areas are just small \" mini - dungeons \". They in particular are just horrendous. Sure, you get some kind of - usually worthless - item at the end of yet another Cave / Crypt (that \\' s all there is to it to the variety ). But everything looks exactly the same - what was even the point? I mean, it would \\' ve been nice if the combat system wasn \\' t so repetitive, but unfortunately - it is. Even Bloodborne did it better with its random Chalice Dungeons. - Copypasted enemies. In comparison with From \\' s previous titles, in which each area usually had an array of unique enemy types, Elden Ring exhausts most of its, so to say, bestiary in barely ~ 1. 5 - 3 hours of gameplay. After that, it \\' s, once again - just the same exact mobs that exponentially turn into obnoxious damage - sponges. And it actually doesn \\' t help that quite a lot of creatures (and player \\' s character) repurpose animations assets from From \\' s previous games - mostly Dark Souls 3. - Majority of bosses (a lot of which were reused as regular enemy mobs) were also haphazardly copypasted. And all the story - bosses felt completely unimaginative, forgettable and, with exception to a couple of end - game ones - trivial. I even bothered to stop leveling at some point and used a guide on how to NOT get accidentally overpowered - which is an easy thing to do, because this game has a rather broken progression system. The battle content designers, also, seem to have ran out of ideas and made the main knob rely on cheap \" delayed \" attacks, annoying lingering AOEs and 1 - shot gimmicks - particularly towards the very end of the game. Which, in my opinion, made this game into the most \" sluggish \" one in the series, despite added jump move from Sekiro - especially for melee characters. Magic is completely overpowered, by the way - I refuse to believe it was thoroughly playtested. One of the bosses, in particular - \" Malenia, The Meme of This Game \" - was clearly not designed for Elden Ring \\' s combat system at all. Honestly, just google it. It \\' s really unfortunate that they messed up that badly - especially after aforementioned Sekiro, which had amazing bosses and an even better combat system in general. Well, to spout at least something positive - I \\' d say Radahn (a giant goofball on a small horse) - one of the main mid - game bosses, was pretty decent because developers for once actually tried something unique with this one. .. and he also looked memorably amusing. But overall, I didn \\' t like Elden Ring. I think it \\' s a barely mediocre game and It \\' s really quite a shame that it wasn \\' t criticized into oblivion - like Dark Souls 2, for example. And as an another little side note to those who for some reason liked PvP in previous games, even though I \\' m in no position to talk about it. Due to severe balancing issues - PvP here is objectively broken, there \\' s no faction system and invasion - mechanic is also fairly \" strange \" too. According to developers, to make invaders less of an issue for players - it \\' s now only possible to invade ganks / groups. I think it just encouraged the use of broken builds and twinking. And for some absurd reason invading someone during a boss battle is also possible and, I should add, there \\' s an easily accessible suicide bomb flask which can 1 - shot majority of players (was kind of entertaining a couple of times ). Ingenious! Anyway - again, I apologize for my insane digital rumblings.',\n",
              " 'information technology would be so much better if information technology wasn \\' t plagued by old, slothful game design and mechanics, like the god awful, boring, tedious platforming and \" trap \" that are just garish, lazy doodad. They need to focus on the bosses and making more of those and harder than the worst parts of the game being more challenging than the actual bosses.',\n",
              " 'fromsoft dickriders go unhinged',\n",
              " \"Not 100% sure about the game, but Co - op modal value seem clunky and not easy to setup, the direction it works is really weird, which made me stop playing cause I wanted to play with a friend. So after xxx minutes of play I halt, requested a refund. But Steam declined the refund request with 30 minutes of play, scarce because I did not request the refund straight away. Only cause I thought I wanted to give the game another opportunity maybe after some updates or so. But now stuck with a game I don ' t sport or didn ' t play. Poor service by Steam. ...\",\n",
              " 'Terrible game. Games are suppose to comprise fun. The UI is not even good and the gameplay live enough to make you need to kill yourself over how out of the question it is to actually play. Not sure what I was expecting from this style of game since this company cant make anything good. Save your time and money. Game of the year? More like plot of shit.',\n",
              " \"everyday i play this is constant pain waking up embody pain this secret plan has added to the many reasons i am going to end my life information technology reminds me of the several category ' s that i have leave dead every night it was like a game to me to go out on the street and find the happiest family I could and take on them and forced them to watch as i killed them who typed that it wasnt me make the voices stop please help me the voices are taking over i most cease my life\",\n",
              " 'single player live fine bosses are second rate, 90% of the time they be just reuse quint separate multiplication. multiplayer is meta or die, all elden ring players know to do is expend stab bloodhound step have level pentad visibility and lie',\n",
              " 'spoilt',\n",
              " \"Fromsoft habit adhd dualshock control scheme. Yes I be this petty since it ' s pretty much a comptroller required secret plan and One ' m non buying a whole screw controller to tell what my push button prompts are.\",\n",
              " \"You need to be careful before buy this game. There is no need to debate if this is a good game or not, it has past that point. What you need to think is do you deliver enough time for it. Ace was supposed to take away an exam for promotion, got it all planed out. But then i got this game during Christmas. Then, 254 hour of biz time within 1 month, while working a full time job. Yes, 1 month, 254 hour is the time I needed to feed my addictive mind of this game, before i can finally start to focus on something else. I am giving it a negative review but doesn ' t change the fact that i call it plot of the DECADE. You have been warned.\",\n",
              " \"Superintendent fuckin ' overestimate\",\n",
              " \"Okay game, until it decides to start spiking your federal protective service down to 10 with a second long freeze every minute. new free Hard Mod DLC apparently lol. Feels hollow and too big for no good reason other than making a large open world game. from someone world health organization loved (and finished) dark souls 1, 3 and Bloodborne, this is quite underwhelming. don ' thyroxine get me started about PC port optimisation, CPU exercise and lack of feedback / updates. game literally became unplayable 53h in. .. .. .. .. .. .. .. . what a waste.\",\n",
              " \"Design wise is not up there with the rest of the souls. And the open world model simply doesn ' t arrange it for me since it is not a story driven game. Still if you care dark souls you ' ll probably enjoy the armed combat. It is. .. the same. With all the honorable and the bad of its predecessors. Technically wise it is a disaster. Frame drops, stuttering and not tight and antiphonal controls be only the beginning. Time lag until you can torrent it. Don ' t give money to developers who are not optimizing their games for PC.\",\n",
              " \"The game is great on a controller. The mouse and keyboard controls are awkward, and not everything can be rebound. Upon starting the game, the icons that tell you what to press are for the gamepad non K & M. You have to go into the sound (yes sound) bill of fare to change it. I can ' t recommend this to people on PC who aren ' t also going to use a controller. Also the game can take seconds to minutes to shutdown properly before your cloud sync can begin. This is incredibly awkward if you dally on multiple device and shut one down before the plot in reality exists.\",\n",
              " 'better away buying it on your old ass grandfather PS4 plot cost not even optimised for PC what so ever big fundament waste product of money no clew how information technology got voted biz of the year',\n",
              " 'cant sexual activity 👎',\n",
              " \"Beautiful plot with racy, wonderful lore. Unnecessarily hard. Lacking basic QoL functions such as a quest log or mini map. Very limited online choice. Non modernistic friendly. There ' s a reason wherefore Skyrim comprise still going strong all these old age later.\",\n",
              " 'I do not understand why the game is so hyped, if this be what a \" game of the year \" is, I am loosing my hopes. The game was clearly made for consoles and porting the user user interface and controls to PC was probably done by accident or an working student, but this is not the main problem. The controls are flawed even with a controller, for example there is no walking backwards or sideways which makes hitting enemies unnecessarily hard. The game concept is so swallow: Loot, Level, Kill. .. why? Because of a indoctrinating lengthy intro video at the start of game which spoon feds you the \" why \" in the fashion of a online training video about the new corporate culture. After this you a set free into a beautify looking, but empty feeling, open world with bare minimum physics and half brain dead AI. .. and for that you better pull out your reading glasses, because you are going to read a lot of tool tips trying to excuse the non - intuitive menu. From this point on wards there is not much more going on that to loot, level, and kill poorly scripted AI that judge to kill you for no good reason. For me this game has nothing to offer, because its just a grind for the sake of grinding without any real reward. Single would refund it if I would not have bought it with a discount from a 3rd party. TL; DR: Nothing is interesting beside the pretty game engine. Would refund if I had not bought a key from a 3rd party.',\n",
              " 'Cant Segz Godrick']"
            ]
          },
          "metadata": {},
          "execution_count": 42
        }
      ]
    },
    {
      "cell_type": "code",
      "source": [
        "augmented_data = pd.DataFrame({\n",
        "    'review': augmented_reviews,\n",
        "    'voted_up': [False] * len(augmented_reviews)\n",
        "})"
      ],
      "metadata": {
        "id": "GohPKtQxlxvB"
      },
      "execution_count": null,
      "outputs": []
    },
    {
      "cell_type": "code",
      "source": [
        "augmented_data['review']"
      ],
      "metadata": {
        "colab": {
          "base_uri": "https://localhost:8080/"
        },
        "id": "xIOHiZg0lfJt",
        "outputId": "a3220996-e084-40f3-cbf0-9ed4108eda7c"
      },
      "execution_count": null,
      "outputs": [
        {
          "output_type": "execute_result",
          "data": {
            "text/plain": [
              "0                                                   suck\n",
              "1      Mode overrated. Ringlet simulator while honk s...\n",
              "2                                      FPS be cap at 60.\n",
              "3      I play this game for about viii hrs. , and hav...\n",
              "4      It was super fun until post - capital. Then th...\n",
              "                             ...                        \n",
              "588    better away buying it on your old ass grandfat...\n",
              "589                               cant sexual activity 👎\n",
              "590    Beautiful plot with racy, wonderful lore. Unne...\n",
              "591    I do not understand why the game is so hyped, ...\n",
              "592                                    Cant Segz Godrick\n",
              "Name: review, Length: 593, dtype: object"
            ]
          },
          "metadata": {},
          "execution_count": 44
        }
      ]
    },
    {
      "cell_type": "code",
      "source": [
        "balanced_data = pd.concat([df, augmented_data], ignore_index=True)"
      ],
      "metadata": {
        "id": "xP74OvBDlz9Q"
      },
      "execution_count": null,
      "outputs": []
    },
    {
      "cell_type": "code",
      "source": [
        "balanced_data['review']"
      ],
      "metadata": {
        "colab": {
          "base_uri": "https://localhost:8080/"
        },
        "id": "Nn9rUnrfl3p-",
        "outputId": "12547383-55c4-4efd-9cff-cfbf1a193678"
      },
      "execution_count": null,
      "outputs": [
        {
          "output_type": "execute_result",
          "data": {
            "text/plain": [
              "0                  being killed over and over again is fun\n",
              "1        I write this review as I have 100% completed E...\n",
              "2                                                      Fun\n",
              "3                                             pretty cool.\n",
              "4                                      AMAZINGGGGGGGGGGGGG\n",
              "                               ...                        \n",
              "10382    better away buying it on your old ass grandfat...\n",
              "10383                               cant sexual activity 👎\n",
              "10384    Beautiful plot with racy, wonderful lore. Unne...\n",
              "10385    I do not understand why the game is so hyped, ...\n",
              "10386                                    Cant Segz Godrick\n",
              "Name: review, Length: 10387, dtype: object"
            ]
          },
          "metadata": {},
          "execution_count": 46
        }
      ]
    },
    {
      "cell_type": "code",
      "source": [
        "# Split the data into features (reviews) and labels (voted_up)\n",
        "reviews_bal = balanced_data['review'].values\n",
        "labels_bal = balanced_data['voted_up'].values"
      ],
      "metadata": {
        "id": "Wx_Y-ZhdnwyS"
      },
      "execution_count": null,
      "outputs": []
    },
    {
      "cell_type": "code",
      "source": [
        "reviews_bal"
      ],
      "metadata": {
        "colab": {
          "base_uri": "https://localhost:8080/"
        },
        "id": "Vwg94TR5n2fa",
        "outputId": "d4a9830f-a2b5-4cc6-bda2-19746c666a83"
      },
      "execution_count": null,
      "outputs": [
        {
          "output_type": "execute_result",
          "data": {
            "text/plain": [
              "array(['being killed over and over again is fun',\n",
              "       \"I write this review as I have 100% completed Elden Ring. And yet, despite this, I still find new things every time I play the game.\\n\\nElden Ring is an experience to say the least, and I won't be dramatic and say it is life changing but it feels like this is THE video game to play if you're ever going to play a game. It's immersive and full of story, every little thing is made with such refined detail that you can easily miss the little things. Everything feels so interconnected and it is so easy to get lost and find yourself on an adventure.\\nIt's been a long time since I've felt like a game really wanted me to just... go explore and have fun with the world. It feels punishing but no punishment in this game goes unrewarded.\\n\\nHere's my breakdown of the game, I'll try not to spoil but I'll post spoiler warnings just in case.\\n\\n*Story*:\\n\\nAs any Fromsoft game is, the world is vague and extremely open ended. Which can be a huge mess if done wrong but this is done entirely right. Story is not handed to you on a silver platter, however if you do wish to go find it through character storylines, you're given plenty of exposition and development. Characters are made to make you care about them or hate them. A lot.\\nWhere Elden Ring shines is the characters that they weave into the story and how important bosses feel to kill due to story context. The context you are given bit by bit really sell your journey.\\n\\n*The Endings*:\\n\\n(I have not done Golden Mask or Dungeater's ending as they do not really interest me too much. Do note there are spoilers up ahead so skip this section if you don't want that)\\n\\n-Ranni's Ending was actually one of the most satisfying endings to a Souls game I've seen in a long time. She was a compelling character and her roster of companions feel fun and diverse in their own ways. They take you on this meaningful journey with twists and questionable moral choices. And to wrap it all up nicely after taking you underground to Nokron, Fromsoft has you revisiting areas previously to ground you in Ranni's backstory via Liurnia.\\nI 100% recommend getting this ending and I'll be posting a guide soon!\\n\\n-Frenzy Flame Ending was... something? It wasn't exactly remarkable but I did really enjoy the voice acting! I can't say the way to get it was entertaining though, go through some sewers, comet azur Mohg, and take 5 minutes to jump on some graves and now you have an ending only 15% of people this game have. It didn't feel satisfying but it was visually neat and the eyes look really radical.\\n\\n-Elden Lord. Nuff said, you become elden lord. A decent neutral ending!\\n\\n-Fia's. This one was actually really mysterious and fun. Full of deceit and conflict. You don't get an achievement with this alas but it's worth doing. Fun bosses, neat story, Fia being based.\\n\\n\\n*Gameplay*\\n\\nIt takes some getting used to. I grew up on the souls games and I am used to fast paced movements. But I really had to be patient with this one! Lots of delay which forces you to pay attention to the details of certain bosses. Also adding jumping in with some of the mechanics was really neat! Albeit a bit annoying from time to time (Cough, Godfrey, Cough).\\n\\nThe dungeons and caves are plenty of fun and remind me of old legend of zelda mechanics. The bosses are fun and engaging, always on your toes. Although Rennala was a slight bore phase 1.\\nYou can take your time or zoom through the Main Story. Going back to back in the story takes around 2-4 hours. But there's so much to do in the game that it might take you 100+ hours to even complete it.\\n\\n\\nSo, yeah. Play it.\",\n",
              "       'Fun', ...,\n",
              "       \"Beautiful plot with racy, wonderful lore. Unnecessarily hard. Lacking basic QoL functions such as a quest log or mini map. Very limited online choice. Non modernistic friendly. There ' s a reason wherefore Skyrim comprise still going strong all these old age later.\",\n",
              "       'I do not understand why the game is so hyped, if this be what a \" game of the year \" is, I am loosing my hopes. The game was clearly made for consoles and porting the user user interface and controls to PC was probably done by accident or an working student, but this is not the main problem. The controls are flawed even with a controller, for example there is no walking backwards or sideways which makes hitting enemies unnecessarily hard. The game concept is so swallow: Loot, Level, Kill. .. why? Because of a indoctrinating lengthy intro video at the start of game which spoon feds you the \" why \" in the fashion of a online training video about the new corporate culture. After this you a set free into a beautify looking, but empty feeling, open world with bare minimum physics and half brain dead AI. .. and for that you better pull out your reading glasses, because you are going to read a lot of tool tips trying to excuse the non - intuitive menu. From this point on wards there is not much more going on that to loot, level, and kill poorly scripted AI that judge to kill you for no good reason. For me this game has nothing to offer, because its just a grind for the sake of grinding without any real reward. Single would refund it if I would not have bought it with a discount from a 3rd party. TL; DR: Nothing is interesting beside the pretty game engine. Would refund if I had not bought a key from a 3rd party.',\n",
              "       'Cant Segz Godrick'], dtype=object)"
            ]
          },
          "metadata": {},
          "execution_count": 48
        }
      ]
    },
    {
      "cell_type": "code",
      "source": [
        "# Split the data into training and testing sets\n",
        "train_reviews, test_reviews, train_labels, test_labels = train_test_split(\n",
        "    reviews_bal, labels_bal, test_size=0.2, random_state=42)\n",
        "\n",
        "# Further split the training set into training and validation sets\n",
        "train_reviews, val_reviews, train_labels, val_labels = train_test_split(\n",
        "    train_reviews, train_labels, test_size=0.2, random_state=42)"
      ],
      "metadata": {
        "id": "BgwnJ35uoKbI"
      },
      "execution_count": null,
      "outputs": []
    },
    {
      "cell_type": "code",
      "source": [
        "# Load the DistilBERT tokenizer\n",
        "tokenizer = DistilBertTokenizer.from_pretrained('distilbert-base-uncased')\n",
        "\n",
        "# Tokenize the training reviews\n",
        "train_encodings = tokenizer.batch_encode_plus(\n",
        "    train_reviews.tolist(),\n",
        "    truncation=True,\n",
        "    padding=True,\n",
        "    return_token_type_ids=False,\n",
        "    max_length=512,\n",
        "    return_attention_mask=True,\n",
        "    return_tensors='tf'\n",
        ")\n",
        "\n",
        "# Tokenize the validation reviews\n",
        "val_encodings = tokenizer.batch_encode_plus(\n",
        "    val_reviews.tolist(),\n",
        "    truncation=True,\n",
        "    padding=True,\n",
        "    return_token_type_ids=False,\n",
        "    max_length=512,\n",
        "    return_attention_mask=True,\n",
        "    return_tensors='tf'\n",
        ")\n",
        "\n",
        "# Tokenize the testing reviews\n",
        "test_encodings = tokenizer.batch_encode_plus(\n",
        "    test_reviews.tolist(),\n",
        "    truncation=True,\n",
        "    padding=True,\n",
        "    return_token_type_ids=False,\n",
        "    max_length=512,\n",
        "    return_attention_mask=True,\n",
        "    return_tensors='tf'\n",
        ")\n"
      ],
      "metadata": {
        "id": "8HD-xutfwVZ2"
      },
      "execution_count": null,
      "outputs": []
    },
    {
      "cell_type": "code",
      "source": [
        "# Create TensorFlow datasets from the tokenized data\n",
        "train_dataset = tf.data.Dataset.from_tensor_slices((\n",
        "    {\n",
        "        'input_ids': train_encodings['input_ids'],\n",
        "        'attention_mask': train_encodings['attention_mask']\n",
        "    },\n",
        "    train_labels\n",
        "))\n",
        "\n",
        "val_dataset = tf.data.Dataset.from_tensor_slices((\n",
        "    {\n",
        "        'input_ids': val_encodings['input_ids'],\n",
        "        'attention_mask': val_encodings['attention_mask']\n",
        "    },\n",
        "    val_labels\n",
        "))\n",
        "\n",
        "test_dataset = tf.data.Dataset.from_tensor_slices((\n",
        "    {\n",
        "        'input_ids': test_encodings['input_ids'],\n",
        "        'attention_mask': test_encodings['attention_mask']\n",
        "    },\n",
        "    test_labels\n",
        "))\n"
      ],
      "metadata": {
        "id": "h6dFsW7bwmld"
      },
      "execution_count": null,
      "outputs": []
    },
    {
      "cell_type": "code",
      "source": [
        "# Load the pre-trained DistilBERT model\n",
        "model = TFDistilBertForSequenceClassification.from_pretrained('distilbert-base-uncased')\n",
        "\n",
        "# Compile the model. We can tweak the hyperparameters later\n",
        "model.compile(\n",
        "    optimizer=tf.keras.optimizers.Adam(learning_rate=2e-5),\n",
        "    loss=tf.keras.losses.SparseCategoricalCrossentropy(from_logits=True),\n",
        "    metrics=[tf.keras.metrics.SparseCategoricalAccuracy('accuracy')]\n",
        ")\n"
      ],
      "metadata": {
        "colab": {
          "base_uri": "https://localhost:8080/"
        },
        "outputId": "be8b9475-5d26-4912-8e03-c0a415f863d5",
        "id": "DhTpK91twsUN"
      },
      "execution_count": null,
      "outputs": [
        {
          "output_type": "stream",
          "name": "stderr",
          "text": [
            "Some weights of the PyTorch model were not used when initializing the TF 2.0 model TFDistilBertForSequenceClassification: ['vocab_layer_norm.weight', 'vocab_layer_norm.bias', 'vocab_transform.weight', 'vocab_transform.bias', 'vocab_projector.bias']\n",
            "- This IS expected if you are initializing TFDistilBertForSequenceClassification from a PyTorch model trained on another task or with another architecture (e.g. initializing a TFBertForSequenceClassification model from a BertForPreTraining model).\n",
            "- This IS NOT expected if you are initializing TFDistilBertForSequenceClassification from a PyTorch model that you expect to be exactly identical (e.g. initializing a TFBertForSequenceClassification model from a BertForSequenceClassification model).\n",
            "Some weights or buffers of the TF 2.0 model TFDistilBertForSequenceClassification were not initialized from the PyTorch model and are newly initialized: ['pre_classifier.weight', 'pre_classifier.bias', 'classifier.weight', 'classifier.bias']\n",
            "You should probably TRAIN this model on a down-stream task to be able to use it for predictions and inference.\n"
          ]
        }
      ]
    },
    {
      "cell_type": "code",
      "source": [
        "# Train the model\n",
        "history = model.fit(\n",
        "    train_dataset.shuffle(100).batch(16),\n",
        "    epochs=3,\n",
        "    batch_size=16,\n",
        "    validation_data=val_dataset.shuffle(100).batch(16),\n",
        "    verbose=1\n",
        ")"
      ],
      "metadata": {
        "colab": {
          "base_uri": "https://localhost:8080/"
        },
        "outputId": "605fa5fb-5e02-4fd0-bb84-59d22791f63b",
        "id": "J1HZTUxLwsUT"
      },
      "execution_count": null,
      "outputs": [
        {
          "output_type": "stream",
          "name": "stdout",
          "text": [
            "Epoch 1/3\n",
            "416/416 [==============================] - 102s 192ms/step - loss: 0.2318 - accuracy: 0.9168 - val_loss: 0.1693 - val_accuracy: 0.9465\n",
            "Epoch 2/3\n",
            "416/416 [==============================] - 63s 150ms/step - loss: 0.1056 - accuracy: 0.9643 - val_loss: 0.1754 - val_accuracy: 0.9392\n",
            "Epoch 3/3\n",
            "416/416 [==============================] - 55s 131ms/step - loss: 0.0518 - accuracy: 0.9836 - val_loss: 0.1680 - val_accuracy: 0.9561\n"
          ]
        }
      ]
    },
    {
      "cell_type": "markdown",
      "source": [
        "# Evaluation"
      ],
      "metadata": {
        "id": "wHjzUKs9wsUU"
      }
    },
    {
      "cell_type": "code",
      "source": [
        "from sklearn.metrics import f1_score\n",
        "\n",
        "# Evaluate the model on the test dataset\n",
        "results = model.evaluate(test_dataset.batch(16), verbose=0)\n",
        "accuracy = results[1]\n",
        "\n",
        "# Get accuracy and F1 score\n",
        "predictions = model.predict(test_dataset.batch(16)).logits.argmax(axis=-1)\n",
        "f1 = f1_score(test_labels, predictions)\n",
        "\n",
        "print('Accuracy:', accuracy)\n",
        "print('F1 score:', f1)"
      ],
      "metadata": {
        "colab": {
          "base_uri": "https://localhost:8080/"
        },
        "outputId": "c5ad6f18-469d-4d27-d592-89e7998faa9f",
        "id": "nGfK-8cXwsUU"
      },
      "execution_count": null,
      "outputs": [
        {
          "output_type": "stream",
          "name": "stdout",
          "text": [
            "130/130 [==============================] - 7s 39ms/step\n",
            "Accuracy: 0.9441770911216736\n",
            "F1 score: 0.9686147186147186\n"
          ]
        }
      ]
    },
    {
      "cell_type": "code",
      "source": [
        "#Classification metrics\n",
        "from sklearn.metrics import classification_report\n",
        "\n",
        "metrics = classification_report(test_labels, predictions)"
      ],
      "metadata": {
        "id": "Nh8PwI_qwsUU"
      },
      "execution_count": null,
      "outputs": []
    },
    {
      "cell_type": "code",
      "source": [
        "print(metrics)"
      ],
      "metadata": {
        "colab": {
          "base_uri": "https://localhost:8080/"
        },
        "outputId": "fe65a773-8ee2-4681-89e6-1b539f15cc1f",
        "id": "ITbxjQojwsUU"
      },
      "execution_count": null,
      "outputs": [
        {
          "output_type": "stream",
          "name": "stdout",
          "text": [
            "              precision    recall  f1-score   support\n",
            "\n",
            "       False       0.81      0.69      0.75       248\n",
            "        True       0.96      0.98      0.97      1830\n",
            "\n",
            "    accuracy                           0.94      2078\n",
            "   macro avg       0.89      0.84      0.86      2078\n",
            "weighted avg       0.94      0.94      0.94      2078\n",
            "\n"
          ]
        }
      ]
    },
    {
      "cell_type": "code",
      "source": [
        "# Calculate the confusion matrix\n",
        "cm = confusion_matrix(test_labels, predictions)\n",
        "\n",
        "# Plot the confusion matrix\n",
        "plt.figure(figsize=(8, 6))\n",
        "sns.heatmap(cm, annot=True, fmt=\"d\", cmap=\"Blues\")\n",
        "plt.title(\"Confusion Matrix\")\n",
        "plt.xlabel(\"Predicted Labels\")\n",
        "plt.ylabel(\"True Labels\")\n",
        "plt.show()\n",
        "\n",
        "# Plot a bar plot to visualize the distribution of predicted labels\n",
        "predicted_counts = pd.Series(predictions).value_counts()\n",
        "plt.figure(figsize=(6, 4))\n",
        "sns.barplot(x=predicted_counts.index, y=predicted_counts.values)\n",
        "plt.title(\"Distribution of Predicted Labels\")\n",
        "plt.xlabel(\"Labels\")\n",
        "plt.ylabel(\"Count\")\n",
        "plt.show()"
      ],
      "metadata": {
        "colab": {
          "base_uri": "https://localhost:8080/",
          "height": 957
        },
        "id": "f6vmkHBamkpB",
        "outputId": "ad0acbd0-a773-4dfd-c6a2-21c2352c3d8b"
      },
      "execution_count": null,
      "outputs": [
        {
          "output_type": "display_data",
          "data": {
            "text/plain": [
              "<Figure size 800x600 with 2 Axes>"
            ],
            "image/png": "[encoded data removed]"
          },
          "metadata": {}
        },
        {
          "output_type": "display_data",
          "data": {
            "text/plain": [
              "<Figure size 600x400 with 1 Axes>"
            ],
            "image/png": "[encoded data removed]"
          },
          "metadata": {}
        }
      ]
    },
    {
      "cell_type": "code",
      "source": [],
      "metadata": {
        "id": "Ip1sPZrPRDs7"
      },
      "execution_count": null,
      "outputs": []
    }
  ]
}